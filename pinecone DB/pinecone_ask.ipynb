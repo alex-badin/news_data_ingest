{
 "cells": [
  {
   "cell_type": "markdown",
   "metadata": {},
   "source": [
    "Ask_media via pinecone\n",
    "- set request & filters\n",
    "- embed request\n",
    "- ask pinecone - embed & filters -> get texts & links"
   ]
  },
  {
   "cell_type": "markdown",
   "metadata": {},
   "source": [
    "# Imports & constants"
   ]
  },
  {
   "cell_type": "code",
   "execution_count": 1,
   "metadata": {},
   "outputs": [
    {
     "name": "stderr",
     "output_type": "stream",
     "text": [
      "/Users/alexbadin/miniconda3/envs/ask_media/lib/python3.10/site-packages/pinecone/index.py:4: TqdmWarning: IProgress not found. Please update jupyter and ipywidgets. See https://ipywidgets.readthedocs.io/en/stable/user_install.html\n",
      "  from tqdm.autonotebook import tqdm\n"
     ]
    }
   ],
   "source": [
    "import pinecone\n",
    "import json\n",
    "from tqdm.notebook import tqdm_notebook\n",
    "from tqdm import tqdm\n",
    "import os\n",
    "import pandas as pd\n",
    "import datetime\n",
    "from datetime import timedelta, datetime\n",
    "import time\n",
    "\n",
    "import openai\n",
    "\n",
    "keys_path = '../keys/'\n",
    "data_path = '../../TG_messages/'"
   ]
  },
  {
   "cell_type": "code",
   "execution_count": 2,
   "metadata": {},
   "outputs": [],
   "source": [
    "with open(keys_path+'api_keys.json') as f:\n",
    "  data = json.loads(f.read())\n",
    "\n",
    "#load openai credentials\n",
    "openai_key = data['openai_key']\n",
    "\n",
    "# load pinecone credentials\n",
    "pine_key = data['pine_key']\n",
    "pine_env = data['pine_env']"
   ]
  },
  {
   "cell_type": "code",
   "execution_count": 3,
   "metadata": {},
   "outputs": [
    {
     "data": {
      "text/plain": [
       "{'dimension': 1536,\n",
       " 'index_fullness': 0.4712,\n",
       " 'namespaces': {'': {'vector_count': 47120}},\n",
       " 'total_vector_count': 47120}"
      ]
     },
     "execution_count": 3,
     "metadata": {},
     "output_type": "execute_result"
    }
   ],
   "source": [
    "pinecone.init(api_key=pine_key, environment=pine_env)\n",
    "index_name = 'tg-news'\n",
    "\n",
    "index = pinecone.Index(index_name)\n",
    "\n",
    "index.describe_index_stats()"
   ]
  },
  {
   "cell_type": "code",
   "execution_count": 7,
   "metadata": {},
   "outputs": [],
   "source": [
    "# set up openai\n",
    "openai.api_key = openai_key\n",
    "def get_embedding(text, model=\"text-embedding-ada-002\"):\n",
    "   text = text.replace(\"\\n\", \" \")\n",
    "   return openai.Embedding.create(input = [text], model=model)['data'][0]['embedding']"
   ]
  },
  {
   "cell_type": "markdown",
   "metadata": {},
   "source": [
    "# Ask pinecone"
   ]
  },
  {
   "cell_type": "code",
   "execution_count": 5,
   "metadata": {},
   "outputs": [],
   "source": [
    "# FILTERS\n",
    "# metadata: 'cleaned_message', 'summary', 'stance', 'channel', 'date', 'views'\n",
    "stance = 'voenkor'\n",
    "dates = ['2021-10-20', '2021-10-24']\n",
    "# define start and end dates (if end date is not defined, it will be set to today)\n",
    "if len(dates) == 2:\n",
    "  start_date = dates[0]\n",
    "  end_date = dates[1]\n",
    "else:\n",
    "  start_date = dates[0]\n",
    "  end_date = datetime.today().strftime('%Y-%m-%d')\n",
    "\n",
    "# convert start_date to int\n",
    "start_date = int(datetime.strptime(start_date, '%Y-%m-%d').timestamp())\n",
    "end_date = int(datetime.strptime(end_date, '%Y-%m-%d').timestamp())\n",
    "\n",
    "# filtering\n",
    "filter = {\n",
    "  \"stance\": { \"$eq\": stance },\n",
    "  \"date\": { \"$gte\": start_date },\n",
    "  \"date\": { \"$lte\": end_date }\n",
    "}"
   ]
  },
  {
   "cell_type": "code",
   "execution_count": 10,
   "metadata": {},
   "outputs": [
    {
     "data": {
      "text/plain": [
       "{'stance': {'$eq': 'voenkor'}, 'date': {'$lte': 1635019200}}"
      ]
     },
     "execution_count": 10,
     "metadata": {},
     "output_type": "execute_result"
    }
   ],
   "source": [
    "filter"
   ]
  },
  {
   "cell_type": "code",
   "execution_count": 16,
   "metadata": {},
   "outputs": [],
   "source": [
    "dates = ['2021-10-20']\n",
    "\n",
    "if dates:\n",
    "    if len(dates) == 2:\n",
    "        # convert start_date to int\n",
    "        start_date = dates[0]\n",
    "        end_date = dates[1]\n",
    "    else:\n",
    "        start_date = dates[0]\n",
    "        end_date = datetime.today().strftime('%Y-%m-%d')\n",
    "else:\n",
    "    start_date = '2022-02-01'\n",
    "    end_date = datetime.today().strftime('%Y-%m-%d')\n",
    "\n",
    "# filtering\n",
    "start_date = int(datetime.strptime(start_date, '%Y-%m-%d').timestamp())\n",
    "end_date = int(datetime.strptime(end_date, '%Y-%m-%d').timestamp())\n",
    "\n",
    "filter = {\n",
    "    \"stance\": { \"$eq\": stance },\n",
    "    \"date\": { \"$gte\": start_date, \"$lte\": end_date },\n",
    "    }"
   ]
  },
  {
   "cell_type": "code",
   "execution_count": 17,
   "metadata": {},
   "outputs": [
    {
     "data": {
      "text/plain": [
       "{'stance': {'$eq': 'voenkor'},\n",
       " 'date': {'$gte': 1634673600, '$lte': 1698004800}}"
      ]
     },
     "execution_count": 17,
     "metadata": {},
     "output_type": "execute_result"
    }
   ],
   "source": [
    "filter"
   ]
  },
  {
   "cell_type": "code",
   "execution_count": 18,
   "metadata": {},
   "outputs": [],
   "source": [
    "question_emb = get_embedding(\"Что происходит в Израиле\")\n",
    "res = index.query(question_emb, top_k=10, include_metadata=True, filter=filter)"
   ]
  },
  {
   "cell_type": "code",
   "execution_count": 28,
   "metadata": {},
   "outputs": [
    {
     "data": {
      "text/plain": [
       "[{'id': 'voenacher_54287',\n",
       "  'score': 0.865285635,\n",
       "  'values': [],\n",
       "  'metadata': {'channel': 'voenacher',\n",
       "   'cleaned_message': '❗ Разборы Рыбаря: итоги 12 октября 2023 года\\n\\nМихаил Звинчук в своей авторской передаче на @SolovievLive подводит итоги событий на фронтах специальной военной операции и рассказывает о значимых происшествиях в кризисных районах мира.\\n\\nВ сегодняшнем выпуске:\\n\\n Зона израильско-палестинского конфликта:\\n▪продолжение ударов по городам Израиля и бомбардировок Сектора Газа.\\n▪Египет готовит гуманитарную миссию;\\n▪США перебрасывают спецназ для эвакуации заложников;\\n▪глава Госдепа Энтони Блинкен посетил в Израиль;\\n▪зачем ВВС Израиля опять ударили по Сирии;\\n▪как эскалация отразилась на экономике Израиля.\\n\\n Зона специальной военной операции:\\n▪продолжение боев на Авдеевском участке;\\n▪временное затишье на Времьевском выступе.\\n\\nПостсоветское пространство:\\n▪Молдавия окончательно теряет единственный морской порт.\\n#видео #разбор\\n@rybar\\n\\nПоддержать нас',\n",
       "   'date': 1697054400.0,\n",
       "   'stance': 'voenkor',\n",
       "   'summary': 'Михаил Звинчук в своей авторской передаче на @SolovievLive подводит итоги событий на фронтах специальной военной операции и рассказывает о значимых происшествиях в кризисных районах мира. Зона израильско-палестинского конфликта: ▪продолжение ударов по городам Израиля и бомбардировок Сектора Газа. ▪Египет готовит гуманитарную миссию; ▪США перебрасывают спецназ для эвакуации заложников; ▪глава Госдепа Энтони Блинкен посетил в Израиль; ▪зачем ВВС Израиля опять ударили по Сирии; ▪как эскалация отразилась на экономике Израиля.',\n",
       "   'views': 203823.0}},\n",
       " {'id': 'rybar_53174',\n",
       "  'score': 0.865075,\n",
       "  'values': [],\n",
       "  'metadata': {'channel': 'rybar',\n",
       "   'cleaned_message': '❗ Разборы Рыбаря: итоги 12 октября 2023 года\\n\\nМихаил Звинчук в своей авторской передаче на @SolovievLive подводит итоги событий на фронтах специальной военной операции и рассказывает о значимых происшествиях в кризисных районах мира.\\n\\nВ сегодняшнем выпуске:\\n\\n Зона израильско-палестинского конфликта:\\n▪продолжение ударов по городам Израиля и бомбардировок Сектора Газа.\\n▪Египет готовит гуманитарную миссию;\\n▪США перебрасывают спецназ для эвакуации заложников;\\n▪глава Госдепа Энтони Блинкен посетил в Израиль;\\n▪зачем ВВС Израиля опять ударили по Сирии;\\n▪как эскалация отразилась на экономике Израиля.\\n\\n Зона специальной военной операции:\\n▪продолжение боев на Авдеевском участке;\\n▪временное затишье на Времьевском выступе.\\n\\nПостсоветское пространство:\\n▪Молдавия окончательно теряет единственный морской порт.\\n#видео #разбор\\n@rybar\\n\\nПоддержать нас',\n",
       "   'date': 1697054400.0,\n",
       "   'stance': 'voenkor',\n",
       "   'summary': 'Михаил Звинчук в своей авторской передаче на @SolovievLive подводит итоги событий на фронтах специальной военной операции и рассказывает о значимых происшествиях в кризисных районах мира. Зона израильско-палестинского конфликта: ▪продолжение ударов по городам Израиля и бомбардировок Сектора Газа. ▪Египет готовит гуманитарную миссию; ▪США перебрасывают спецназ для эвакуации заложников; ▪глава Госдепа Энтони Блинкен посетил в Израиль; ▪зачем ВВС Израиля опять ударили по Сирии; ▪как эскалация отразилась на экономике Израиля.',\n",
       "   'views': 518385.0}},\n",
       " {'id': 'voenacher_53712',\n",
       "  'score': 0.862731099,\n",
       "  'values': [],\n",
       "  'metadata': {'channel': 'voenacher',\n",
       "   'cleaned_message': 'В Сдероте полиция Израиля продолжает проведение контртеррористических мероприятий',\n",
       "   'date': 1696622400.0,\n",
       "   'stance': 'voenkor',\n",
       "   'summary': 'В Сдероте полиция Израиля продолжает проведение контртеррористических мероприятий',\n",
       "   'views': 192039.0}},\n",
       " {'id': 'voenacher_53647',\n",
       "  'score': 0.859736681,\n",
       "  'values': [],\n",
       "  'metadata': {'channel': 'voenacher',\n",
       "   'cleaned_message': 'Чрезвычайное положение вводится на территории всего Израиля — СМИ',\n",
       "   'date': 1696622400.0,\n",
       "   'stance': 'voenkor',\n",
       "   'summary': 'Чрезвычайное положение вводится на территории всего Израиля — СМИ',\n",
       "   'views': 181041.0}},\n",
       " {'id': 'voenacher_53804',\n",
       "  'score': 0.858711302,\n",
       "  'values': [],\n",
       "  'metadata': {'channel': 'voenacher',\n",
       "   'cleaned_message': 'Израильские армейские части прибывшие на усиление, и пикап с вооружёнными палестинцами ночью на улицах Ашкелона.',\n",
       "   'date': 1696708800.0,\n",
       "   'stance': 'voenkor',\n",
       "   'summary': 'Израильские армейские части прибывшие на усиление, и пикап с вооружёнными палестинцами ночью на улицах Ашкелона.',\n",
       "   'views': 213302.0}},\n",
       " {'id': 'voenacher_53654',\n",
       "  'score': 0.858528197,\n",
       "  'values': [],\n",
       "  'metadata': {'channel': 'voenacher',\n",
       "   'cleaned_message': 'Так израильских граждан насильно вывозят в Сектор Газа. На фото уже находящиеся там в плену израильтяне.',\n",
       "   'date': 1696622400.0,\n",
       "   'stance': 'voenkor',\n",
       "   'summary': 'Так израильских граждан насильно вывозят в Сектор Газа. На фото уже находящиеся там в плену израильтяне.',\n",
       "   'views': 179419.0}},\n",
       " {'id': 'voenacher_53786',\n",
       "  'score': 0.858308077,\n",
       "  'values': [],\n",
       "  'metadata': {'channel': 'voenacher',\n",
       "   'cleaned_message': 'Иерусалим. Беспорядки в ходе которых местные арабы противостоят израильским силовикам. На втором видео бунт израильских арабов в одном из городов.',\n",
       "   'date': 1696708800.0,\n",
       "   'stance': 'voenkor',\n",
       "   'summary': 'Иерусалим. Беспорядки в ходе которых местные арабы противостоят израильским силовикам. На втором видео бунт израильских арабов в одном из городов.',\n",
       "   'views': 220935.0}},\n",
       " {'id': 'voenacher_54157',\n",
       "  'score': 0.858165622,\n",
       "  'values': [],\n",
       "  'metadata': {'channel': 'voenacher',\n",
       "   'cleaned_message': 'Израильские ресурсы сообщают о сложной ситуации на границе с Ливаном',\n",
       "   'date': 1696968000.0,\n",
       "   'stance': 'voenkor',\n",
       "   'summary': 'Израильские ресурсы сообщают о сложной ситуации на границе с Ливаном',\n",
       "   'views': 230827.0}},\n",
       " {'id': 'rybar_53281',\n",
       "  'score': 0.857596636,\n",
       "  'values': [],\n",
       "  'metadata': {'channel': 'rybar',\n",
       "   'cleaned_message': '  В Кейптауне и других крупных городах ЮАР прошли массовые акции протеста против действий Израиля на территории Сектора Газа.\\n\\nСотни граждан выкрикивали антивоенные лозунги, называли Израиль государством апартеида и призывали президента ЮАР Сирила Рамафосу к организации помощи палестинцам и аннулированию лицензии израильской авиакомпании El Al. \\n\\nМногие участники протеста несли флаги Палестины и ЮАР, а также транспаранты с призывами солидарности с палестинцами. В демонстрациях приняли участие представители различных религиозных конфессий, включая мусульман, христиан и иудеев.\\n\\nНа одну из акций вышел сам Сирил Рамафоса в палестинском платке. Он призвал к немедленному открытию гуманитарных коридоров и заявил, что правящая партия «Африканский национальный конгресс» выражает соболезнования народам Израиля и Палестины.\\n\\nЕдинственным выходом из ситуации, по мнению президента ЮАР, является реализация инициативы по созданию двух отдельных государств в границах 1967 года.\\n#Африка #ЮАР #Изариль #видео\\n@rybar\\n\\nПоддержать нас',\n",
       "   'date': 1697313600.0,\n",
       "   'stance': 'voenkor',\n",
       "   'summary': 'В Кейптауне и других крупных городах ЮАР прошли массовые акции протеста против действий Израиля на территории Сектора Газа. В демонстрациях приняли участие представители различных религиозных конфессий, включая мусульман, христиан и иудеев. На одну из акций вышел сам Сирил Рамафоса в палестинском платке.',\n",
       "   'views': 354441.0}},\n",
       " {'id': 'rybar_52971',\n",
       "  'score': 0.857543,\n",
       "  'values': [],\n",
       "  'metadata': {'channel': 'rybar',\n",
       "   'cleaned_message': '❗ Обострение в зоне израильско-палестинского конфликта\\nобстановка по состоянию на 13.00 9 октября 2023 года\\n\\nУ сектора Газа продолжаются столкновения между еще оставшимися на израильской территории палестинскими боевиками и Армией обороны Израиля (АОИ). Последние заявили о восстановлении контроля над всеми населенными пунктами по периметру анклава и проведении зачистки территории.\\n\\nИзраильское военно-политическое руководство заявило о планах полностью уничтожить ХАМАС и ведет с оппозицией переговоры о создании единого чрезвычайного правительства для легитимации своих действий в борьбе против группировок.\\n\\nСеверное направление:\\n\\n▪В последние часы в Зикиме и Сдероте шли эпизодические бои, в район прибыли десантники из бригады «Цанханим». В Шаар-Ха-Негев произошли перестрелки с разрозненными группами боевиков, которым удалось убить как минимум четырех израильских военнослужащих. \\n\\n▪Бойцы АОИ перехватили боевиков у кибуца Кфар-Аза, помешав им зайти в населенный пункт. Бои у населенного пункта на данный момент продолжаются.\\n\\nВосточное направление:\\n\\n▪В населенных пунктах Алумим и Нирим идут перестрелки. Информация о локальных боях время от времени подтверждается сообщениями АОИ о ликвидации одного-двух боевиков. \\n\\n▪Малые группы членов палестинских формирований на мотоциклах перемещаются между небольшими населенными пунктами и пытаются создать эффект широкого присутствия вдоль условной линии фронта.\\n\\nИ все же массовое присутствие палестинцев в приграничных городах Израиля, по всей видимости, постепенно сходит на нет.\\n\\nМассированные обстрелы:\\n\\n▪Со вчерашнего вечера и до нынешнего момента израильский ВВС наносят массированные удары по целям на территории сектора Газа. Палестинская сторона традиционно обвинила израильтян в неизбирательных ударах и массовых убийствах гражданских. \\n\\nИ это отчасти правда — с учетом плотности населения в Газе не попасть по гражданским довольно трудно. Да и сами палестинские группировки стараются максимально использовать гибель гражданских в качестве аргумента против Израиля.\\n\\n▪В ответ ХАМАС произвел залп по Ашкелону и другим городам. Несколько ударов пришлось по Иерусалиму, Ришон-ле-Циону и аэропорту Бен-Гурион в Тель-Авиве.\\n\\n▪С перехватом ракет у израильской ПВО возникают определенные трудности. После третьего дня залпов система «Железный купол» пропускает все больше ракет, и все чаще фиксируются попадания, приводящие к жертвам. \\n\\nОдновременно распространяются слухи о грядущем дефиците у Израиля ракет ПВО, почву для которых ещё вчера дало заявление о просьбе к США предоставить зенитные ракеты.\\n\\nЗападный берег:\\n\\nНа Западном берегу после масштабных протестов и столкновений с наступлением дня ситуация несколько успокоилась. Однако и там продолжаются операции израильских силовых структур и нападения палестинцев.\\n\\n▪В Дотане и Хармише утром произошла перестрелка, а в Наблусе —митинги и столкновения, в том числе с применением оружия. На севере, в районе Тулькарма и Нецани Оз продолжаются протесты и столкновения, хотя до полноценных уличных боев еще не дошло.\\n\\nНа фоне событий минувшего дня можно предположить что с наступлением темноты арабская молодежь вновь выйдет на улицы городов Западного берега.\\n\\nКарта в высоком разрешении\\n\\nEnglish version\\n\\nПредыдущие сводки с обстановкой: вчера | 7 октября\\n\\n#дайджест #карта #Израиль #Палестина\\n@rybar\\n\\nПоддержать нас',\n",
       "   'date': 1696795200.0,\n",
       "   'stance': 'voenkor',\n",
       "   'summary': 'У сектора Газа продолжаются столкновения между еще оставшимися на израильской территории палестинскими боевиками и Армией обороны Израиля (АОИ). ▪Малые группы членов палестинских формирований на мотоциклах перемещаются между небольшими населенными пунктами и пытаются создать эффект широкого присутствия вдоль условной линии фронта. И все же массовое присутствие палестинцев в приграничных городах Израиля, по всей видимости, постепенно сходит на нет.',\n",
       "   'views': 305796.0}}]"
      ]
     },
     "execution_count": 28,
     "metadata": {},
     "output_type": "execute_result"
    }
   ],
   "source": [
    "res.to_dict()['matches']"
   ]
  },
  {
   "cell_type": "code",
   "execution_count": null,
   "metadata": {},
   "outputs": [],
   "source": []
  },
  {
   "cell_type": "code",
   "execution_count": null,
   "metadata": {},
   "outputs": [],
   "source": []
  },
  {
   "cell_type": "code",
   "execution_count": null,
   "metadata": {},
   "outputs": [],
   "source": []
  },
  {
   "cell_type": "code",
   "execution_count": null,
   "metadata": {},
   "outputs": [],
   "source": []
  },
  {
   "cell_type": "code",
   "execution_count": 74,
   "metadata": {},
   "outputs": [],
   "source": [
    "# add criteria to filter dict\n",
    "filter = {}\n",
    "if stance:\n",
    "    filter['stance'] = {\"$eq\": stance}\n",
    "if dates:\n",
    "    if len(dates) == 2:\n",
    "        start_date = int(datetime.strptime(dates[0], '%Y-%m-%d').timestamp())\n",
    "        end_date = int(datetime.strptime(dates[1], '%Y-%m-%d').timestamp())\n",
    "        filter['&and'] = [{\"date\": {\"$gte\": start_date}}, {\"date\": {\"$lte\": end_date}}]\n",
    "    else:\n",
    "        filter['date'] = {\"$gte\": start_date}"
   ]
  },
  {
   "cell_type": "code",
   "execution_count": 81,
   "metadata": {},
   "outputs": [],
   "source": [
    "if dates:\n",
    "    if len(dates) == 2:\n",
    "        # convert start_date to int\n",
    "        start_date = int(datetime.strptime(dates[0], '%Y-%m-%d').timestamp())\n",
    "        end_date = int(datetime.strptime(dates[1], '%Y-%m-%d').timestamp())\n",
    "    else:\n",
    "        start_date = dates[0]\n",
    "        end_date = datetime.today().strftime('%Y-%m-%d')\n",
    "else:\n",
    "    start_date = int(datetime.strptime('2022-02-01', '%Y-%m-%d').timestamp())\n",
    "    end_date = datetime.today().strftime('%Y-%m-%d')\n",
    "\n",
    "# keep filter as json\n",
    "filter = json.dumps(filter)\n",
    "\n",
    "filter = {\n",
    "    \"stance\": { \"$eq\": stance },\n",
    "    \"date\": { \"$gte\": start_date },\n",
    "    \"date\": { \"$lte\": end_date }\n",
    "    }"
   ]
  },
  {
   "cell_type": "code",
   "execution_count": 70,
   "metadata": {},
   "outputs": [
    {
     "data": {
      "text/plain": [
       "['2023-10-02', '2023-10-03']"
      ]
     },
     "execution_count": 70,
     "metadata": {},
     "output_type": "execute_result"
    }
   ],
   "source": [
    "dates"
   ]
  },
  {
   "cell_type": "code",
   "execution_count": 82,
   "metadata": {},
   "outputs": [
    {
     "data": {
      "text/plain": [
       "{'stance': {'$eq': 'voenkor'}, 'date': {'$lte': 1696276800}}"
      ]
     },
     "execution_count": 82,
     "metadata": {},
     "output_type": "execute_result"
    }
   ],
   "source": [
    "filter"
   ]
  },
  {
   "cell_type": "code",
   "execution_count": 105,
   "metadata": {},
   "outputs": [
    {
     "data": {
      "text/plain": [
       "1697745600"
      ]
     },
     "execution_count": 105,
     "metadata": {},
     "output_type": "execute_result"
    }
   ],
   "source": [
    "start_date = datetime.today().strftime('%Y-%m-%d')\n",
    "int(datetime.strptime(start_date, '%Y-%m-%d').timestamp())\n"
   ]
  },
  {
   "cell_type": "code",
   "execution_count": null,
   "metadata": {},
   "outputs": [],
   "source": [
    "# FILTERS\n",
    "# metadata: 'cleaned_message', 'summary', 'stance', 'channel', 'date', 'views'\n",
    "stance = 'voenkor'\n",
    "\n",
    "dates = ['2023-10-02', '2023-10-03']\n",
    "\n",
    "if dates:\n",
    "    if len(dates) == 1:\n",
    "        filter = {\n",
    "            \"stance\": { \"$eq\": stance },\n",
    "            \"date\": { \"$gte\": start_date }\n",
    "            }\n",
    "    elif len(dates) == 2:\n",
    "        filter = {\n",
    "            \"stance\": { \"$eq\": stance },\n",
    "            \"date\": { \"$gte\": start_date },\n",
    "            \"date\": { \"$lte\": end_date }\n",
    "            }"
   ]
  },
  {
   "cell_type": "code",
   "execution_count": 76,
   "metadata": {},
   "outputs": [
    {
     "ename": "ApiException",
     "evalue": "(400)\nReason: Bad Request\nHTTP response headers: HTTPHeaderDict({'content-type': 'application/json', 'Content-Length': '145', 'date': 'Fri, 20 Oct 2023 18:06:55 GMT', 'x-envoy-upstream-service-time': '2', 'server': 'envoy', 'Via': '1.1 google', 'Alt-Svc': 'h3=\":443\"; ma=2592000,h3-29=\":443\"; ma=2592000'})\nHTTP response body: {\"code\":3,\"message\":\"illegal condition for field &and, got [{\\\"date\\\":{\\\"$gte\\\":1696190400.0}},{\\\"date\\\":{\\\"$lte\\\":1696276800.0}}]\",\"details\":[]}\n",
     "output_type": "error",
     "traceback": [
      "\u001b[0;31m---------------------------------------------------------------------------\u001b[0m",
      "\u001b[0;31mApiException\u001b[0m                              Traceback (most recent call last)",
      "\u001b[1;32m/Users/alexbadin/Library/CloudStorage/GoogleDrive-alex.badin@gmail.com/My Drive/Colab Notebooks/Narratives/notebooks_ask_media/pinecone DB/ask_pinecone.ipynb Cell 14\u001b[0m line \u001b[0;36m2\n\u001b[1;32m      <a href='vscode-notebook-cell:/Users/alexbadin/Library/CloudStorage/GoogleDrive-alex.badin%40gmail.com/My%20Drive/Colab%20Notebooks/Narratives/notebooks_ask_media/pinecone%20DB/ask_pinecone.ipynb#X31sZmlsZQ%3D%3D?line=0'>1</a>\u001b[0m question_emb \u001b[39m=\u001b[39m get_embedding(\u001b[39m\"\u001b[39m\u001b[39mКак делa на фронте?\u001b[39m\u001b[39m\"\u001b[39m)\n\u001b[0;32m----> <a href='vscode-notebook-cell:/Users/alexbadin/Library/CloudStorage/GoogleDrive-alex.badin%40gmail.com/My%20Drive/Colab%20Notebooks/Narratives/notebooks_ask_media/pinecone%20DB/ask_pinecone.ipynb#X31sZmlsZQ%3D%3D?line=1'>2</a>\u001b[0m res \u001b[39m=\u001b[39m index\u001b[39m.\u001b[39;49mquery(question_emb, top_k\u001b[39m=\u001b[39;49m\u001b[39m10\u001b[39;49m, include_metadata\u001b[39m=\u001b[39;49m\u001b[39mTrue\u001b[39;49;00m, \u001b[39mfilter\u001b[39;49m\u001b[39m=\u001b[39;49m\u001b[39mfilter\u001b[39;49m)\n\u001b[1;32m      <a href='vscode-notebook-cell:/Users/alexbadin/Library/CloudStorage/GoogleDrive-alex.badin%40gmail.com/My%20Drive/Colab%20Notebooks/Narratives/notebooks_ask_media/pinecone%20DB/ask_pinecone.ipynb#X31sZmlsZQ%3D%3D?line=2'>3</a>\u001b[0m res\u001b[39m.\u001b[39mto_dict()\u001b[39m.\u001b[39mkeys()\n",
      "File \u001b[0;32m~/miniconda3/envs/ask_media/lib/python3.10/site-packages/pinecone/core/utils/error_handling.py:17\u001b[0m, in \u001b[0;36mvalidate_and_convert_errors.<locals>.inner_func\u001b[0;34m(*args, **kwargs)\u001b[0m\n\u001b[1;32m     15\u001b[0m Config\u001b[39m.\u001b[39mvalidate()  \u001b[39m# raises exceptions in case of invalid config\u001b[39;00m\n\u001b[1;32m     16\u001b[0m \u001b[39mtry\u001b[39;00m:\n\u001b[0;32m---> 17\u001b[0m     \u001b[39mreturn\u001b[39;00m func(\u001b[39m*\u001b[39;49margs, \u001b[39m*\u001b[39;49m\u001b[39m*\u001b[39;49mkwargs)\n\u001b[1;32m     18\u001b[0m \u001b[39mexcept\u001b[39;00m MaxRetryError \u001b[39mas\u001b[39;00m e:\n\u001b[1;32m     19\u001b[0m     \u001b[39mif\u001b[39;00m \u001b[39misinstance\u001b[39m(e\u001b[39m.\u001b[39mreason, ProtocolError):\n",
      "File \u001b[0;32m~/miniconda3/envs/ask_media/lib/python3.10/site-packages/pinecone/index.py:455\u001b[0m, in \u001b[0;36mIndex.query\u001b[0;34m(self, vector, id, queries, top_k, namespace, filter, include_values, include_metadata, sparse_vector, **kwargs)\u001b[0m\n\u001b[1;32m    445\u001b[0m sparse_vector \u001b[39m=\u001b[39m \u001b[39mself\u001b[39m\u001b[39m.\u001b[39m_parse_sparse_values_arg(sparse_vector)\n\u001b[1;32m    446\u001b[0m args_dict \u001b[39m=\u001b[39m \u001b[39mself\u001b[39m\u001b[39m.\u001b[39m_parse_non_empty_args([(\u001b[39m'\u001b[39m\u001b[39mvector\u001b[39m\u001b[39m'\u001b[39m, vector),\n\u001b[1;32m    447\u001b[0m                                         (\u001b[39m'\u001b[39m\u001b[39mid\u001b[39m\u001b[39m'\u001b[39m, \u001b[39mid\u001b[39m),\n\u001b[1;32m    448\u001b[0m                                         (\u001b[39m'\u001b[39m\u001b[39mqueries\u001b[39m\u001b[39m'\u001b[39m, queries),\n\u001b[0;32m   (...)\u001b[0m\n\u001b[1;32m    453\u001b[0m                                         (\u001b[39m'\u001b[39m\u001b[39minclude_metadata\u001b[39m\u001b[39m'\u001b[39m, include_metadata),\n\u001b[1;32m    454\u001b[0m                                         (\u001b[39m'\u001b[39m\u001b[39msparse_vector\u001b[39m\u001b[39m'\u001b[39m, sparse_vector)])\n\u001b[0;32m--> 455\u001b[0m response \u001b[39m=\u001b[39m \u001b[39mself\u001b[39;49m\u001b[39m.\u001b[39;49m_vector_api\u001b[39m.\u001b[39;49mquery(\n\u001b[1;32m    456\u001b[0m     QueryRequest(\n\u001b[1;32m    457\u001b[0m         \u001b[39m*\u001b[39;49m\u001b[39m*\u001b[39;49margs_dict,\n\u001b[1;32m    458\u001b[0m         _check_type\u001b[39m=\u001b[39;49m_check_type,\n\u001b[1;32m    459\u001b[0m         \u001b[39m*\u001b[39;49m\u001b[39m*\u001b[39;49m{k: v \u001b[39mfor\u001b[39;49;00m k, v \u001b[39min\u001b[39;49;00m kwargs\u001b[39m.\u001b[39;49mitems() \u001b[39mif\u001b[39;49;00m k \u001b[39mnot\u001b[39;49;00m \u001b[39min\u001b[39;49;00m _OPENAPI_ENDPOINT_PARAMS}\n\u001b[1;32m    460\u001b[0m     ),\n\u001b[1;32m    461\u001b[0m     \u001b[39m*\u001b[39;49m\u001b[39m*\u001b[39;49m{k: v \u001b[39mfor\u001b[39;49;00m k, v \u001b[39min\u001b[39;49;00m kwargs\u001b[39m.\u001b[39;49mitems() \u001b[39mif\u001b[39;49;00m k \u001b[39min\u001b[39;49;00m _OPENAPI_ENDPOINT_PARAMS}\n\u001b[1;32m    462\u001b[0m )\n\u001b[1;32m    463\u001b[0m \u001b[39mreturn\u001b[39;00m parse_query_response(response, vector \u001b[39mis\u001b[39;00m \u001b[39mnot\u001b[39;00m \u001b[39mNone\u001b[39;00m \u001b[39mor\u001b[39;00m \u001b[39mid\u001b[39m)\n",
      "File \u001b[0;32m~/miniconda3/envs/ask_media/lib/python3.10/site-packages/pinecone/core/client/api_client.py:776\u001b[0m, in \u001b[0;36mEndpoint.__call__\u001b[0;34m(self, *args, **kwargs)\u001b[0m\n\u001b[1;32m    765\u001b[0m \u001b[39mdef\u001b[39;00m \u001b[39m__call__\u001b[39m(\u001b[39mself\u001b[39m, \u001b[39m*\u001b[39margs, \u001b[39m*\u001b[39m\u001b[39m*\u001b[39mkwargs):\n\u001b[1;32m    766\u001b[0m \u001b[39m    \u001b[39m\u001b[39m\"\"\" This method is invoked when endpoints are called\u001b[39;00m\n\u001b[1;32m    767\u001b[0m \u001b[39m    Example:\u001b[39;00m\n\u001b[1;32m    768\u001b[0m \n\u001b[0;32m   (...)\u001b[0m\n\u001b[1;32m    774\u001b[0m \n\u001b[1;32m    775\u001b[0m \u001b[39m    \"\"\"\u001b[39;00m\n\u001b[0;32m--> 776\u001b[0m     \u001b[39mreturn\u001b[39;00m \u001b[39mself\u001b[39;49m\u001b[39m.\u001b[39;49mcallable(\u001b[39mself\u001b[39;49m, \u001b[39m*\u001b[39;49margs, \u001b[39m*\u001b[39;49m\u001b[39m*\u001b[39;49mkwargs)\n",
      "File \u001b[0;32m~/miniconda3/envs/ask_media/lib/python3.10/site-packages/pinecone/core/client/api/vector_operations_api.py:716\u001b[0m, in \u001b[0;36mVectorOperationsApi.__init__.<locals>.__query\u001b[0;34m(self, query_request, **kwargs)\u001b[0m\n\u001b[1;32m    713\u001b[0m kwargs[\u001b[39m'\u001b[39m\u001b[39m_host_index\u001b[39m\u001b[39m'\u001b[39m] \u001b[39m=\u001b[39m kwargs\u001b[39m.\u001b[39mget(\u001b[39m'\u001b[39m\u001b[39m_host_index\u001b[39m\u001b[39m'\u001b[39m)\n\u001b[1;32m    714\u001b[0m kwargs[\u001b[39m'\u001b[39m\u001b[39mquery_request\u001b[39m\u001b[39m'\u001b[39m] \u001b[39m=\u001b[39m \\\n\u001b[1;32m    715\u001b[0m     query_request\n\u001b[0;32m--> 716\u001b[0m \u001b[39mreturn\u001b[39;00m \u001b[39mself\u001b[39;49m\u001b[39m.\u001b[39;49mcall_with_http_info(\u001b[39m*\u001b[39;49m\u001b[39m*\u001b[39;49mkwargs)\n",
      "File \u001b[0;32m~/miniconda3/envs/ask_media/lib/python3.10/site-packages/pinecone/core/client/api_client.py:838\u001b[0m, in \u001b[0;36mEndpoint.call_with_http_info\u001b[0;34m(self, **kwargs)\u001b[0m\n\u001b[1;32m    834\u001b[0m     header_list \u001b[39m=\u001b[39m \u001b[39mself\u001b[39m\u001b[39m.\u001b[39mapi_client\u001b[39m.\u001b[39mselect_header_content_type(\n\u001b[1;32m    835\u001b[0m         content_type_headers_list)\n\u001b[1;32m    836\u001b[0m     params[\u001b[39m'\u001b[39m\u001b[39mheader\u001b[39m\u001b[39m'\u001b[39m][\u001b[39m'\u001b[39m\u001b[39mContent-Type\u001b[39m\u001b[39m'\u001b[39m] \u001b[39m=\u001b[39m header_list\n\u001b[0;32m--> 838\u001b[0m \u001b[39mreturn\u001b[39;00m \u001b[39mself\u001b[39;49m\u001b[39m.\u001b[39;49mapi_client\u001b[39m.\u001b[39;49mcall_api(\n\u001b[1;32m    839\u001b[0m     \u001b[39mself\u001b[39;49m\u001b[39m.\u001b[39;49msettings[\u001b[39m'\u001b[39;49m\u001b[39mendpoint_path\u001b[39;49m\u001b[39m'\u001b[39;49m], \u001b[39mself\u001b[39;49m\u001b[39m.\u001b[39;49msettings[\u001b[39m'\u001b[39;49m\u001b[39mhttp_method\u001b[39;49m\u001b[39m'\u001b[39;49m],\n\u001b[1;32m    840\u001b[0m     params[\u001b[39m'\u001b[39;49m\u001b[39mpath\u001b[39;49m\u001b[39m'\u001b[39;49m],\n\u001b[1;32m    841\u001b[0m     params[\u001b[39m'\u001b[39;49m\u001b[39mquery\u001b[39;49m\u001b[39m'\u001b[39;49m],\n\u001b[1;32m    842\u001b[0m     params[\u001b[39m'\u001b[39;49m\u001b[39mheader\u001b[39;49m\u001b[39m'\u001b[39;49m],\n\u001b[1;32m    843\u001b[0m     body\u001b[39m=\u001b[39;49mparams[\u001b[39m'\u001b[39;49m\u001b[39mbody\u001b[39;49m\u001b[39m'\u001b[39;49m],\n\u001b[1;32m    844\u001b[0m     post_params\u001b[39m=\u001b[39;49mparams[\u001b[39m'\u001b[39;49m\u001b[39mform\u001b[39;49m\u001b[39m'\u001b[39;49m],\n\u001b[1;32m    845\u001b[0m     files\u001b[39m=\u001b[39;49mparams[\u001b[39m'\u001b[39;49m\u001b[39mfile\u001b[39;49m\u001b[39m'\u001b[39;49m],\n\u001b[1;32m    846\u001b[0m     response_type\u001b[39m=\u001b[39;49m\u001b[39mself\u001b[39;49m\u001b[39m.\u001b[39;49msettings[\u001b[39m'\u001b[39;49m\u001b[39mresponse_type\u001b[39;49m\u001b[39m'\u001b[39;49m],\n\u001b[1;32m    847\u001b[0m     auth_settings\u001b[39m=\u001b[39;49m\u001b[39mself\u001b[39;49m\u001b[39m.\u001b[39;49msettings[\u001b[39m'\u001b[39;49m\u001b[39mauth\u001b[39;49m\u001b[39m'\u001b[39;49m],\n\u001b[1;32m    848\u001b[0m     async_req\u001b[39m=\u001b[39;49mkwargs[\u001b[39m'\u001b[39;49m\u001b[39masync_req\u001b[39;49m\u001b[39m'\u001b[39;49m],\n\u001b[1;32m    849\u001b[0m     _check_type\u001b[39m=\u001b[39;49mkwargs[\u001b[39m'\u001b[39;49m\u001b[39m_check_return_type\u001b[39;49m\u001b[39m'\u001b[39;49m],\n\u001b[1;32m    850\u001b[0m     _return_http_data_only\u001b[39m=\u001b[39;49mkwargs[\u001b[39m'\u001b[39;49m\u001b[39m_return_http_data_only\u001b[39;49m\u001b[39m'\u001b[39;49m],\n\u001b[1;32m    851\u001b[0m     _preload_content\u001b[39m=\u001b[39;49mkwargs[\u001b[39m'\u001b[39;49m\u001b[39m_preload_content\u001b[39;49m\u001b[39m'\u001b[39;49m],\n\u001b[1;32m    852\u001b[0m     _request_timeout\u001b[39m=\u001b[39;49mkwargs[\u001b[39m'\u001b[39;49m\u001b[39m_request_timeout\u001b[39;49m\u001b[39m'\u001b[39;49m],\n\u001b[1;32m    853\u001b[0m     _host\u001b[39m=\u001b[39;49m_host,\n\u001b[1;32m    854\u001b[0m     collection_formats\u001b[39m=\u001b[39;49mparams[\u001b[39m'\u001b[39;49m\u001b[39mcollection_format\u001b[39;49m\u001b[39m'\u001b[39;49m])\n",
      "File \u001b[0;32m~/miniconda3/envs/ask_media/lib/python3.10/site-packages/pinecone/core/client/api_client.py:413\u001b[0m, in \u001b[0;36mApiClient.call_api\u001b[0;34m(self, resource_path, method, path_params, query_params, header_params, body, post_params, files, response_type, auth_settings, async_req, _return_http_data_only, collection_formats, _preload_content, _request_timeout, _host, _check_type)\u001b[0m\n\u001b[1;32m    359\u001b[0m \u001b[39m\u001b[39m\u001b[39m\"\"\"Makes the HTTP request (synchronous) and returns deserialized data.\u001b[39;00m\n\u001b[1;32m    360\u001b[0m \n\u001b[1;32m    361\u001b[0m \u001b[39mTo make an async_req request, set the async_req parameter.\u001b[39;00m\n\u001b[0;32m   (...)\u001b[0m\n\u001b[1;32m    410\u001b[0m \u001b[39m    then the method will return the response directly.\u001b[39;00m\n\u001b[1;32m    411\u001b[0m \u001b[39m\"\"\"\u001b[39;00m\n\u001b[1;32m    412\u001b[0m \u001b[39mif\u001b[39;00m \u001b[39mnot\u001b[39;00m async_req:\n\u001b[0;32m--> 413\u001b[0m     \u001b[39mreturn\u001b[39;00m \u001b[39mself\u001b[39;49m\u001b[39m.\u001b[39;49m__call_api(resource_path, method,\n\u001b[1;32m    414\u001b[0m                            path_params, query_params, header_params,\n\u001b[1;32m    415\u001b[0m                            body, post_params, files,\n\u001b[1;32m    416\u001b[0m                            response_type, auth_settings,\n\u001b[1;32m    417\u001b[0m                            _return_http_data_only, collection_formats,\n\u001b[1;32m    418\u001b[0m                            _preload_content, _request_timeout, _host,\n\u001b[1;32m    419\u001b[0m                            _check_type)\n\u001b[1;32m    421\u001b[0m \u001b[39mreturn\u001b[39;00m \u001b[39mself\u001b[39m\u001b[39m.\u001b[39mpool\u001b[39m.\u001b[39mapply_async(\u001b[39mself\u001b[39m\u001b[39m.\u001b[39m__call_api, (resource_path,\n\u001b[1;32m    422\u001b[0m                                                method, path_params,\n\u001b[1;32m    423\u001b[0m                                                query_params,\n\u001b[0;32m   (...)\u001b[0m\n\u001b[1;32m    431\u001b[0m                                                _request_timeout,\n\u001b[1;32m    432\u001b[0m                                                _host, _check_type))\n",
      "File \u001b[0;32m~/miniconda3/envs/ask_media/lib/python3.10/site-packages/pinecone/core/client/api_client.py:207\u001b[0m, in \u001b[0;36mApiClient.__call_api\u001b[0;34m(self, resource_path, method, path_params, query_params, header_params, body, post_params, files, response_type, auth_settings, _return_http_data_only, collection_formats, _preload_content, _request_timeout, _host, _check_type)\u001b[0m\n\u001b[1;32m    205\u001b[0m \u001b[39mexcept\u001b[39;00m ApiException \u001b[39mas\u001b[39;00m e:\n\u001b[1;32m    206\u001b[0m     e\u001b[39m.\u001b[39mbody \u001b[39m=\u001b[39m e\u001b[39m.\u001b[39mbody\u001b[39m.\u001b[39mdecode(\u001b[39m'\u001b[39m\u001b[39mutf-8\u001b[39m\u001b[39m'\u001b[39m)\n\u001b[0;32m--> 207\u001b[0m     \u001b[39mraise\u001b[39;00m e\n\u001b[1;32m    209\u001b[0m \u001b[39mself\u001b[39m\u001b[39m.\u001b[39mlast_response \u001b[39m=\u001b[39m response_data\n\u001b[1;32m    211\u001b[0m return_data \u001b[39m=\u001b[39m response_data\n",
      "File \u001b[0;32m~/miniconda3/envs/ask_media/lib/python3.10/site-packages/pinecone/core/client/api_client.py:200\u001b[0m, in \u001b[0;36mApiClient.__call_api\u001b[0;34m(self, resource_path, method, path_params, query_params, header_params, body, post_params, files, response_type, auth_settings, _return_http_data_only, collection_formats, _preload_content, _request_timeout, _host, _check_type)\u001b[0m\n\u001b[1;32m    196\u001b[0m     url \u001b[39m=\u001b[39m _host \u001b[39m+\u001b[39m resource_path\n\u001b[1;32m    198\u001b[0m \u001b[39mtry\u001b[39;00m:\n\u001b[1;32m    199\u001b[0m     \u001b[39m# perform request and return response\u001b[39;00m\n\u001b[0;32m--> 200\u001b[0m     response_data \u001b[39m=\u001b[39m \u001b[39mself\u001b[39;49m\u001b[39m.\u001b[39;49mrequest(\n\u001b[1;32m    201\u001b[0m         method, url, query_params\u001b[39m=\u001b[39;49mquery_params, headers\u001b[39m=\u001b[39;49mheader_params,\n\u001b[1;32m    202\u001b[0m         post_params\u001b[39m=\u001b[39;49mpost_params, body\u001b[39m=\u001b[39;49mbody,\n\u001b[1;32m    203\u001b[0m         _preload_content\u001b[39m=\u001b[39;49m_preload_content,\n\u001b[1;32m    204\u001b[0m         _request_timeout\u001b[39m=\u001b[39;49m_request_timeout)\n\u001b[1;32m    205\u001b[0m \u001b[39mexcept\u001b[39;00m ApiException \u001b[39mas\u001b[39;00m e:\n\u001b[1;32m    206\u001b[0m     e\u001b[39m.\u001b[39mbody \u001b[39m=\u001b[39m e\u001b[39m.\u001b[39mbody\u001b[39m.\u001b[39mdecode(\u001b[39m'\u001b[39m\u001b[39mutf-8\u001b[39m\u001b[39m'\u001b[39m)\n",
      "File \u001b[0;32m~/miniconda3/envs/ask_media/lib/python3.10/site-packages/pinecone/core/client/api_client.py:459\u001b[0m, in \u001b[0;36mApiClient.request\u001b[0;34m(self, method, url, query_params, headers, post_params, body, _preload_content, _request_timeout)\u001b[0m\n\u001b[1;32m    451\u001b[0m     \u001b[39mreturn\u001b[39;00m \u001b[39mself\u001b[39m\u001b[39m.\u001b[39mrest_client\u001b[39m.\u001b[39mOPTIONS(url,\n\u001b[1;32m    452\u001b[0m                                     query_params\u001b[39m=\u001b[39mquery_params,\n\u001b[1;32m    453\u001b[0m                                     headers\u001b[39m=\u001b[39mheaders,\n\u001b[0;32m   (...)\u001b[0m\n\u001b[1;32m    456\u001b[0m                                     _request_timeout\u001b[39m=\u001b[39m_request_timeout,\n\u001b[1;32m    457\u001b[0m                                     body\u001b[39m=\u001b[39mbody)\n\u001b[1;32m    458\u001b[0m \u001b[39melif\u001b[39;00m method \u001b[39m==\u001b[39m \u001b[39m\"\u001b[39m\u001b[39mPOST\u001b[39m\u001b[39m\"\u001b[39m:\n\u001b[0;32m--> 459\u001b[0m     \u001b[39mreturn\u001b[39;00m \u001b[39mself\u001b[39;49m\u001b[39m.\u001b[39;49mrest_client\u001b[39m.\u001b[39;49mPOST(url,\n\u001b[1;32m    460\u001b[0m                                  query_params\u001b[39m=\u001b[39;49mquery_params,\n\u001b[1;32m    461\u001b[0m                                  headers\u001b[39m=\u001b[39;49mheaders,\n\u001b[1;32m    462\u001b[0m                                  post_params\u001b[39m=\u001b[39;49mpost_params,\n\u001b[1;32m    463\u001b[0m                                  _preload_content\u001b[39m=\u001b[39;49m_preload_content,\n\u001b[1;32m    464\u001b[0m                                  _request_timeout\u001b[39m=\u001b[39;49m_request_timeout,\n\u001b[1;32m    465\u001b[0m                                  body\u001b[39m=\u001b[39;49mbody)\n\u001b[1;32m    466\u001b[0m \u001b[39melif\u001b[39;00m method \u001b[39m==\u001b[39m \u001b[39m\"\u001b[39m\u001b[39mPUT\u001b[39m\u001b[39m\"\u001b[39m:\n\u001b[1;32m    467\u001b[0m     \u001b[39mreturn\u001b[39;00m \u001b[39mself\u001b[39m\u001b[39m.\u001b[39mrest_client\u001b[39m.\u001b[39mPUT(url,\n\u001b[1;32m    468\u001b[0m                                 query_params\u001b[39m=\u001b[39mquery_params,\n\u001b[1;32m    469\u001b[0m                                 headers\u001b[39m=\u001b[39mheaders,\n\u001b[0;32m   (...)\u001b[0m\n\u001b[1;32m    472\u001b[0m                                 _request_timeout\u001b[39m=\u001b[39m_request_timeout,\n\u001b[1;32m    473\u001b[0m                                 body\u001b[39m=\u001b[39mbody)\n",
      "File \u001b[0;32m~/miniconda3/envs/ask_media/lib/python3.10/site-packages/pinecone/core/client/rest.py:271\u001b[0m, in \u001b[0;36mRESTClientObject.POST\u001b[0;34m(self, url, headers, query_params, post_params, body, _preload_content, _request_timeout)\u001b[0m\n\u001b[1;32m    269\u001b[0m \u001b[39mdef\u001b[39;00m \u001b[39mPOST\u001b[39m(\u001b[39mself\u001b[39m, url, headers\u001b[39m=\u001b[39m\u001b[39mNone\u001b[39;00m, query_params\u001b[39m=\u001b[39m\u001b[39mNone\u001b[39;00m, post_params\u001b[39m=\u001b[39m\u001b[39mNone\u001b[39;00m,\n\u001b[1;32m    270\u001b[0m          body\u001b[39m=\u001b[39m\u001b[39mNone\u001b[39;00m, _preload_content\u001b[39m=\u001b[39m\u001b[39mTrue\u001b[39;00m, _request_timeout\u001b[39m=\u001b[39m\u001b[39mNone\u001b[39;00m):\n\u001b[0;32m--> 271\u001b[0m     \u001b[39mreturn\u001b[39;00m \u001b[39mself\u001b[39;49m\u001b[39m.\u001b[39;49mrequest(\u001b[39m\"\u001b[39;49m\u001b[39mPOST\u001b[39;49m\u001b[39m\"\u001b[39;49m, url,\n\u001b[1;32m    272\u001b[0m                         headers\u001b[39m=\u001b[39;49mheaders,\n\u001b[1;32m    273\u001b[0m                         query_params\u001b[39m=\u001b[39;49mquery_params,\n\u001b[1;32m    274\u001b[0m                         post_params\u001b[39m=\u001b[39;49mpost_params,\n\u001b[1;32m    275\u001b[0m                         _preload_content\u001b[39m=\u001b[39;49m_preload_content,\n\u001b[1;32m    276\u001b[0m                         _request_timeout\u001b[39m=\u001b[39;49m_request_timeout,\n\u001b[1;32m    277\u001b[0m                         body\u001b[39m=\u001b[39;49mbody)\n",
      "File \u001b[0;32m~/miniconda3/envs/ask_media/lib/python3.10/site-packages/pinecone/core/client/rest.py:230\u001b[0m, in \u001b[0;36mRESTClientObject.request\u001b[0;34m(self, method, url, query_params, headers, body, post_params, _preload_content, _request_timeout)\u001b[0m\n\u001b[1;32m    227\u001b[0m     \u001b[39mif\u001b[39;00m \u001b[39m500\u001b[39m \u001b[39m<\u001b[39m\u001b[39m=\u001b[39m r\u001b[39m.\u001b[39mstatus \u001b[39m<\u001b[39m\u001b[39m=\u001b[39m \u001b[39m599\u001b[39m:\n\u001b[1;32m    228\u001b[0m         \u001b[39mraise\u001b[39;00m ServiceException(http_resp\u001b[39m=\u001b[39mr)\n\u001b[0;32m--> 230\u001b[0m     \u001b[39mraise\u001b[39;00m ApiException(http_resp\u001b[39m=\u001b[39mr)\n\u001b[1;32m    232\u001b[0m \u001b[39mreturn\u001b[39;00m r\n",
      "\u001b[0;31mApiException\u001b[0m: (400)\nReason: Bad Request\nHTTP response headers: HTTPHeaderDict({'content-type': 'application/json', 'Content-Length': '145', 'date': 'Fri, 20 Oct 2023 18:06:55 GMT', 'x-envoy-upstream-service-time': '2', 'server': 'envoy', 'Via': '1.1 google', 'Alt-Svc': 'h3=\":443\"; ma=2592000,h3-29=\":443\"; ma=2592000'})\nHTTP response body: {\"code\":3,\"message\":\"illegal condition for field &and, got [{\\\"date\\\":{\\\"$gte\\\":1696190400.0}},{\\\"date\\\":{\\\"$lte\\\":1696276800.0}}]\",\"details\":[]}\n"
     ]
    }
   ],
   "source": [
    "question_emb = get_embedding(\"Как делa на фронте?\")\n",
    "res = index.query(question_emb, top_k=10, include_metadata=True, filter=filter)\n",
    "res.to_dict().keys()"
   ]
  },
  {
   "cell_type": "code",
   "execution_count": 37,
   "metadata": {},
   "outputs": [
    {
     "data": {
      "text/html": [
       "<div>\n",
       "<style scoped>\n",
       "    .dataframe tbody tr th:only-of-type {\n",
       "        vertical-align: middle;\n",
       "    }\n",
       "\n",
       "    .dataframe tbody tr th {\n",
       "        vertical-align: top;\n",
       "    }\n",
       "\n",
       "    .dataframe thead th {\n",
       "        text-align: right;\n",
       "    }\n",
       "</style>\n",
       "<table border=\"1\" class=\"dataframe\">\n",
       "  <thead>\n",
       "    <tr style=\"text-align: right;\">\n",
       "      <th></th>\n",
       "      <th>id</th>\n",
       "      <th>score</th>\n",
       "      <th>cleaned_message</th>\n",
       "    </tr>\n",
       "  </thead>\n",
       "  <tbody>\n",
       "    <tr>\n",
       "      <th>0</th>\n",
       "      <td>voenacher_53307</td>\n",
       "      <td>0.864290</td>\n",
       "      <td>Хотели красивое?\\nИх есть у меня!\\n\\nЗапорожск...</td>\n",
       "    </tr>\n",
       "    <tr>\n",
       "      <th>1</th>\n",
       "      <td>sashakots_42547</td>\n",
       "      <td>0.837429</td>\n",
       "      <td>Друзья, мы с вами долго собирали помощь отдель...</td>\n",
       "    </tr>\n",
       "    <tr>\n",
       "      <th>2</th>\n",
       "      <td>rybar_52689</td>\n",
       "      <td>0.833296</td>\n",
       "      <td>❗ Хроника специальной военной операции \\nза 4 ...</td>\n",
       "    </tr>\n",
       "    <tr>\n",
       "      <th>3</th>\n",
       "      <td>rybar_52688</td>\n",
       "      <td>0.832837</td>\n",
       "      <td>❗ Разборы Рыбаря: итоги 4 октября 2023 года\\n\\...</td>\n",
       "    </tr>\n",
       "    <tr>\n",
       "      <th>4</th>\n",
       "      <td>voenacher_53413</td>\n",
       "      <td>0.832837</td>\n",
       "      <td>❗ Разборы Рыбаря: итоги 4 октября 2023 года\\n\\...</td>\n",
       "    </tr>\n",
       "    <tr>\n",
       "      <th>5</th>\n",
       "      <td>voenacher_53378</td>\n",
       "      <td>0.832678</td>\n",
       "      <td>Комментарий для ТАСС о применении наших FPV-др...</td>\n",
       "    </tr>\n",
       "    <tr>\n",
       "      <th>6</th>\n",
       "      <td>rybar_52587</td>\n",
       "      <td>0.832016</td>\n",
       "      <td>События дня на фронтах СВО из-под кисти наших...</td>\n",
       "    </tr>\n",
       "    <tr>\n",
       "      <th>7</th>\n",
       "      <td>voenacher_53252</td>\n",
       "      <td>0.830576</td>\n",
       "      <td>❗ Разборы Рыбаря: итоги 30 сентября - 1 октябр...</td>\n",
       "    </tr>\n",
       "    <tr>\n",
       "      <th>8</th>\n",
       "      <td>rybar_52581</td>\n",
       "      <td>0.830462</td>\n",
       "      <td>❗ Разборы Рыбаря: итоги 30 сентября - 1 октябр...</td>\n",
       "    </tr>\n",
       "    <tr>\n",
       "      <th>9</th>\n",
       "      <td>rybar_52686</td>\n",
       "      <td>0.827612</td>\n",
       "      <td>Через 15 минут на @SolovievLive выйдет авторс...</td>\n",
       "    </tr>\n",
       "  </tbody>\n",
       "</table>\n",
       "</div>"
      ],
      "text/plain": [
       "                id     score  \\\n",
       "0  voenacher_53307  0.864290   \n",
       "1  sashakots_42547  0.837429   \n",
       "2      rybar_52689  0.833296   \n",
       "3      rybar_52688  0.832837   \n",
       "4  voenacher_53413  0.832837   \n",
       "5  voenacher_53378  0.832678   \n",
       "6      rybar_52587  0.832016   \n",
       "7  voenacher_53252  0.830576   \n",
       "8      rybar_52581  0.830462   \n",
       "9      rybar_52686  0.827612   \n",
       "\n",
       "                                     cleaned_message  \n",
       "0  Хотели красивое?\\nИх есть у меня!\\n\\nЗапорожск...  \n",
       "1  Друзья, мы с вами долго собирали помощь отдель...  \n",
       "2  ❗ Хроника специальной военной операции \\nза 4 ...  \n",
       "3  ❗ Разборы Рыбаря: итоги 4 октября 2023 года\\n\\...  \n",
       "4  ❗ Разборы Рыбаря: итоги 4 октября 2023 года\\n\\...  \n",
       "5  Комментарий для ТАСС о применении наших FPV-др...  \n",
       "6   События дня на фронтах СВО из-под кисти наших...  \n",
       "7  ❗ Разборы Рыбаря: итоги 30 сентября - 1 октябр...  \n",
       "8  ❗ Разборы Рыбаря: итоги 30 сентября - 1 октябр...  \n",
       "9   Через 15 минут на @SolovievLive выйдет авторс...  "
      ]
     },
     "execution_count": 37,
     "metadata": {},
     "output_type": "execute_result"
    }
   ],
   "source": [
    "# pd.DataFrame(res.to_dict()['matches'])\n",
    "# convert metadata column to dataframe\n",
    "# pd.DataFrame(res.to_dict()['matches'])['metadata'].apply(pd.Series)\n",
    "# add metadata to dataframe\n",
    "df = pd.DataFrame(res.to_dict()['matches']).join(pd.DataFrame(res.to_dict()['matches'])['metadata'].apply(pd.Series))\n",
    "df[['id', 'score', 'cleaned_message']]"
   ]
  },
  {
   "cell_type": "code",
   "execution_count": 32,
   "metadata": {},
   "outputs": [
    {
     "data": {
      "text/plain": [
       "(1696190400, 1696363200)"
      ]
     },
     "execution_count": 32,
     "metadata": {},
     "output_type": "execute_result"
    }
   ],
   "source": [
    "start_date, end_date"
   ]
  },
  {
   "cell_type": "code",
   "execution_count": 36,
   "metadata": {},
   "outputs": [
    {
     "data": {
      "text/plain": [
       "(1696104000.0, 1696363200.0)"
      ]
     },
     "execution_count": 36,
     "metadata": {},
     "output_type": "execute_result"
    }
   ],
   "source": [
    "df['date'].min(), df['date'].max()"
   ]
  },
  {
   "cell_type": "code",
   "execution_count": 60,
   "metadata": {},
   "outputs": [
    {
     "name": "stdout",
     "output_type": "stream",
     "text": [
      "Михаил Звинчук в своей авторской передаче на @SolovievLive подводит итоги\n",
      "событий на фронтах специальной военной операции и рассказывает о значимых\n",
      "происшествиях в кризисных районах мира. Зона специальной военной операции:\n",
      "▪успешные контратаки ВС РФ под Урожайным и Малиновкой на Времьевском участке\n",
      "фронта; ▪комбинированная атака на Крым и проваленная высадка десанта украинского\n",
      "ГУР на мыс Тарханкут; ▪иранские снаряды в зоне СВО: почему российские РСЗО бьют\n",
      "«Арашами». Закавказье: ▪за сколько продали Арцах: доступ к каким ресурсам\n",
      "получил Запад; ▪в Армении одобрили Римский статут: в чем риски для России;\n",
      "▪логистические проекты Турции на Южном Кавказе.\n"
     ]
    }
   ],
   "source": [
    "i = 4\n",
    "# print wrapped text\n",
    "import textwrap\n",
    "print('\\n'.join(textwrap.wrap(df.summary.to_list()[i], 80)))"
   ]
  },
  {
   "cell_type": "code",
   "execution_count": 62,
   "metadata": {},
   "outputs": [
    {
     "name": "stdout",
     "output_type": "stream",
     "text": [
      "❗ Разборы Рыбаря: итоги 4 октября 2023 года\n",
      "\n",
      "Михаил Звинчук в своей авторской передаче на @SolovievLive подводит итоги событий на фронтах специальной военной операции и рассказывает о значимых происшествиях в кризисных районах мира.\n",
      "\n",
      "В сегодняшнем выпуске:\n",
      "\n",
      " Зона специальной военной операции:\n",
      "▪успешные контратаки ВС РФ под Урожайным и Малиновкой на Времьевском участке фронта;\n",
      "▪комбинированная атака на Крым и проваленная высадка десанта украинского ГУР на мыс Тарханкут;\n",
      "▪иранские снаряды в зоне СВО: почему российские РСЗО бьют «Арашами».\n",
      "\n",
      " Европа и соседи:\n",
      "▪поляки ремонтируют «Леопарды» для нужд украинских формирований;\n",
      "▪в Венгрии, Молдавии и Румынии требуют прекратить мобилизацию меньшинств на Украине;\n",
      "▪планы Чехии по запуску производства винтовок и дальнейшие поставки техники в зону конфликта.\n",
      "\n",
      "Закавказье:\n",
      "▪за сколько продали Арцах: доступ к каким ресурсам получил Запад;\n",
      "▪в Армении одобрили Римский статут: в чем риски для России;\n",
      "▪логистические проекты Турции на Южном Кавказе.\n",
      "\n",
      " Ближний Восток и Африка:\n",
      "▪масштабная антитеррористическая операция в Турции;\n",
      "▪планы французской разведки в Мали и Буркина-Фасо.\n",
      "\n",
      " Западное полушарие и Азиатско-Тихоокеанский регион:\n",
      "▪подлодка собственного производства на Тайване;\n",
      "▪кризис между Канадой и Индией из-за убийства лидера сикхских сепаратистов.\n",
      "#видео #разбор\n",
      "@rybar\n",
      "\n",
      "Поддержать нас\n"
     ]
    }
   ],
   "source": [
    "print(df.cleaned_message.to_list()[i])"
   ]
  },
  {
   "cell_type": "markdown",
   "metadata": {},
   "source": [
    "- make link\n",
    "- take sim score\n",
    "- take text"
   ]
  },
  {
   "cell_type": "code",
   "execution_count": 48,
   "metadata": {},
   "outputs": [],
   "source": [
    "# get top relevant news (TO BE CHANGED)\n",
    "def get_top_openai(request=None, request_emb=None, dates=None, stance=None, model=\"text-embedding-ada-002\", top_n=10):\n",
    "    dates=dates\n",
    "    stance=stance\n",
    "    \n",
    "    if request_emb is None and request is None:\n",
    "        print('Error: no request')\n",
    "        return\n",
    "    if request_emb is None:\n",
    "        request_emb = get_embedding(request)\n",
    "    \n",
    "    # filtering\n",
    "    if dates:\n",
    "        if len(dates) == 1:\n",
    "            filter = {\n",
    "                \"stance\": { \"$eq\": stance },\n",
    "                \"date\": { \"$gte\": start_date }\n",
    "                }\n",
    "        elif len(dates) == 2:\n",
    "            filter = {\n",
    "                \"stance\": { \"$eq\": stance },\n",
    "                \"date\": { \"$gte\": start_date },\n",
    "                \"date\": { \"$lte\": end_date }\n",
    "                }\n",
    "    \n",
    "    # query pinecone\n",
    "    res = index.query(question_emb, top_k=10, include_metadata=True, filter=filter)\n",
    "    top_sim_news = pd.DataFrame(res.to_dict()['matches']).join(pd.DataFrame(res.to_dict()['matches'])['metadata'].apply(pd.Series))\n",
    "    \n",
    "    # collect links & similarities\n",
    "    top_sim_news['msg_id'] = top_sim_news['id'].apply(lambda x: x.split('_')[-1])\n",
    "    top_sim_news['channel_name'] = top_sim_news['id'].apply(lambda x: '_'.join(x.split('_')[:-1]))\n",
    "\n",
    "    top_sim_news['link'] = top_sim_news.apply(lambda x: \"https://t.me/\"+str(x.channel_name)+\"/\"+str(x.msg_id)+\" - \"+str(round(x.score,3)), axis=1)\n",
    "    news_links = '\\n'.join(top_sim_news['link']tolist())\n",
    "    # collect news\n",
    "    news4request = '\\n'.join(top_sim_news['summary'].tolist())\n",
    "    return news4request, news_links"
   ]
  },
  {
   "cell_type": "code",
   "execution_count": 49,
   "metadata": {},
   "outputs": [],
   "source": [
    "request=\"Как делa на фронте?\"\n",
    "stance = 'voenkor'\n",
    "dates = ['2023-10-02', '2023-10-03']\n",
    "\n",
    "news4request, news_links = get_top_openai(request=request, stance = stance, dates = dates)"
   ]
  },
  {
   "cell_type": "code",
   "execution_count": 53,
   "metadata": {},
   "outputs": [
    {
     "name": "stdout",
     "output_type": "stream",
     "text": [
      "Хотели красивое?\n",
      "Их есть у меня!\n",
      "\n",
      "Запорожский фронт.\n",
      "Друзья, мы с вами долго собирали помощь отдельному разведбатальону, который действует на Запорожском направлении. И наконец собрали. На днях большой груз в рамках проекта Народного фронта «Все для Победы» был доставлен адресатам. Обзор и отчет чуть позже опубликую.\n",
      "\n",
      "Не успели мы вручить им нужные девайсы, как они начали приносить пользу. В первые же сутки парни заземлили новеньким противодронным ружьем FPV-дрон с подарунком. Никто не пострадал. \n",
      "\n",
      "Спасибо всем, принявшим участие в сборе! Все для фронта, все для Победы!\n",
      "\n",
      "@sashakots\n",
      "❗ Хроника специальной военной операции \n",
      "за 4 октября 2023 года\n",
      "\n",
      "Ночью ВСУ в очередной раз атаковали Крым, применив противокорабельные ракеты. Снаряды удалось перехватить, однако через несколько часов противник попытался высадить десант у мыса Прибойный. Российские пограничники перехватили ДРГ и взяли одного из диверсантов в плен.\n",
      "\n",
      "Также ночью ВСУ предприняли массовую атаку беспилотников на приграничные районы Брянской, Курской и Белгородской областей: над регионами был перехвачен 31 украинский БЛА. Помимо этого, артиллерийские обстрелы российского приграничья в течение дня не утихали.\n",
      "\n",
      "Тем временем на линии фронта продолжаются столкновения неподалеку от Урожайного, где противник предпринял очередную атаку. Несколько неудачных накатов ВСУ также провели в направлении Приютного. \n",
      "\n",
      "Подробнее читайте на нашем сайте\n",
      "\n",
      "Карта в высоком разрешении на русском языке\n",
      "\n",
      "High resolution map in English\n",
      "\n",
      "#дайджест #Бахмут #Донецк #Запорожье #карта #Крым #Россия #Украина\n",
      "@rybar\n",
      "\n",
      "Поддержать нас\n",
      "❗ Разборы Рыбаря: итоги 4 октября 2023 года\n",
      "\n",
      "Михаил Звинчук в своей авторской передаче на @SolovievLive подводит итоги событий на фронтах специальной военной операции и рассказывает о значимых происшествиях в кризисных районах мира.\n",
      "\n",
      "В сегодняшнем выпуске:\n",
      "\n",
      " Зона специальной военной операции:\n",
      "▪успешные контратаки ВС РФ под Урожайным и Малиновкой на Времьевском участке фронта;\n",
      "▪комбинированная атака на Крым и проваленная высадка десанта украинского ГУР на мыс Тарханкут;\n",
      "▪иранские снаряды в зоне СВО: почему российские РСЗО бьют «Арашами».\n",
      "\n",
      " Европа и соседи:\n",
      "▪поляки ремонтируют «Леопарды» для нужд украинских формирований;\n",
      "▪в Венгрии, Молдавии и Румынии требуют прекратить мобилизацию меньшинств на Украине;\n",
      "▪планы Чехии по запуску производства винтовок и дальнейшие поставки техники в зону конфликта.\n",
      "\n",
      "Закавказье:\n",
      "▪за сколько продали Арцах: доступ к каким ресурсам получил Запад;\n",
      "▪в Армении одобрили Римский статут: в чем риски для России;\n",
      "▪логистические проекты Турции на Южном Кавказе.\n",
      "\n",
      " Ближний Восток и Африка:\n",
      "▪масштабная антитеррористическая операция в Турции;\n",
      "▪планы французской разведки в Мали и Буркина-Фасо.\n",
      "\n",
      " Западное полушарие и Азиатско-Тихоокеанский регион:\n",
      "▪подлодка собственного производства на Тайване;\n",
      "▪кризис между Канадой и Индией из-за убийства лидера сикхских сепаратистов.\n",
      "#видео #разбор\n",
      "@rybar\n",
      "\n",
      "Поддержать нас\n",
      "❗ Разборы Рыбаря: итоги 4 октября 2023 года\n",
      "\n",
      "Михаил Звинчук в своей авторской передаче на @SolovievLive подводит итоги событий на фронтах специальной военной операции и рассказывает о значимых происшествиях в кризисных районах мира.\n",
      "\n",
      "В сегодняшнем выпуске:\n",
      "\n",
      " Зона специальной военной операции:\n",
      "▪успешные контратаки ВС РФ под Урожайным и Малиновкой на Времьевском участке фронта;\n",
      "▪комбинированная атака на Крым и проваленная высадка десанта украинского ГУР на мыс Тарханкут;\n",
      "▪иранские снаряды в зоне СВО: почему российские РСЗО бьют «Арашами».\n",
      "\n",
      " Европа и соседи:\n",
      "▪поляки ремонтируют «Леопарды» для нужд украинских формирований;\n",
      "▪в Венгрии, Молдавии и Румынии требуют прекратить мобилизацию меньшинств на Украине;\n",
      "▪планы Чехии по запуску производства винтовок и дальнейшие поставки техники в зону конфликта.\n",
      "\n",
      "Закавказье:\n",
      "▪за сколько продали Арцах: доступ к каким ресурсам получил Запад;\n",
      "▪в Армении одобрили Римский статут: в чем риски для России;\n",
      "▪логистические проекты Турции на Южном Кавказе.\n",
      "\n",
      " Ближний Восток и Африка:\n",
      "▪масштабная антитеррористическая операция в Турции;\n",
      "▪планы французской разведки в Мали и Буркина-Фасо.\n",
      "\n",
      " Западное полушарие и Азиатско-Тихоокеанский регион:\n",
      "▪подлодка собственного производства на Тайване;\n",
      "▪кризис между Канадой и Индией из-за убийства лидера сикхских сепаратистов.\n",
      "#видео #разбор\n",
      "@rybar\n",
      "\n",
      "Поддержать нас\n",
      "Комментарий для ТАСС о применении наших FPV-дронов «Упырь» на фронте Сватово-Кременная.\n",
      " События дня на фронтах СВО из-под кисти наших художников\n",
      "\n",
      "Сегодня мы запечатлели попытку удара украинских террористов по действующему аэропорту Сочи, который продолжает принимать гражданские лайнеры. Благодаря оперативной работе российских бойцов трагедии удалось избежать.\n",
      "\n",
      "На другой нашей картине мы решили вновь показать уничтоженную западную технику на линии фронта — на этот раз в центре нашего внимания оказался БМП Marder.\n",
      "\n",
      "Арты в высоком разрешении:\n",
      "\n",
      "Однажды в Сочи\n",
      "\n",
      "Marder Kaput\n",
      "\n",
      "P.S. Понравились наши работы, хотите оформить выставку/экспозицию, сделать что-то красивое в поддержку ВС РФ и России? Пишите нашему креативному директору Валерии Звинчук @XIII_thirteenth. \n",
      "\n",
      "#арт #Россия #Украина\n",
      "@rybar\n",
      "\n",
      "Поддержать нас\n",
      "❗ Разборы Рыбаря: итоги 30 сентября - 1 октября 2023 года\n",
      "\n",
      "Михаил Звинчук в своей авторской передаче на @SolovievLive подводит итоги событий на фронтах специальной военной операции и рассказывает о значимых происшествиях в кризисных районах мира.\n",
      "\n",
      "В сегодняшнем выпуске:\n",
      "\n",
      " Зона специальной военной операции:\n",
      "▪переброска вырусей из РДК на северо-восток Украины и неудачная вылазка ДРГ в Курской области;\n",
      "▪уничтожение цехов Харьковского бронетанкового завода;\n",
      "▪обстановка на Запорожском и Херсонском участках фронта;\n",
      "▪американские слова о необходимости поддержки Украины на фоне переброски новой техники из стран Европы;\n",
      "▪попытка атаки украинским БЛА международного аэропорта Сочи.\n",
      "\n",
      " Европа и соседи:\n",
      "▪приход к власти популиста Фицо в Словакии;\n",
      "▪заявления британцев о помощи Украине и фактически функционирующий зерновой коридор;\n",
      "▪провал оппозиции в Армении и отказ от российского ТВ.\n",
      "\n",
      " Ближний Восток и Африка:\n",
      "▪теракт в Анкаре и почему во всём всегда винят курдов; \n",
      "▪продолжение междоусобицы в Сирии, удары Израиля и новая американская операция в Заевфратье;\n",
      "▪продолжение войны в Мали: захват очередной базы правительственный войск.\n",
      "#видео #разбор\n",
      "@rybar\n",
      "\n",
      "Поддержать нас\n",
      "❗ Разборы Рыбаря: итоги 30 сентября - 1 октября 2023 года\n",
      "\n",
      "Михаил Звинчук в своей авторской передаче на @SolovievLive подводит итоги событий на фронтах специальной военной операции и рассказывает о значимых происшествиях в кризисных районах мира.\n",
      "\n",
      "В сегодняшнем выпуске:\n",
      "\n",
      " Зона специальной военной операции:\n",
      "▪переброска вырусей из РДК на северо-восток Украины и неудачная вылазка ДРГ в Курской области;\n",
      "▪уничтожение цехов Харьковского бронетанкового завода;\n",
      "▪обстановка на Запорожском и Херсонском участках фронта;\n",
      "▪американские слова о необходимости поддержки Украины на фоне переброски новой техники из стран Европы;\n",
      "▪попытка атаки украинским БЛА международного аэропорта Сочи.\n",
      "\n",
      " Европа и соседи:\n",
      "▪приход к власти популиста Фицо в Словакии;\n",
      "▪заявления британцев о помощи Украине и фактически функционирующий зерновой коридор;\n",
      "▪провал оппозиции в Армении и отказ от российского ТВ.\n",
      "\n",
      " Ближний Восток и Африка:\n",
      "▪теракт в Анкаре и почему во всём всегда винят курдов; \n",
      "▪продолжение междоусобицы в Сирии, удары Израиля и новая американская операция в Заевфратье;\n",
      "▪продолжение войны в Мали: захват очередной базы правительственный войск.\n",
      "#видео #разбор\n",
      "@rybar\n",
      "\n",
      "Поддержать нас\n",
      " Через 15 минут на @SolovievLive выйдет авторская передача  Разборы Рыбаря: итоги дня (или дней — поскольку вчера мы выпуск, увы, прогуляли).\n",
      "\n",
      "Михаил Звинчук расскажет о событиях на фронтах специальной военной операции и значимых происшествиях в кризисных районах мира (да и не только в них).\n",
      "\n",
      "В сегодняшнем выпуске:\n",
      "\n",
      " Зона специальной военной операции:\n",
      "▪успешные контратаки ВС РФ под Урожайным и Малиновкой на Времьевском участке фронта;\n",
      "▪комбинированная атака на Крым и проваленная высадка десанта украинского ГУР на мыс Тарханкут;\n",
      "▪иранские снаряды в зоне СВО: почему российские РСЗО бьют «Арашами».\n",
      "\n",
      " Европа и соседи:\n",
      "▪поляки ремонтируют «Леопарды» для нужд украинских формирований;\n",
      "▪в Венгрии, Молдавии и Румынии требуют прекратить мобилизацию меньшинств на Украине;\n",
      "▪планы Чехии по запуску производства винтовок и дальнейшие поставки техники в зону конфликта.\n",
      "\n",
      "Закавказье:\n",
      "▪за сколько продали Арцах: доступ к каким ресурсам получил Запад;\n",
      "▪в Армении одобрили Римский статут: в чем риски для России;\n",
      "▪логистические проекты Турции на Южном Кавказе.\n",
      "\n",
      " Ближний Восток и Африка:\n",
      "▪масштабная антитеррористическая операция в Турции;\n",
      "▪планы французской разведки в Мали и Буркина-Фасо.\n",
      "\n",
      " Западное полушарие и Азиатско-Тихоокеанский регион:\n",
      "▪подлодка собственного производства на Тайване;\n",
      "▪кризис между Канадой и Индией из-за убийства лидера сикхских сепаратистов.\n",
      "\n",
      "До встречи в 20.57 на @SolovievLive.\n",
      "#видео #разбор\n",
      "@rybar\n",
      "\n",
      "Поддержать нас\n"
     ]
    }
   ],
   "source": [
    "print(news4request)"
   ]
  },
  {
   "cell_type": "code",
   "execution_count": null,
   "metadata": {},
   "outputs": [],
   "source": []
  },
  {
   "cell_type": "code",
   "execution_count": null,
   "metadata": {},
   "outputs": [],
   "source": [
    "## (CHANGE: ONLY IN HOW TO GET get_top_openai)\n",
    "# FUNCTION ask_media to combine all together (TO USE IN TG BOT REQUESTS)\n",
    "def ask_media(request, dates=None, sources=None, stance=None, model_name = \"gpt-3.5-turbo\", tokens_out = 512, full_reply = True):\n",
    "    # check request time\n",
    "    request_time = time.strftime(\"%Y-%m-%d %H:%M:%S\", time.localtime())\n",
    "\n",
    "    # get top news\n",
    "    # INPUT: request, dates, sources, stance\n",
    "    # OUTPUT: news4request - list of news texts for openai, news_links - list of links\n",
    "    news4request, news_links = get_top_openai(request, dates=dates, sources=sources, stance=stance, model=\"text-embedding-ada-002\", top_n=10)\n",
    "    # limit number of tokens vs model\n",
    "    if model_name == \"gpt-3.5-turbo\":\n",
    "        # print(type(news4request), len(news4request))\n",
    "        # print(news4request)\n",
    "        news4request = news4request[:4000]\n",
    "    elif model_name == \"gpt-3.5-turbo-16k\":\n",
    "        news4request = news4request[:16000]\n",
    "    elif model_name == \"gpt-4\":\n",
    "        news4request = news4request[:8000]\n",
    "    elif model_name == \"gpt-4-32k\":\n",
    "        news4request = news4request[:32000]\n",
    "    \n",
    "    reply = ask_openai(request, news4request, model_name = model_name, tokens_out = tokens_out)\n",
    "    request_params = f\"Request: {request}; \\nFilters: dates: {dates}; sources: {sources}; stance: {stance}\"\n",
    "    reply_text = reply.choices[0]['message']['content']\n",
    "    n_tokens_used = reply.usage.total_tokens\n",
    "    reply_cost = n_tokens_used / 1000 * price_1K\n",
    "\n",
    "    # write params & reply to file. If file doesn't exist - create it with headers\n",
    "    # check reply time\n",
    "    reply_time = time.strftime(\"%Y-%m-%d %H:%M:%S\", time.localtime())\n",
    "    \n",
    "    if not os.path.isfile('openai_chatbot.csv'):\n",
    "        with open('openai_chatbot.csv', 'a', newline='') as csvfile:\n",
    "            writer = csv.writer(csvfile)\n",
    "            writer.writerow(['request', 'dates', 'sources', 'stance', 'reply_text', 'reply_cost', 'request_time', 'reply_time', 'model_name', 'n_tokens_used', 'news_links'])\n",
    "    with open('openai_chatbot.csv', 'a', newline='') as csvfile:\n",
    "        writer = csv.writer(csvfile)\n",
    "        writer.writerow([request, dates, sources, stance, reply_text, reply_cost, request_time, reply_time, model_name, n_tokens_used, news_links])\n",
    "    \n",
    "    # return reply for chatbot. If full_reply = False - return only reply_text\n",
    "    if full_reply == False:\n",
    "        return reply_text\n",
    "    else:\n",
    "        return request_params + \"\\n\" + \"Cost per request: \" + str(round(reply_cost,3)) + \". Tokens used: \" + str(n_tokens_used) + \"\\n\\n\" + reply_text + \"\\n\\n\" + news_links"
   ]
  },
  {
   "cell_type": "code",
   "execution_count": null,
   "metadata": {},
   "outputs": [],
   "source": [
    "## (NOT CHANGED)\n",
    "## Ask OpenAI \n",
    "def ask_openai(request, news4request, model_name = \"gpt-3.5-turbo\", tokens_out = 512):\n",
    "\n",
    "    system_content_en = f\"You are given few short news texts in Russian. Based on these texts you need to answer the following question: {request}. \\\n",
    "        First, analyze if the texts provide an answer to the question. \\\n",
    "        If the texts do not provide proper answer, say that. \\\n",
    "        If they do, select the texts relevant to the question ({request}) and summarize them. \\\n",
    "        \\nОтвечай только на русском. Не более 1000 символов.\"\n",
    "\n",
    "    system_content_ru = f\"Тебе будут представлены несколько новостей. На их основе нужно ответить на вопрос: {request}. \\\n",
    "        Сперрва проверь, что новости содержат ответ. \\\n",
    "        Если ответа в новостях нет, так и ответь. \\\n",
    "        Далее, отбери новости, которые отвечают на вопрос ({request}) и сделай но ним резюме. \\\n",
    "        \\nНе более 1000 символов.\"\n",
    "\n",
    "    response = openai.ChatCompletion.create(\n",
    "        model = model_name,\n",
    "        messages=[\n",
    "            {\n",
    "            \"role\": \"system\",\n",
    "            \"content\": system_content_ru\n",
    "            },\n",
    "            {\n",
    "            \"role\": \"user\",\n",
    "            \"content\": news4request\n",
    "            }\n",
    "        ],\n",
    "        temperature=0,\n",
    "        max_tokens=tokens_out,\n",
    "        top_p=1,\n",
    "        frequency_penalty=0,\n",
    "        presence_penalty=0\n",
    "        )\n",
    "    return response"
   ]
  }
 ],
 "metadata": {
  "kernelspec": {
   "display_name": "ask_media",
   "language": "python",
   "name": "python3"
  },
  "language_info": {
   "codemirror_mode": {
    "name": "ipython",
    "version": 3
   },
   "file_extension": ".py",
   "mimetype": "text/x-python",
   "name": "python",
   "nbconvert_exporter": "python",
   "pygments_lexer": "ipython3",
   "version": "3.10.12"
  }
 },
 "nbformat": 4,
 "nbformat_minor": 2
}
