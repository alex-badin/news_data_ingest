{
 "cells": [
  {
   "cell_type": "code",
   "execution_count": 1,
   "metadata": {},
   "outputs": [
    {
     "name": "stderr",
     "output_type": "stream",
     "text": [
      "/Users/alexbadin/miniconda3/envs/db_prep/lib/python3.11/site-packages/pinecone/index.py:4: TqdmExperimentalWarning: Using `tqdm.autonotebook.tqdm` in notebook mode. Use `tqdm.tqdm` instead to force console mode (e.g. in jupyter console)\n",
      "  from tqdm.autonotebook import tqdm\n"
     ]
    }
   ],
   "source": [
    "import pinecone\n",
    "import json\n",
    "from tqdm.notebook import tqdm_notebook\n",
    "from tqdm import tqdm\n",
    "import os\n",
    "import pandas as pd\n",
    "import datetime\n",
    "import time\n",
    "\n",
    "\n",
    "keys_path = '../keys/'\n",
    "data_path = '../../TG_messages/'"
   ]
  },
  {
   "cell_type": "code",
   "execution_count": 2,
   "metadata": {},
   "outputs": [],
   "source": [
    "with open(keys_path+'api_keys.json') as f:\n",
    "  data = json.loads(f.read())\n",
    "\n",
    "#load openai credentials\n",
    "openai_key = data['openai_key']\n",
    "\n",
    "# load pinecone credentials\n",
    "pine_key = data['pine_key']\n",
    "pine_env = data['pine_env']"
   ]
  },
  {
   "cell_type": "markdown",
   "metadata": {},
   "source": [
    "# Prepare data for pinecone"
   ]
  },
  {
   "cell_type": "code",
   "execution_count": 3,
   "metadata": {},
   "outputs": [
    {
     "data": {
      "application/vnd.jupyter.widget-view+json": {
       "model_id": "3f3cc62dc7b54846a177854f22b3911b",
       "version_major": 2,
       "version_minor": 0
      },
      "text/plain": [
       "  0%|          | 0/47 [00:00<?, ?it/s]"
      ]
     },
     "metadata": {},
     "output_type": "display_data"
    }
   ],
   "source": [
    "# collect all df's' into json\n",
    "\n",
    "# set start date\n",
    "start_date = pd.Timestamp(datetime.datetime.now() - datetime.timedelta(days=30), tz='UTC')\n",
    "\n",
    "files = os.listdir(data_path)\n",
    "df_list = []\n",
    "missed_channels = []\n",
    "\n",
    "files = os.listdir(data_path)\n",
    "for file in tqdm_notebook(files):\n",
    "    if file.endswith('.pkl'):\n",
    "        # try to load df\n",
    "        try:\n",
    "            df_temp = pd.read_pickle(data_path+file)\n",
    "        except: \n",
    "            missed_channels.append(file)\n",
    "            continue\n",
    "        # if df empty, skip\n",
    "        if df_temp.shape[0] == 0:\n",
    "            continue\n",
    "        # select data for last 30 days\n",
    "        df_temp = df_temp[df_temp['date'] >= start_date]\n",
    "        # id as channel_id + message_id\n",
    "        df_temp['id'] = df_temp['channel'] + '_' + df_temp['id'].astype(str)\n",
    "        df_temp = df_temp[['id', 'channel','stance', 'date', 'message', 'views', 'cleaned_message', 'summary', 'embeddings']]\n",
    "        df_list.append(df_temp)"
   ]
  },
  {
   "cell_type": "code",
   "execution_count": 4,
   "metadata": {},
   "outputs": [
    {
     "data": {
      "text/plain": [
       "[]"
      ]
     },
     "execution_count": 4,
     "metadata": {},
     "output_type": "execute_result"
    }
   ],
   "source": [
    "missed_channels"
   ]
  },
  {
   "cell_type": "code",
   "execution_count": 5,
   "metadata": {},
   "outputs": [
    {
     "data": {
      "text/plain": [
       "((40714, 9),\n",
       " Timestamp('2023-10-01 00:00:15+0000', tz='UTC'),\n",
       " Timestamp('2023-10-17 12:19:13+0000', tz='UTC'))"
      ]
     },
     "execution_count": 5,
     "metadata": {},
     "output_type": "execute_result"
    }
   ],
   "source": [
    "df4pine = pd.concat(df_list)\n",
    "df4pine.shape, df4pine.date.min(), df4pine.date.max()"
   ]
  },
  {
   "cell_type": "code",
   "execution_count": 6,
   "metadata": {},
   "outputs": [
    {
     "data": {
      "text/plain": [
       "0.24728594586628677"
      ]
     },
     "execution_count": 6,
     "metadata": {},
     "output_type": "execute_result"
    }
   ],
   "source": [
    "df4pine.embeddings.isnull().sum() / df4pine.shape[0]"
   ]
  },
  {
   "cell_type": "markdown",
   "metadata": {},
   "source": [
    "It appears most of news were processed without boost script"
   ]
  },
  {
   "cell_type": "markdown",
   "metadata": {},
   "source": [
    "## Creating openai embeds\n",
    "To create embeddings faster need json file as per requs in api_request_parallel_processor.py"
   ]
  },
  {
   "cell_type": "code",
   "execution_count": null,
   "metadata": {},
   "outputs": [],
   "source": [
    "# df4pine to json in following format:\n",
    "# {\"model\": \"text-embedding-ada-002\", \"input\": text}\n",
    "model = \"text-embedding-ada-002\"\n",
    "# convert df4pine to json\n",
    "json_list = []\n",
    "for i in tqdm(range(df4pine.shape[0])):\n",
    "    json_dict = {}\n",
    "    json_dict[\"model\"] = model\n",
    "    json_dict[\"input\"] = df4pine.iloc[i]['summary']\n",
    "    json_dict[\"id\"] = df4pine.iloc[i]['id']\n",
    "    json_list.append(json_dict)\n",
    "\n",
    "# save json_list to jsonl\n",
    "import json\n",
    "with open('df4pine.jsonl', 'w') as f:\n",
    "    for item in json_list:\n",
    "        json.dump(item, f)\n",
    "        f.write('\\n')"
   ]
  },
  {
   "cell_type": "markdown",
   "metadata": {},
   "source": [
    "Embeds were acquired via script and saved into df4pine_embeds.jsonl"
   ]
  },
  {
   "cell_type": "markdown",
   "metadata": {},
   "source": [
    "### check what data we have"
   ]
  },
  {
   "cell_type": "code",
   "execution_count": 17,
   "metadata": {},
   "outputs": [
    {
     "data": {
      "text/plain": [
       "(40714, 2)"
      ]
     },
     "execution_count": 17,
     "metadata": {},
     "output_type": "execute_result"
    }
   ],
   "source": [
    "# open df4pine.jsonl as df\n",
    "df4pine_jsonl = pd.read_json('df4pine_embeds.jsonl', lines=True)\n",
    "df4pine_jsonl.shape"
   ]
  },
  {
   "cell_type": "code",
   "execution_count": 18,
   "metadata": {},
   "outputs": [
    {
     "data": {
      "text/plain": [
       "{'model': 'text-embedding-ada-002',\n",
       " 'input': 'ХАМАС также заявил о запуске сотни ракет в направлении Ашкелона на юге Израиля. ▪Иранские службы безопасности помогли палестинскому исламистскому движению ХАМАС спланировать атаку на Израиль, сообщает The Wall Street Journal. ▪Власти Израиля после нападения со стороны палестинского движения ХАМАС обратились к США с просьбой помочь с пополнением запасов ракет-перехватчиков для системы противоракетной обороны «Железный купол», бомб малого диаметра и боеприпасов для пулеметов, сообщает The Washington Post.',\n",
       " 'id': 'rbc_news_82590'}"
      ]
     },
     "execution_count": 18,
     "metadata": {},
     "output_type": "execute_result"
    }
   ],
   "source": [
    "df4pine_jsonl[0][1]"
   ]
  },
  {
   "cell_type": "code",
   "execution_count": null,
   "metadata": {},
   "outputs": [
    {
     "data": {
      "text/plain": [
       "dict_keys(['object', 'data', 'model', 'usage'])"
      ]
     },
     "metadata": {},
     "output_type": "display_data"
    }
   ],
   "source": [
    "df4pine_jsonl[1][0].keys()"
   ]
  },
  {
   "cell_type": "code",
   "execution_count": 15,
   "metadata": {},
   "outputs": [
    {
     "data": {
      "text/plain": [
       "dict_keys(['object', 'index', 'embedding'])"
      ]
     },
     "execution_count": 15,
     "metadata": {},
     "output_type": "execute_result"
    }
   ],
   "source": [
    "df4pine_jsonl[1][0]['data'][-1].keys()"
   ]
  },
  {
   "cell_type": "markdown",
   "metadata": {},
   "source": [
    "## prepare data for pinecone\n",
    "- date to int\n",
    "- add new embeds from json\n",
    "- convert to pinecone format (id, values, metadata)"
   ]
  },
  {
   "cell_type": "code",
   "execution_count": 13,
   "metadata": {},
   "outputs": [],
   "source": [
    "# convert date to integer (without time)\n",
    "df4pine['date'] = df4pine['date'].dt.date\n",
    "df4pine['date'] = df4pine['date'].apply(lambda x: int(time.mktime(x.timetuple())))"
   ]
  },
  {
   "cell_type": "markdown",
   "metadata": {},
   "source": [
    "### Combine new (full) embeds with df4pine"
   ]
  },
  {
   "cell_type": "code",
   "execution_count": 19,
   "metadata": {},
   "outputs": [],
   "source": [
    "# create df from df4pine_jsonl with id and embeddings\n",
    "df_new_embeds = pd.DataFrame()\n",
    "df_new_embeds['id_new'] = df4pine_jsonl[0].apply(lambda x: x['id'])\n",
    "df_new_embeds['values'] = df4pine_jsonl[1].apply(lambda x: x['data'][-1]['embedding'])\n",
    "# add embeddings from df4pine_jsonl to df4pine\n",
    "df4pine = df4pine.merge(df_new_embeds, left_on='id', right_on='id_new', how='left')"
   ]
  },
  {
   "cell_type": "code",
   "execution_count": 20,
   "metadata": {},
   "outputs": [
    {
     "data": {
      "text/plain": [
       "(True, False)"
      ]
     },
     "execution_count": 20,
     "metadata": {},
     "output_type": "execute_result"
    }
   ],
   "source": [
    "# check if id's & embeddings are same\n",
    "df4pine.id.equals(df4pine.id_new), df4pine[:1000].embeddings.equals(df4pine[:1000].values)"
   ]
  },
  {
   "cell_type": "markdown",
   "metadata": {},
   "source": [
    "Embeddings do not match. Because initially were calculated on cleaned message and next time on summaries."
   ]
  },
  {
   "cell_type": "code",
   "execution_count": 21,
   "metadata": {},
   "outputs": [],
   "source": [
    "# need only columns: id, embeddings and meta as dictionary of clean_message, summary, stance, channel, date, views\n",
    "df4pine['metadata'] = df4pine[['cleaned_message', 'summary', 'stance', 'channel', 'date', 'views']].to_dict('records')\n",
    "df4pine.drop(columns=['id_new', 'embeddings', 'message', 'cleaned_message', 'summary', 'stance', 'channel', 'date', 'views'], inplace=True)"
   ]
  },
  {
   "cell_type": "code",
   "execution_count": 22,
   "metadata": {},
   "outputs": [
    {
     "name": "stdout",
     "output_type": "stream",
     "text": [
      "(40714, 3)\n"
     ]
    },
    {
     "data": {
      "text/html": [
       "<div>\n",
       "<style scoped>\n",
       "    .dataframe tbody tr th:only-of-type {\n",
       "        vertical-align: middle;\n",
       "    }\n",
       "\n",
       "    .dataframe tbody tr th {\n",
       "        vertical-align: top;\n",
       "    }\n",
       "\n",
       "    .dataframe thead th {\n",
       "        text-align: right;\n",
       "    }\n",
       "</style>\n",
       "<table border=\"1\" class=\"dataframe\">\n",
       "  <thead>\n",
       "    <tr style=\"text-align: right;\">\n",
       "      <th></th>\n",
       "      <th>id</th>\n",
       "      <th>values</th>\n",
       "      <th>metadata</th>\n",
       "    </tr>\n",
       "  </thead>\n",
       "  <tbody>\n",
       "    <tr>\n",
       "      <th>40711</th>\n",
       "      <td>readovkanews_67921</td>\n",
       "      <td>[-0.03213842, -0.011505554000000001, 0.0026594...</td>\n",
       "      <td>{'cleaned_message': 'Владимир Путин провел вст...</td>\n",
       "    </tr>\n",
       "    <tr>\n",
       "      <th>40712</th>\n",
       "      <td>readovkanews_67922</td>\n",
       "      <td>[0.012027255, 0.008897582000000001, -0.0068607...</td>\n",
       "      <td>{'cleaned_message': 'Статью экс-помощника през...</td>\n",
       "    </tr>\n",
       "    <tr>\n",
       "      <th>40713</th>\n",
       "      <td>readovkanews_67923</td>\n",
       "      <td>[-0.027030565000000003, -0.012685874000000001,...</td>\n",
       "      <td>{'cleaned_message': 'В Химках дети мигрантов б...</td>\n",
       "    </tr>\n",
       "  </tbody>\n",
       "</table>\n",
       "</div>"
      ],
      "text/plain": [
       "                       id                                             values  \\\n",
       "40711  readovkanews_67921  [-0.03213842, -0.011505554000000001, 0.0026594...   \n",
       "40712  readovkanews_67922  [0.012027255, 0.008897582000000001, -0.0068607...   \n",
       "40713  readovkanews_67923  [-0.027030565000000003, -0.012685874000000001,...   \n",
       "\n",
       "                                                metadata  \n",
       "40711  {'cleaned_message': 'Владимир Путин провел вст...  \n",
       "40712  {'cleaned_message': 'Статью экс-помощника през...  \n",
       "40713  {'cleaned_message': 'В Химках дети мигрантов б...  "
      ]
     },
     "execution_count": 22,
     "metadata": {},
     "output_type": "execute_result"
    }
   ],
   "source": [
    "print(df4pine.shape)\n",
    "df4pine.tail(3)"
   ]
  },
  {
   "cell_type": "code",
   "execution_count": 23,
   "metadata": {},
   "outputs": [
    {
     "data": {
      "text/plain": [
       "{'cleaned_message': '17-ого октября в 15:45 в Московском городском суде состоится судебное заседание по поводу апелляции И.И. Стрелкова.',\n",
       " 'summary': '17-ого октября в 15:45 в Московском городском суде состоится судебное заседание по поводу апелляции И.И. Стрелкова.',\n",
       " 'stance': 'voenkor',\n",
       " 'channel': 'strelkovii',\n",
       " 'date': 1696881600,\n",
       " 'views': 283345.0}"
      ]
     },
     "execution_count": 23,
     "metadata": {},
     "output_type": "execute_result"
    }
   ],
   "source": [
    "df4pine.metadata[0]"
   ]
  },
  {
   "cell_type": "markdown",
   "metadata": {},
   "source": [
    "# upsert to pinecone"
   ]
  },
  {
   "cell_type": "code",
   "execution_count": 24,
   "metadata": {},
   "outputs": [
    {
     "data": {
      "text/plain": [
       "{'dimension': 1536,\n",
       " 'index_fullness': 0.32058,\n",
       " 'namespaces': {'': {'vector_count': 32058}},\n",
       " 'total_vector_count': 32058}"
      ]
     },
     "execution_count": 24,
     "metadata": {},
     "output_type": "execute_result"
    }
   ],
   "source": [
    "pinecone.init(api_key=pine_key, environment=pine_env)\n",
    "index_name = 'tg-news'\n",
    "\n",
    "index = pinecone.Index(index_name)\n",
    "\n",
    "index.describe_index_stats()"
   ]
  },
  {
   "cell_type": "code",
   "execution_count": 25,
   "metadata": {},
   "outputs": [
    {
     "data": {
      "text/plain": [
       "IndexDescription(name='tg-news', metric='cosine', replicas=1, dimension=1536.0, shards=1, pods=1, pod_type='starter', status={'ready': True, 'state': 'Ready'}, metadata_config=None, source_collection='')"
      ]
     },
     "execution_count": 25,
     "metadata": {},
     "output_type": "execute_result"
    }
   ],
   "source": [
    "# describe index\n",
    "pinecone.describe_index('tg-news')"
   ]
  },
  {
   "cell_type": "code",
   "execution_count": 26,
   "metadata": {},
   "outputs": [
    {
     "data": {
      "application/vnd.jupyter.widget-view+json": {
       "model_id": "9c0ecdc0a77e4595b76439e4eef3ba8c",
       "version_major": 2,
       "version_minor": 0
      },
      "text/plain": [
       "  0%|          | 0/408 [00:00<?, ?it/s]"
      ]
     },
     "metadata": {},
     "output_type": "display_data"
    }
   ],
   "source": [
    "bath_size = 100\n",
    "for i in tqdm_notebook(range(0, df4pine.shape[0], bath_size)):\n",
    "    index.upsert(vectors=df4pine.iloc[i:i+bath_size].to_dict('records'))"
   ]
  },
  {
   "cell_type": "code",
   "execution_count": 27,
   "metadata": {},
   "outputs": [
    {
     "data": {
      "text/plain": [
       "{'dimension': 1536,\n",
       " 'index_fullness': 0.41813,\n",
       " 'namespaces': {'': {'vector_count': 41813}},\n",
       " 'total_vector_count': 41813}"
      ]
     },
     "execution_count": 27,
     "metadata": {},
     "output_type": "execute_result"
    }
   ],
   "source": [
    "index.describe_index_stats()"
   ]
  },
  {
   "cell_type": "code",
   "execution_count": 93,
   "metadata": {},
   "outputs": [
    {
     "data": {
      "text/plain": [
       "['strelkovii', '6386']"
      ]
     },
     "execution_count": 93,
     "metadata": {},
     "output_type": "execute_result"
    }
   ],
   "source": [
    "df4pine['id'][0].split('_')"
   ]
  },
  {
   "cell_type": "code",
   "execution_count": 96,
   "metadata": {},
   "outputs": [
    {
     "data": {
      "text/plain": [
       "2410        lentadnya\n",
       "32386         BFMnews\n",
       "33806      rentv_news\n",
       "5592         izvestia\n",
       "28922      zvezdanews\n",
       "             ...     \n",
       "34640      rentv_news\n",
       "894      breakingmash\n",
       "37198     tass_agency\n",
       "20051        truekpru\n",
       "28485      zvezdanews\n",
       "Name: id, Length: 100, dtype: object"
      ]
     },
     "execution_count": 96,
     "metadata": {},
     "output_type": "execute_result"
    }
   ],
   "source": [
    "# get last digits from id\n",
    "df4pine['id'].apply(lambda x: x.split('_')[-1]).sample(100)\n",
    "df4pine['id'].apply(lambda x: '_'.join(x.split('_')[:-1])).sample(100)"
   ]
  }
 ],
 "metadata": {
  "kernelspec": {
   "display_name": "ask_media",
   "language": "python",
   "name": "python3"
  },
  "language_info": {
   "codemirror_mode": {
    "name": "ipython",
    "version": 3
   },
   "file_extension": ".py",
   "mimetype": "text/x-python",
   "name": "python",
   "nbconvert_exporter": "python",
   "pygments_lexer": "ipython3",
   "version": "3.11.6"
  }
 },
 "nbformat": 4,
 "nbformat_minor": 2
}
