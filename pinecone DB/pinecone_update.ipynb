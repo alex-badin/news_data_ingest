{
 "cells": [
  {
   "cell_type": "markdown",
   "metadata": {},
   "source": [
    "# 2 - Updating pinecone"
   ]
  },
  {
   "cell_type": "code",
   "execution_count": 1,
   "metadata": {},
   "outputs": [
    {
     "name": "stderr",
     "output_type": "stream",
     "text": [
      "/Users/alexbadin/miniconda3/envs/db_prep/lib/python3.11/site-packages/pinecone/index.py:4: TqdmExperimentalWarning: Using `tqdm.autonotebook.tqdm` in notebook mode. Use `tqdm.tqdm` instead to force console mode (e.g. in jupyter console)\n",
      "  from tqdm.autonotebook import tqdm\n"
     ]
    }
   ],
   "source": [
    "import pandas as pd\n",
    "import json\n",
    "import re\n",
    "import unicodedata\n",
    "import time\n",
    "import datetime\n",
    "from tqdm import tqdm\n",
    "from tqdm.notebook import tqdm_notebook\n",
    "\n",
    "import openai\n",
    "from openai.embeddings_utils import get_embedding\n",
    "import pinecone\n",
    "from telethon import TelegramClient\n",
    "from sumy.parsers.plaintext import PlaintextParser\n",
    "from sumy.nlp.tokenizers import Tokenizer\n",
    "from sumy.summarizers.lsa import LsaSummarizer\n",
    "\n",
    "keys_path = '../keys/'\n",
    "data_path = '../../TG_messages/'"
   ]
  },
  {
   "cell_type": "code",
   "execution_count": 2,
   "metadata": {},
   "outputs": [],
   "source": [
    "# set to True if you want to save the pickle file (unreliable, probably due to different pandas versions, better to save to csv)\n",
    "save_pickle = False\n",
    "\n",
    "with open(keys_path+'api_keys.json') as f:\n",
    "  data = json.loads(f.read())\n",
    "\n",
    "# load TG credentials\n",
    "api_id = data['api_id'] \n",
    "api_hash = data['api_hash']\n",
    "phone = data['phone']\n",
    "\n",
    "#load openai credentials\n",
    "openai_key = data['openai_key']\n",
    "\n",
    "# load pinecone credentials\n",
    "pine_key = data['pine_key']\n",
    "pine_env = data['pine_env']"
   ]
  },
  {
   "cell_type": "markdown",
   "metadata": {},
   "source": [
    "Questions\n",
    "1) Identify which data to download:\n",
    "- by date\n",
    "- by id\n",
    "Anyway need to store last date or id. So let's keep it last_id.\n",
    "\n",
    "2) Remove duplicates in pinecone \n",
    "- they should not be there as id is exactly channel + message_id"
   ]
  },
  {
   "cell_type": "markdown",
   "metadata": {},
   "source": [
    "Steps (per each channel):\n",
    "- identify last_id (channels.csv)\n",
    "- download from TG as per last_id\n",
    "- process messages: cleaning, deduplicating, summary\n",
    "- create embeds from openai\n",
    "- date format into int\n",
    "- transform into pinecone format\n",
    "- upsert into pinecone\n",
    "- add into main files (pkl) - optional\n",
    "- iterate over channels\n",
    "- update last_id in channels.csv\n",
    "- create session_stats file\n",
    "- update total_stats file"
   ]
  },
  {
   "cell_type": "markdown",
   "metadata": {},
   "source": [
    "## Functions"
   ]
  },
  {
   "cell_type": "code",
   "execution_count": 3,
   "metadata": {},
   "outputs": [],
   "source": [
    "def clean_text(text):\n",
    "    # Unicode range for emojis\n",
    "    emoji_pattern = re.compile(\"[\"\n",
    "                               \"\\U0001F600-\\U0001F64F\"  # Emoticons\n",
    "                               \"\\U0001F300-\\U0001F5FF\"  # Symbols & Pictographs\n",
    "                               \"\\U0001F680-\\U0001F6FF\"  # Transport & Map Symbols\n",
    "                               \"\\U0001F1E0-\\U0001F1FF\"  # Flags (iOS)\n",
    "                               \"]+\", flags=re.UNICODE)\n",
    "    \n",
    "    # Remove emojis\n",
    "    text = emoji_pattern.sub(r'', str(text))\n",
    "    # Regular expression for URLs\n",
    "    url_pattern = re.compile(r\"http\\S+|www\\S+\")\n",
    "    # Remove URLs\n",
    "    text = url_pattern.sub(r'', str(text))\n",
    "    # remove /n\n",
    "    text = text.replace('\\n', '')\n",
    "    # Remove any remaining variation selectors\n",
    "    text = ''.join(char for char in text if unicodedata.category(char) != 'Mn')\n",
    "\n",
    "    #Remove Foreign Agent text    \n",
    "    pattern = re.compile(r'[А-ЯЁ18+]{3,}\\s[А-ЯЁ()]{5,}[^\\n]*ИНОСТРАННОГО АГЕНТА')\n",
    "    text = pattern.sub('', text)\n",
    "    name1 = 'ПИВОВАРОВА АЛЕКСЕЯ ВЛАДИМИРОВИЧА'\n",
    "    text = text.replace(name1, '')\n",
    "\n",
    "    return text"
   ]
  },
  {
   "cell_type": "code",
   "execution_count": 4,
   "metadata": {},
   "outputs": [],
   "source": [
    "# summarize the news (select 2 most important sentences)\n",
    "def summarize(text, language=\"russian\", sentences_count=2):\n",
    "    parser = PlaintextParser.from_string(text, Tokenizer(language))\n",
    "    summarizer = LsaSummarizer()\n",
    "    summary = summarizer(parser.document, sentences_count)\n",
    "    return ' '.join([str(sentence) for sentence in summary])\n",
    "\n",
    "# NEED MORE FLEXIBLE MODEL\n",
    "# summarize the news - need to keep length upto 750 characters"
   ]
  },
  {
   "cell_type": "code",
   "execution_count": 5,
   "metadata": {},
   "outputs": [],
   "source": [
    "def process_new_messages(df, channel, stance):\n",
    "    # add channel name & stance\n",
    "    df.loc[:, 'channel'] = channel\n",
    "    df.loc[:, 'stance'] = stance\n",
    "    df.drop_duplicates(subset=['id'], inplace = True) # remove duplicates\n",
    "    df.loc[:, 'cleaned_message'] = df['message'].apply(clean_text) #remove emojis, urls, foreign agent text\n",
    "    df = df[~df.cleaned_message.str.len().between(0, 30)] #remove empty or too short messages\n",
    "    # summarize cleaned_messages: 2 sentences if length > 750, 3 sentences if length > 1500\n",
    "    df.loc[:, 'summary'] = df['cleaned_message'].apply(lambda x: summarize(x, sentences_count=3) if len(x) > 750 else summarize(x, sentences_count=2) if len(x) > 500 else x)\n",
    "    return df"
   ]
  },
  {
   "cell_type": "code",
   "execution_count": 6,
   "metadata": {},
   "outputs": [],
   "source": [
    "#function to get new messages from channel\n",
    "start_date = datetime.datetime(2023, 10, 1) # minimum date for TelegramClient\n",
    "\n",
    "async def get_new_messages(channel, last_id, stance, start_date):\n",
    "    async with TelegramClient('session', api_id, api_hash) as client:\n",
    "        # COLLECT NEW MESSAGES\n",
    "        data = [] # for collecting new messages\n",
    "        # check if last_id is integer (=set)\n",
    "        try:\n",
    "            offset_id = int(last_id)\n",
    "        except:\n",
    "            offset_id = 0\n",
    "        async for message in client.iter_messages(channel, reverse=True, offset_id=offset_id, offset_date=start_date):\n",
    "            data.append(message.to_dict())\n",
    "        # if no new messages, skip\n",
    "    print(f\"Channel: {channel}, N of new messages: {len(data)}\")\n",
    "    if len(data) == 0:\n",
    "        return None\n",
    "    # create df from collected data\n",
    "    df = pd.DataFrame(data)\n",
    "    # return df\n",
    "    return df"
   ]
  },
  {
   "cell_type": "code",
   "execution_count": 7,
   "metadata": {},
   "outputs": [],
   "source": [
    "# function for openai embeddings\n",
    "def get_embeddings(df, text_col='summary', model=\"text-embedding-ada-002\"):\n",
    "    embeddings = []\n",
    "    for text in df[text_col]:\n",
    "        try:\n",
    "            response = openai.Embedding.create(\n",
    "                input=text,\n",
    "                model=model\n",
    "            )\n",
    "            embeddings.append(response['data'][0]['embedding'])\n",
    "        except openai.error.APIError as e:\n",
    "            if e.status_code == 502:\n",
    "                print(\"Bad gateway error, retrying...\")\n",
    "                time.sleep(5)\n",
    "                response = openai.Embedding.create(\n",
    "                    input=text,\n",
    "                    model=model\n",
    "                )\n",
    "                embeddings.append(response['data'][0]['embedding'])\n",
    "            else:\n",
    "                raise e\n",
    "    df['embeddings'] = embeddings\n",
    "    print(f\"Embeddings for {df.shape[0]} messages collected.\")\n",
    "    return df\n"
   ]
  },
  {
   "cell_type": "code",
   "execution_count": 8,
   "metadata": {},
   "outputs": [],
   "source": [
    "def upsert_to_pinecone(df, index, batch_size=100):\n",
    "    # create df for pinecone\n",
    "    meta_col = ['cleaned_message', 'summary', 'stance', 'channel', 'date', 'views']\n",
    "    #rename embeddings to values\n",
    "    df4pinecone = df[meta_col+['id', 'embeddings']].copy()\n",
    "    df4pinecone = df4pinecone.rename(columns={'embeddings': 'values'})\n",
    "    # convert date to integer (as pinecone doesn't support datetime)\n",
    "    df4pinecone['date'] = df4pinecone['date'].apply(lambda x: int(time.mktime(x.timetuple())))\n",
    "    # id as channel_id + message_id (to avoid duplication and easier identification)\n",
    "    df4pinecone['id'] = df4pinecone['channel'] + '_' + df4pinecone['id'].astype(str)\n",
    "    # convert to pinecone format\n",
    "    df4pinecone['metadata'] = df4pinecone[meta_col].to_dict('records')\n",
    "    df4pinecone = df4pinecone[['id', 'values', 'metadata']]\n",
    "    bath_size = batch_size\n",
    "    for i in range(0, df4pinecone.shape[0], bath_size):\n",
    "        index.upsert(vectors=df4pinecone.iloc[i:i+bath_size].to_dict('records'))\n",
    "    print(f\"Upserted {df4pinecone.shape[0]} records. Last id: {df4pinecone.iloc[-1]['id']}\")"
   ]
  },
  {
   "cell_type": "markdown",
   "metadata": {},
   "source": [
    "## Updating channels"
   ]
  },
  {
   "cell_type": "code",
   "execution_count": 9,
   "metadata": {},
   "outputs": [],
   "source": [
    "# function to save new df to pickle\n",
    "def save_to_pickle(df, channel):\n",
    "    try:\n",
    "        df_old = pd.read_pickle(data_path + channel + '.pkl')\n",
    "    except:\n",
    "        df_old = pd.DataFrame()\n",
    "    if len(df) == 0:\n",
    "        return\n",
    "    pd.concat([df_old, df]).to_pickle(data_path + channel + '.pkl')"
   ]
  },
  {
   "cell_type": "code",
   "execution_count": 11,
   "metadata": {},
   "outputs": [
    {
     "data": {
      "application/vnd.jupyter.widget-view+json": {
       "model_id": "f90dbda4f3474fb088e9574da30d3481",
       "version_major": 2,
       "version_minor": 0
      },
      "text/plain": [
       "  0%|          | 0/48 [00:00<?, ?it/s]"
      ]
     },
     "metadata": {},
     "output_type": "display_data"
    },
    {
     "name": "stdout",
     "output_type": "stream",
     "text": [
      "Channel: rt_russian, N of new messages: 45\n"
     ]
    },
    {
     "name": "stderr",
     "output_type": "stream",
     "text": [
      "/var/folders/2f/4wrcxd5n7_zbgfnwpf77l3bm0000gn/T/ipykernel_37441/2773358391.py:9: SettingWithCopyWarning: \n",
      "A value is trying to be set on a copy of a slice from a DataFrame.\n",
      "Try using .loc[row_indexer,col_indexer] = value instead\n",
      "\n",
      "See the caveats in the documentation: https://pandas.pydata.org/pandas-docs/stable/user_guide/indexing.html#returning-a-view-versus-a-copy\n",
      "  df.loc[:, 'summary'] = df['cleaned_message'].apply(lambda x: summarize(x, sentences_count=3) if len(x) > 750 else summarize(x, sentences_count=2) if len(x) > 500 else x)\n"
     ]
    },
    {
     "name": "stdout",
     "output_type": "stream",
     "text": [
      "Embeddings for 36 messages collected.\n",
      "Upserted 36 records. Last id: rt_russian_177165\n",
      "Channel: ntvnews, N of new messages: 20\n"
     ]
    },
    {
     "name": "stderr",
     "output_type": "stream",
     "text": [
      "/var/folders/2f/4wrcxd5n7_zbgfnwpf77l3bm0000gn/T/ipykernel_37441/2773358391.py:9: SettingWithCopyWarning: \n",
      "A value is trying to be set on a copy of a slice from a DataFrame.\n",
      "Try using .loc[row_indexer,col_indexer] = value instead\n",
      "\n",
      "See the caveats in the documentation: https://pandas.pydata.org/pandas-docs/stable/user_guide/indexing.html#returning-a-view-versus-a-copy\n",
      "  df.loc[:, 'summary'] = df['cleaned_message'].apply(lambda x: summarize(x, sentences_count=3) if len(x) > 750 else summarize(x, sentences_count=2) if len(x) > 500 else x)\n"
     ]
    },
    {
     "name": "stdout",
     "output_type": "stream",
     "text": [
      "Embeddings for 18 messages collected.\n",
      "Upserted 18 records. Last id: ntvnews_122891\n",
      "Channel: tvrussia1, N of new messages: 16\n"
     ]
    },
    {
     "name": "stderr",
     "output_type": "stream",
     "text": [
      "/var/folders/2f/4wrcxd5n7_zbgfnwpf77l3bm0000gn/T/ipykernel_37441/2773358391.py:9: SettingWithCopyWarning: \n",
      "A value is trying to be set on a copy of a slice from a DataFrame.\n",
      "Try using .loc[row_indexer,col_indexer] = value instead\n",
      "\n",
      "See the caveats in the documentation: https://pandas.pydata.org/pandas-docs/stable/user_guide/indexing.html#returning-a-view-versus-a-copy\n",
      "  df.loc[:, 'summary'] = df['cleaned_message'].apply(lambda x: summarize(x, sentences_count=3) if len(x) > 750 else summarize(x, sentences_count=2) if len(x) > 500 else x)\n"
     ]
    },
    {
     "name": "stdout",
     "output_type": "stream",
     "text": [
      "Embeddings for 8 messages collected.\n",
      "Upserted 8 records. Last id: tvrussia1_24335\n",
      "Channel: bbcrussian, N of new messages: 21\n",
      "Embeddings for 21 messages collected.\n",
      "Upserted 21 records. Last id: bbcrussian_54879\n",
      "Channel: news_1tv, N of new messages: 12\n",
      "Embeddings for 12 messages collected.\n",
      "Upserted 12 records. Last id: news_1tv_25006\n",
      "Channel: redakciya_channel, N of new messages: 6\n",
      "Embeddings for 6 messages collected.\n",
      "Upserted 6 records. Last id: redakciya_channel_26301\n",
      "Channel: meduzalive, N of new messages: 21\n"
     ]
    },
    {
     "name": "stderr",
     "output_type": "stream",
     "text": [
      "/var/folders/2f/4wrcxd5n7_zbgfnwpf77l3bm0000gn/T/ipykernel_37441/2773358391.py:9: SettingWithCopyWarning: \n",
      "A value is trying to be set on a copy of a slice from a DataFrame.\n",
      "Try using .loc[row_indexer,col_indexer] = value instead\n",
      "\n",
      "See the caveats in the documentation: https://pandas.pydata.org/pandas-docs/stable/user_guide/indexing.html#returning-a-view-versus-a-copy\n",
      "  df.loc[:, 'summary'] = df['cleaned_message'].apply(lambda x: summarize(x, sentences_count=3) if len(x) > 750 else summarize(x, sentences_count=2) if len(x) > 500 else x)\n"
     ]
    },
    {
     "name": "stdout",
     "output_type": "stream",
     "text": [
      "Embeddings for 15 messages collected.\n",
      "Upserted 15 records. Last id: meduzalive_93944\n",
      "Channel: mediazzzona, N of new messages: 17\n"
     ]
    },
    {
     "name": "stderr",
     "output_type": "stream",
     "text": [
      "/var/folders/2f/4wrcxd5n7_zbgfnwpf77l3bm0000gn/T/ipykernel_37441/2773358391.py:9: SettingWithCopyWarning: \n",
      "A value is trying to be set on a copy of a slice from a DataFrame.\n",
      "Try using .loc[row_indexer,col_indexer] = value instead\n",
      "\n",
      "See the caveats in the documentation: https://pandas.pydata.org/pandas-docs/stable/user_guide/indexing.html#returning-a-view-versus-a-copy\n",
      "  df.loc[:, 'summary'] = df['cleaned_message'].apply(lambda x: summarize(x, sentences_count=3) if len(x) > 750 else summarize(x, sentences_count=2) if len(x) > 500 else x)\n"
     ]
    },
    {
     "name": "stdout",
     "output_type": "stream",
     "text": [
      "Embeddings for 6 messages collected.\n",
      "Upserted 6 records. Last id: mediazzzona_13356\n",
      "Channel: thebell_io, N of new messages: 5\n",
      "Embeddings for 5 messages collected.\n",
      "Upserted 5 records. Last id: thebell_io_24899\n",
      "Channel: rian_ru, N of new messages: 53\n"
     ]
    },
    {
     "name": "stderr",
     "output_type": "stream",
     "text": [
      "/var/folders/2f/4wrcxd5n7_zbgfnwpf77l3bm0000gn/T/ipykernel_37441/2773358391.py:9: SettingWithCopyWarning: \n",
      "A value is trying to be set on a copy of a slice from a DataFrame.\n",
      "Try using .loc[row_indexer,col_indexer] = value instead\n",
      "\n",
      "See the caveats in the documentation: https://pandas.pydata.org/pandas-docs/stable/user_guide/indexing.html#returning-a-view-versus-a-copy\n",
      "  df.loc[:, 'summary'] = df['cleaned_message'].apply(lambda x: summarize(x, sentences_count=3) if len(x) > 750 else summarize(x, sentences_count=2) if len(x) > 500 else x)\n"
     ]
    },
    {
     "name": "stdout",
     "output_type": "stream",
     "text": [
      "Embeddings for 48 messages collected.\n",
      "Upserted 48 records. Last id: rian_ru_219256\n",
      "Channel: readovkanews, N of new messages: 15\n",
      "Embeddings for 15 messages collected.\n",
      "Upserted 15 records. Last id: readovkanews_68291\n",
      "Channel: novaya_pishet, N of new messages: 5\n",
      "Embeddings for 5 messages collected.\n",
      "Upserted 5 records. Last id: novaya_pishet_42325\n",
      "Channel: rbc_news, N of new messages: 15\n",
      "Embeddings for 15 messages collected.\n",
      "Upserted 15 records. Last id: rbc_news_83323\n",
      "Channel: zvezdanews, N of new messages: 34\n"
     ]
    },
    {
     "name": "stderr",
     "output_type": "stream",
     "text": [
      "/var/folders/2f/4wrcxd5n7_zbgfnwpf77l3bm0000gn/T/ipykernel_37441/2773358391.py:9: SettingWithCopyWarning: \n",
      "A value is trying to be set on a copy of a slice from a DataFrame.\n",
      "Try using .loc[row_indexer,col_indexer] = value instead\n",
      "\n",
      "See the caveats in the documentation: https://pandas.pydata.org/pandas-docs/stable/user_guide/indexing.html#returning-a-view-versus-a-copy\n",
      "  df.loc[:, 'summary'] = df['cleaned_message'].apply(lambda x: summarize(x, sentences_count=3) if len(x) > 750 else summarize(x, sentences_count=2) if len(x) > 500 else x)\n"
     ]
    },
    {
     "name": "stdout",
     "output_type": "stream",
     "text": [
      "Embeddings for 26 messages collected.\n",
      "Upserted 26 records. Last id: zvezdanews_132064\n",
      "Channel: aifonline, N of new messages: 52\n"
     ]
    },
    {
     "name": "stderr",
     "output_type": "stream",
     "text": [
      "/var/folders/2f/4wrcxd5n7_zbgfnwpf77l3bm0000gn/T/ipykernel_37441/2773358391.py:9: SettingWithCopyWarning: \n",
      "A value is trying to be set on a copy of a slice from a DataFrame.\n",
      "Try using .loc[row_indexer,col_indexer] = value instead\n",
      "\n",
      "See the caveats in the documentation: https://pandas.pydata.org/pandas-docs/stable/user_guide/indexing.html#returning-a-view-versus-a-copy\n",
      "  df.loc[:, 'summary'] = df['cleaned_message'].apply(lambda x: summarize(x, sentences_count=3) if len(x) > 750 else summarize(x, sentences_count=2) if len(x) > 500 else x)\n"
     ]
    },
    {
     "name": "stdout",
     "output_type": "stream",
     "text": [
      "Embeddings for 40 messages collected.\n",
      "Upserted 40 records. Last id: aifonline_66691\n",
      "Channel: BFMnews, N of new messages: 4\n",
      "Embeddings for 4 messages collected.\n",
      "Upserted 4 records. Last id: BFMnews_36109\n",
      "Channel: fontankaspb, N of new messages: 16\n"
     ]
    },
    {
     "name": "stderr",
     "output_type": "stream",
     "text": [
      "/var/folders/2f/4wrcxd5n7_zbgfnwpf77l3bm0000gn/T/ipykernel_37441/2773358391.py:9: SettingWithCopyWarning: \n",
      "A value is trying to be set on a copy of a slice from a DataFrame.\n",
      "Try using .loc[row_indexer,col_indexer] = value instead\n",
      "\n",
      "See the caveats in the documentation: https://pandas.pydata.org/pandas-docs/stable/user_guide/indexing.html#returning-a-view-versus-a-copy\n",
      "  df.loc[:, 'summary'] = df['cleaned_message'].apply(lambda x: summarize(x, sentences_count=3) if len(x) > 750 else summarize(x, sentences_count=2) if len(x) > 500 else x)\n"
     ]
    },
    {
     "name": "stdout",
     "output_type": "stream",
     "text": [
      "Embeddings for 8 messages collected.\n",
      "Upserted 8 records. Last id: fontankaspb_47166\n",
      "Channel: forbesrussia, N of new messages: 19\n",
      "Embeddings for 19 messages collected.\n",
      "Upserted 19 records. Last id: forbesrussia_58209\n",
      "Channel: gazetaru, N of new messages: 13\n"
     ]
    },
    {
     "name": "stderr",
     "output_type": "stream",
     "text": [
      "/var/folders/2f/4wrcxd5n7_zbgfnwpf77l3bm0000gn/T/ipykernel_37441/2773358391.py:9: SettingWithCopyWarning: \n",
      "A value is trying to be set on a copy of a slice from a DataFrame.\n",
      "Try using .loc[row_indexer,col_indexer] = value instead\n",
      "\n",
      "See the caveats in the documentation: https://pandas.pydata.org/pandas-docs/stable/user_guide/indexing.html#returning-a-view-versus-a-copy\n",
      "  df.loc[:, 'summary'] = df['cleaned_message'].apply(lambda x: summarize(x, sentences_count=3) if len(x) > 750 else summarize(x, sentences_count=2) if len(x) > 500 else x)\n"
     ]
    },
    {
     "name": "stdout",
     "output_type": "stream",
     "text": [
      "Embeddings for 12 messages collected.\n",
      "Upserted 12 records. Last id: gazetaru_24140\n",
      "Channel: interfaxonline, N of new messages: 17\n"
     ]
    },
    {
     "name": "stderr",
     "output_type": "stream",
     "text": [
      "/var/folders/2f/4wrcxd5n7_zbgfnwpf77l3bm0000gn/T/ipykernel_37441/2773358391.py:9: SettingWithCopyWarning: \n",
      "A value is trying to be set on a copy of a slice from a DataFrame.\n",
      "Try using .loc[row_indexer,col_indexer] = value instead\n",
      "\n",
      "See the caveats in the documentation: https://pandas.pydata.org/pandas-docs/stable/user_guide/indexing.html#returning-a-view-versus-a-copy\n",
      "  df.loc[:, 'summary'] = df['cleaned_message'].apply(lambda x: summarize(x, sentences_count=3) if len(x) > 750 else summarize(x, sentences_count=2) if len(x) > 500 else x)\n"
     ]
    },
    {
     "name": "stdout",
     "output_type": "stream",
     "text": [
      "Embeddings for 14 messages collected.\n",
      "Upserted 14 records. Last id: interfaxonline_37475\n",
      "Channel: izvestia, N of new messages: 60\n"
     ]
    },
    {
     "name": "stderr",
     "output_type": "stream",
     "text": [
      "/var/folders/2f/4wrcxd5n7_zbgfnwpf77l3bm0000gn/T/ipykernel_37441/2773358391.py:9: SettingWithCopyWarning: \n",
      "A value is trying to be set on a copy of a slice from a DataFrame.\n",
      "Try using .loc[row_indexer,col_indexer] = value instead\n",
      "\n",
      "See the caveats in the documentation: https://pandas.pydata.org/pandas-docs/stable/user_guide/indexing.html#returning-a-view-versus-a-copy\n",
      "  df.loc[:, 'summary'] = df['cleaned_message'].apply(lambda x: summarize(x, sentences_count=3) if len(x) > 750 else summarize(x, sentences_count=2) if len(x) > 500 else x)\n"
     ]
    },
    {
     "name": "stdout",
     "output_type": "stream",
     "text": [
      "Embeddings for 57 messages collected.\n",
      "Upserted 57 records. Last id: izvestia_148560\n",
      "Channel: kommersant, N of new messages: 14\n",
      "Embeddings for 14 messages collected.\n",
      "Upserted 14 records. Last id: kommersant_57706\n",
      "Channel: lentadnya, N of new messages: 34\n"
     ]
    },
    {
     "name": "stderr",
     "output_type": "stream",
     "text": [
      "/var/folders/2f/4wrcxd5n7_zbgfnwpf77l3bm0000gn/T/ipykernel_37441/2773358391.py:9: SettingWithCopyWarning: \n",
      "A value is trying to be set on a copy of a slice from a DataFrame.\n",
      "Try using .loc[row_indexer,col_indexer] = value instead\n",
      "\n",
      "See the caveats in the documentation: https://pandas.pydata.org/pandas-docs/stable/user_guide/indexing.html#returning-a-view-versus-a-copy\n",
      "  df.loc[:, 'summary'] = df['cleaned_message'].apply(lambda x: summarize(x, sentences_count=3) if len(x) > 750 else summarize(x, sentences_count=2) if len(x) > 500 else x)\n"
     ]
    },
    {
     "name": "stdout",
     "output_type": "stream",
     "text": [
      "Embeddings for 20 messages collected.\n",
      "Upserted 20 records. Last id: lentadnya_94658\n",
      "Channel: lifenews, N of new messages: 7\n"
     ]
    },
    {
     "name": "stderr",
     "output_type": "stream",
     "text": [
      "/var/folders/2f/4wrcxd5n7_zbgfnwpf77l3bm0000gn/T/ipykernel_37441/2773358391.py:9: SettingWithCopyWarning: \n",
      "A value is trying to be set on a copy of a slice from a DataFrame.\n",
      "Try using .loc[row_indexer,col_indexer] = value instead\n",
      "\n",
      "See the caveats in the documentation: https://pandas.pydata.org/pandas-docs/stable/user_guide/indexing.html#returning-a-view-versus-a-copy\n",
      "  df.loc[:, 'summary'] = df['cleaned_message'].apply(lambda x: summarize(x, sentences_count=3) if len(x) > 750 else summarize(x, sentences_count=2) if len(x) > 500 else x)\n"
     ]
    },
    {
     "name": "stdout",
     "output_type": "stream",
     "text": [
      "Embeddings for 6 messages collected.\n",
      "Upserted 6 records. Last id: lifenews_99527\n",
      "Channel: mk_ru, N of new messages: 37\n"
     ]
    },
    {
     "name": "stderr",
     "output_type": "stream",
     "text": [
      "/var/folders/2f/4wrcxd5n7_zbgfnwpf77l3bm0000gn/T/ipykernel_37441/2773358391.py:9: SettingWithCopyWarning: \n",
      "A value is trying to be set on a copy of a slice from a DataFrame.\n",
      "Try using .loc[row_indexer,col_indexer] = value instead\n",
      "\n",
      "See the caveats in the documentation: https://pandas.pydata.org/pandas-docs/stable/user_guide/indexing.html#returning-a-view-versus-a-copy\n",
      "  df.loc[:, 'summary'] = df['cleaned_message'].apply(lambda x: summarize(x, sentences_count=3) if len(x) > 750 else summarize(x, sentences_count=2) if len(x) > 500 else x)\n"
     ]
    },
    {
     "name": "stdout",
     "output_type": "stream",
     "text": [
      "Embeddings for 36 messages collected.\n",
      "Upserted 36 records. Last id: mk_ru_44972\n",
      "Channel: novaya_europe, N of new messages: 20\n"
     ]
    },
    {
     "name": "stderr",
     "output_type": "stream",
     "text": [
      "/var/folders/2f/4wrcxd5n7_zbgfnwpf77l3bm0000gn/T/ipykernel_37441/2773358391.py:9: SettingWithCopyWarning: \n",
      "A value is trying to be set on a copy of a slice from a DataFrame.\n",
      "Try using .loc[row_indexer,col_indexer] = value instead\n",
      "\n",
      "See the caveats in the documentation: https://pandas.pydata.org/pandas-docs/stable/user_guide/indexing.html#returning-a-view-versus-a-copy\n",
      "  df.loc[:, 'summary'] = df['cleaned_message'].apply(lambda x: summarize(x, sentences_count=3) if len(x) > 750 else summarize(x, sentences_count=2) if len(x) > 500 else x)\n"
     ]
    },
    {
     "name": "stdout",
     "output_type": "stream",
     "text": [
      "Embeddings for 14 messages collected.\n",
      "Upserted 14 records. Last id: novaya_europe_25457\n",
      "Channel: radiosvoboda, N of new messages: 22\n",
      "Embeddings for 22 messages collected.\n",
      "Upserted 22 records. Last id: radiosvoboda_49694\n",
      "Channel: rentv_news, N of new messages: 51\n"
     ]
    },
    {
     "name": "stderr",
     "output_type": "stream",
     "text": [
      "/var/folders/2f/4wrcxd5n7_zbgfnwpf77l3bm0000gn/T/ipykernel_37441/2773358391.py:9: SettingWithCopyWarning: \n",
      "A value is trying to be set on a copy of a slice from a DataFrame.\n",
      "Try using .loc[row_indexer,col_indexer] = value instead\n",
      "\n",
      "See the caveats in the documentation: https://pandas.pydata.org/pandas-docs/stable/user_guide/indexing.html#returning-a-view-versus-a-copy\n",
      "  df.loc[:, 'summary'] = df['cleaned_message'].apply(lambda x: summarize(x, sentences_count=3) if len(x) > 750 else summarize(x, sentences_count=2) if len(x) > 500 else x)\n"
     ]
    },
    {
     "name": "stdout",
     "output_type": "stream",
     "text": [
      "Embeddings for 50 messages collected.\n",
      "Upserted 50 records. Last id: rentv_news_114976\n",
      "Channel: rgrunews, N of new messages: 16\n",
      "Embeddings for 16 messages collected.\n",
      "Upserted 16 records. Last id: rgrunews_89215\n",
      "Channel: riafan, N of new messages: 0\n",
      "Channel: rusvesnasu, N of new messages: 5\n"
     ]
    },
    {
     "name": "stderr",
     "output_type": "stream",
     "text": [
      "/var/folders/2f/4wrcxd5n7_zbgfnwpf77l3bm0000gn/T/ipykernel_37441/2773358391.py:9: SettingWithCopyWarning: \n",
      "A value is trying to be set on a copy of a slice from a DataFrame.\n",
      "Try using .loc[row_indexer,col_indexer] = value instead\n",
      "\n",
      "See the caveats in the documentation: https://pandas.pydata.org/pandas-docs/stable/user_guide/indexing.html#returning-a-view-versus-a-copy\n",
      "  df.loc[:, 'summary'] = df['cleaned_message'].apply(lambda x: summarize(x, sentences_count=3) if len(x) > 750 else summarize(x, sentences_count=2) if len(x) > 500 else x)\n"
     ]
    },
    {
     "name": "stdout",
     "output_type": "stream",
     "text": [
      "Embeddings for 2 messages collected.\n",
      "Upserted 2 records. Last id: rusvesnasu_28147\n",
      "Channel: svpressaru, N of new messages: 8\n",
      "Embeddings for 8 messages collected.\n",
      "Upserted 8 records. Last id: svpressaru_20911\n",
      "Channel: tass_agency, N of new messages: 1038\n"
     ]
    },
    {
     "name": "stderr",
     "output_type": "stream",
     "text": [
      "/var/folders/2f/4wrcxd5n7_zbgfnwpf77l3bm0000gn/T/ipykernel_37441/2773358391.py:9: SettingWithCopyWarning: \n",
      "A value is trying to be set on a copy of a slice from a DataFrame.\n",
      "Try using .loc[row_indexer,col_indexer] = value instead\n",
      "\n",
      "See the caveats in the documentation: https://pandas.pydata.org/pandas-docs/stable/user_guide/indexing.html#returning-a-view-versus-a-copy\n",
      "  df.loc[:, 'summary'] = df['cleaned_message'].apply(lambda x: summarize(x, sentences_count=3) if len(x) > 750 else summarize(x, sentences_count=2) if len(x) > 500 else x)\n"
     ]
    },
    {
     "name": "stdout",
     "output_type": "stream",
     "text": [
      "Embeddings for 994 messages collected.\n",
      "Upserted 994 records. Last id: tass_agency_215780\n",
      "Channel: truekpru, N of new messages: 657\n"
     ]
    },
    {
     "name": "stderr",
     "output_type": "stream",
     "text": [
      "/var/folders/2f/4wrcxd5n7_zbgfnwpf77l3bm0000gn/T/ipykernel_37441/2773358391.py:9: SettingWithCopyWarning: \n",
      "A value is trying to be set on a copy of a slice from a DataFrame.\n",
      "Try using .loc[row_indexer,col_indexer] = value instead\n",
      "\n",
      "See the caveats in the documentation: https://pandas.pydata.org/pandas-docs/stable/user_guide/indexing.html#returning-a-view-versus-a-copy\n",
      "  df.loc[:, 'summary'] = df['cleaned_message'].apply(lambda x: summarize(x, sentences_count=3) if len(x) > 750 else summarize(x, sentences_count=2) if len(x) > 500 else x)\n"
     ]
    },
    {
     "name": "stdout",
     "output_type": "stream",
     "text": [
      "Embeddings for 456 messages collected.\n",
      "Upserted 456 records. Last id: truekpru_134239\n",
      "Channel: uranews, N of new messages: 351\n"
     ]
    },
    {
     "name": "stderr",
     "output_type": "stream",
     "text": [
      "/var/folders/2f/4wrcxd5n7_zbgfnwpf77l3bm0000gn/T/ipykernel_37441/2773358391.py:9: SettingWithCopyWarning: \n",
      "A value is trying to be set on a copy of a slice from a DataFrame.\n",
      "Try using .loc[row_indexer,col_indexer] = value instead\n",
      "\n",
      "See the caveats in the documentation: https://pandas.pydata.org/pandas-docs/stable/user_guide/indexing.html#returning-a-view-versus-a-copy\n",
      "  df.loc[:, 'summary'] = df['cleaned_message'].apply(lambda x: summarize(x, sentences_count=3) if len(x) > 750 else summarize(x, sentences_count=2) if len(x) > 500 else x)\n"
     ]
    },
    {
     "name": "stdout",
     "output_type": "stream",
     "text": [
      "Embeddings for 321 messages collected.\n",
      "Upserted 321 records. Last id: uranews_83171\n",
      "Channel: vedomosti, N of new messages: 339\n"
     ]
    },
    {
     "name": "stderr",
     "output_type": "stream",
     "text": [
      "/var/folders/2f/4wrcxd5n7_zbgfnwpf77l3bm0000gn/T/ipykernel_37441/2773358391.py:9: SettingWithCopyWarning: \n",
      "A value is trying to be set on a copy of a slice from a DataFrame.\n",
      "Try using .loc[row_indexer,col_indexer] = value instead\n",
      "\n",
      "See the caveats in the documentation: https://pandas.pydata.org/pandas-docs/stable/user_guide/indexing.html#returning-a-view-versus-a-copy\n",
      "  df.loc[:, 'summary'] = df['cleaned_message'].apply(lambda x: summarize(x, sentences_count=3) if len(x) > 750 else summarize(x, sentences_count=2) if len(x) > 500 else x)\n"
     ]
    },
    {
     "name": "stdout",
     "output_type": "stream",
     "text": [
      "Embeddings for 338 messages collected.\n",
      "Upserted 338 records. Last id: vedomosti_38934\n",
      "Channel: vestiru24, N of new messages: 836\n"
     ]
    },
    {
     "name": "stderr",
     "output_type": "stream",
     "text": [
      "/var/folders/2f/4wrcxd5n7_zbgfnwpf77l3bm0000gn/T/ipykernel_37441/2773358391.py:9: SettingWithCopyWarning: \n",
      "A value is trying to be set on a copy of a slice from a DataFrame.\n",
      "Try using .loc[row_indexer,col_indexer] = value instead\n",
      "\n",
      "See the caveats in the documentation: https://pandas.pydata.org/pandas-docs/stable/user_guide/indexing.html#returning-a-view-versus-a-copy\n",
      "  df.loc[:, 'summary'] = df['cleaned_message'].apply(lambda x: summarize(x, sentences_count=3) if len(x) > 750 else summarize(x, sentences_count=2) if len(x) > 500 else x)\n"
     ]
    },
    {
     "name": "stdout",
     "output_type": "stream",
     "text": [
      "Embeddings for 801 messages collected.\n",
      "Upserted 801 records. Last id: vestiru24_93748\n",
      "Channel: tsargradtv, N of new messages: 746\n"
     ]
    },
    {
     "name": "stderr",
     "output_type": "stream",
     "text": [
      "/var/folders/2f/4wrcxd5n7_zbgfnwpf77l3bm0000gn/T/ipykernel_37441/2773358391.py:9: SettingWithCopyWarning: \n",
      "A value is trying to be set on a copy of a slice from a DataFrame.\n",
      "Try using .loc[row_indexer,col_indexer] = value instead\n",
      "\n",
      "See the caveats in the documentation: https://pandas.pydata.org/pandas-docs/stable/user_guide/indexing.html#returning-a-view-versus-a-copy\n",
      "  df.loc[:, 'summary'] = df['cleaned_message'].apply(lambda x: summarize(x, sentences_count=3) if len(x) > 750 else summarize(x, sentences_count=2) if len(x) > 500 else x)\n"
     ]
    },
    {
     "name": "stdout",
     "output_type": "stream",
     "text": [
      "Embeddings for 630 messages collected.\n",
      "Upserted 630 records. Last id: tsargradtv_60718\n",
      "Channel: sashakots, N of new messages: 109\n"
     ]
    },
    {
     "name": "stderr",
     "output_type": "stream",
     "text": [
      "/var/folders/2f/4wrcxd5n7_zbgfnwpf77l3bm0000gn/T/ipykernel_37441/2773358391.py:9: SettingWithCopyWarning: \n",
      "A value is trying to be set on a copy of a slice from a DataFrame.\n",
      "Try using .loc[row_indexer,col_indexer] = value instead\n",
      "\n",
      "See the caveats in the documentation: https://pandas.pydata.org/pandas-docs/stable/user_guide/indexing.html#returning-a-view-versus-a-copy\n",
      "  df.loc[:, 'summary'] = df['cleaned_message'].apply(lambda x: summarize(x, sentences_count=3) if len(x) > 750 else summarize(x, sentences_count=2) if len(x) > 500 else x)\n"
     ]
    },
    {
     "name": "stdout",
     "output_type": "stream",
     "text": [
      "Embeddings for 83 messages collected.\n",
      "Upserted 83 records. Last id: sashakots_42934\n",
      "Channel: rybar, N of new messages: 247\n"
     ]
    },
    {
     "name": "stderr",
     "output_type": "stream",
     "text": [
      "/var/folders/2f/4wrcxd5n7_zbgfnwpf77l3bm0000gn/T/ipykernel_37441/2773358391.py:9: SettingWithCopyWarning: \n",
      "A value is trying to be set on a copy of a slice from a DataFrame.\n",
      "Try using .loc[row_indexer,col_indexer] = value instead\n",
      "\n",
      "See the caveats in the documentation: https://pandas.pydata.org/pandas-docs/stable/user_guide/indexing.html#returning-a-view-versus-a-copy\n",
      "  df.loc[:, 'summary'] = df['cleaned_message'].apply(lambda x: summarize(x, sentences_count=3) if len(x) > 750 else summarize(x, sentences_count=2) if len(x) > 500 else x)\n"
     ]
    },
    {
     "name": "stdout",
     "output_type": "stream",
     "text": [
      "Embeddings for 212 messages collected.\n",
      "Upserted 212 records. Last id: rybar_53577\n",
      "Channel: voenacher, N of new messages: 449\n"
     ]
    },
    {
     "name": "stderr",
     "output_type": "stream",
     "text": [
      "/var/folders/2f/4wrcxd5n7_zbgfnwpf77l3bm0000gn/T/ipykernel_37441/2773358391.py:9: SettingWithCopyWarning: \n",
      "A value is trying to be set on a copy of a slice from a DataFrame.\n",
      "Try using .loc[row_indexer,col_indexer] = value instead\n",
      "\n",
      "See the caveats in the documentation: https://pandas.pydata.org/pandas-docs/stable/user_guide/indexing.html#returning-a-view-versus-a-copy\n",
      "  df.loc[:, 'summary'] = df['cleaned_message'].apply(lambda x: summarize(x, sentences_count=3) if len(x) > 750 else summarize(x, sentences_count=2) if len(x) > 500 else x)\n"
     ]
    },
    {
     "name": "stdout",
     "output_type": "stream",
     "text": [
      "Embeddings for 308 messages collected.\n",
      "Upserted 308 records. Last id: voenacher_54999\n",
      "Channel: vysokygovorit, N of new messages: 61\n"
     ]
    },
    {
     "name": "stderr",
     "output_type": "stream",
     "text": [
      "/var/folders/2f/4wrcxd5n7_zbgfnwpf77l3bm0000gn/T/ipykernel_37441/2773358391.py:9: SettingWithCopyWarning: \n",
      "A value is trying to be set on a copy of a slice from a DataFrame.\n",
      "Try using .loc[row_indexer,col_indexer] = value instead\n",
      "\n",
      "See the caveats in the documentation: https://pandas.pydata.org/pandas-docs/stable/user_guide/indexing.html#returning-a-view-versus-a-copy\n",
      "  df.loc[:, 'summary'] = df['cleaned_message'].apply(lambda x: summarize(x, sentences_count=3) if len(x) > 750 else summarize(x, sentences_count=2) if len(x) > 500 else x)\n"
     ]
    },
    {
     "name": "stdout",
     "output_type": "stream",
     "text": [
      "Embeddings for 56 messages collected.\n",
      "Upserted 56 records. Last id: vysokygovorit_13239\n",
      "Channel: SolovievLive, N of new messages: 1286\n"
     ]
    },
    {
     "name": "stderr",
     "output_type": "stream",
     "text": [
      "/var/folders/2f/4wrcxd5n7_zbgfnwpf77l3bm0000gn/T/ipykernel_37441/2773358391.py:9: SettingWithCopyWarning: \n",
      "A value is trying to be set on a copy of a slice from a DataFrame.\n",
      "Try using .loc[row_indexer,col_indexer] = value instead\n",
      "\n",
      "See the caveats in the documentation: https://pandas.pydata.org/pandas-docs/stable/user_guide/indexing.html#returning-a-view-versus-a-copy\n",
      "  df.loc[:, 'summary'] = df['cleaned_message'].apply(lambda x: summarize(x, sentences_count=3) if len(x) > 750 else summarize(x, sentences_count=2) if len(x) > 500 else x)\n"
     ]
    },
    {
     "name": "stdout",
     "output_type": "stream",
     "text": [
      "Embeddings for 1097 messages collected.\n",
      "Upserted 1097 records. Last id: SolovievLive_216972\n",
      "Channel: margaritasimonyan, N of new messages: 15\n"
     ]
    },
    {
     "name": "stderr",
     "output_type": "stream",
     "text": [
      "/var/folders/2f/4wrcxd5n7_zbgfnwpf77l3bm0000gn/T/ipykernel_37441/2773358391.py:9: SettingWithCopyWarning: \n",
      "A value is trying to be set on a copy of a slice from a DataFrame.\n",
      "Try using .loc[row_indexer,col_indexer] = value instead\n",
      "\n",
      "See the caveats in the documentation: https://pandas.pydata.org/pandas-docs/stable/user_guide/indexing.html#returning-a-view-versus-a-copy\n",
      "  df.loc[:, 'summary'] = df['cleaned_message'].apply(lambda x: summarize(x, sentences_count=3) if len(x) > 750 else summarize(x, sentences_count=2) if len(x) > 500 else x)\n"
     ]
    },
    {
     "name": "stdout",
     "output_type": "stream",
     "text": [
      "Embeddings for 10 messages collected.\n",
      "Upserted 10 records. Last id: margaritasimonyan_13339\n",
      "Channel: breakingmash, N of new messages: 184\n"
     ]
    },
    {
     "name": "stderr",
     "output_type": "stream",
     "text": [
      "/var/folders/2f/4wrcxd5n7_zbgfnwpf77l3bm0000gn/T/ipykernel_37441/2773358391.py:9: SettingWithCopyWarning: \n",
      "A value is trying to be set on a copy of a slice from a DataFrame.\n",
      "Try using .loc[row_indexer,col_indexer] = value instead\n",
      "\n",
      "See the caveats in the documentation: https://pandas.pydata.org/pandas-docs/stable/user_guide/indexing.html#returning-a-view-versus-a-copy\n",
      "  df.loc[:, 'summary'] = df['cleaned_message'].apply(lambda x: summarize(x, sentences_count=3) if len(x) > 750 else summarize(x, sentences_count=2) if len(x) > 500 else x)\n"
     ]
    },
    {
     "name": "stdout",
     "output_type": "stream",
     "text": [
      "Embeddings for 146 messages collected.\n",
      "Upserted 146 records. Last id: breakingmash_48846\n",
      "Channel: tvc_ru, N of new messages: 294\n"
     ]
    },
    {
     "name": "stderr",
     "output_type": "stream",
     "text": [
      "/var/folders/2f/4wrcxd5n7_zbgfnwpf77l3bm0000gn/T/ipykernel_37441/2773358391.py:9: SettingWithCopyWarning: \n",
      "A value is trying to be set on a copy of a slice from a DataFrame.\n",
      "Try using .loc[row_indexer,col_indexer] = value instead\n",
      "\n",
      "See the caveats in the documentation: https://pandas.pydata.org/pandas-docs/stable/user_guide/indexing.html#returning-a-view-versus-a-copy\n",
      "  df.loc[:, 'summary'] = df['cleaned_message'].apply(lambda x: summarize(x, sentences_count=3) if len(x) > 750 else summarize(x, sentences_count=2) if len(x) > 500 else x)\n"
     ]
    },
    {
     "name": "stdout",
     "output_type": "stream",
     "text": [
      "Embeddings for 278 messages collected.\n",
      "Upserted 278 records. Last id: tvc_ru_59693\n",
      "Channel: strelkovii, N of new messages: 26\n"
     ]
    },
    {
     "name": "stderr",
     "output_type": "stream",
     "text": [
      "/var/folders/2f/4wrcxd5n7_zbgfnwpf77l3bm0000gn/T/ipykernel_37441/2773358391.py:9: SettingWithCopyWarning: \n",
      "A value is trying to be set on a copy of a slice from a DataFrame.\n",
      "Try using .loc[row_indexer,col_indexer] = value instead\n",
      "\n",
      "See the caveats in the documentation: https://pandas.pydata.org/pandas-docs/stable/user_guide/indexing.html#returning-a-view-versus-a-copy\n",
      "  df.loc[:, 'summary'] = df['cleaned_message'].apply(lambda x: summarize(x, sentences_count=3) if len(x) > 750 else summarize(x, sentences_count=2) if len(x) > 500 else x)\n"
     ]
    },
    {
     "name": "stdout",
     "output_type": "stream",
     "text": [
      "Embeddings for 15 messages collected.\n",
      "Upserted 15 records. Last id: strelkovii_6420\n",
      "Channel: concordgroup_official, N of new messages: 0\n"
     ]
    }
   ],
   "source": [
    "# init openai\n",
    "openai.api_key = openai_key\n",
    "# initialize pinecone\n",
    "pinecone.init(api_key=pine_key, environment=pine_env)\n",
    "index_name='tg-news'\n",
    "pine_index = pinecone.Index(index_name)\n",
    "# create session_stats\n",
    "df_channel_stats = pd.DataFrame() # store N of posts per channel per day\n",
    "session_time = datetime.datetime.now().strftime(\"%Y-%m-%d %H:%M:%S\") # to name session stats file\n",
    "\n",
    "# ITERATE OVER CHANNELS (df_channels) TO UPDATE PINCONE INDEX\n",
    "df_channels = pd.read_csv('channels.csv', sep = ';')\n",
    "for i, channel, last_id, stance in tqdm_notebook(df_channels[['channel_name', 'last_id', 'stance']].itertuples(), total=df_channels.shape[0]):\n",
    "    # get & clean new messages\n",
    "    df = await get_new_messages(channel, last_id, stance, start_date=start_date)\n",
    "    if df is None:\n",
    "        continue\n",
    "    # clean, summarize, add channel name & stance\n",
    "    df = process_new_messages(df, channel, stance)\n",
    "    # get embeddings with progress bar\n",
    "    df = get_embeddings(df, text_col='summary', model=\"text-embedding-ada-002\")\n",
    "    # upsert to pinecone\n",
    "    upsert_to_pinecone(df, pine_index)\n",
    "\n",
    "    # save session stats for channel\n",
    "    df_channel_stats[channel] = df['date'].dt.date.value_counts()\n",
    "    df_channel_stats.to_csv(f'../session_stats/channel_stats_{session_time}.csv', sep=';', index=True)\n",
    "\n",
    "    # update last_id in df_channels\n",
    "    df_channels.loc[i, 'last_id'] = df['id'].max()\n",
    "    df_channels.to_csv('channels.csv', index=False, sep=';')\n",
    "    # save new messages to pickle (strange errors with pickle df, probably due to different pd versions)\n",
    "    if save_pickle == True:\n",
    "        save_to_pickle(df, channel)"
   ]
  },
  {
   "cell_type": "code",
   "execution_count": 14,
   "metadata": {},
   "outputs": [
    {
     "data": {
      "text/plain": [
       "{'dimension': 1536,\n",
       " 'index_fullness': 0.57829,\n",
       " 'namespaces': {'': {'vector_count': 57829}},\n",
       " 'total_vector_count': 57829}"
      ]
     },
     "execution_count": 14,
     "metadata": {},
     "output_type": "execute_result"
    }
   ],
   "source": [
    "pine_index.describe_index_stats()"
   ]
  },
  {
   "cell_type": "code",
   "execution_count": null,
   "metadata": {},
   "outputs": [],
   "source": [
    "# remove old messages from pinecone (to keep size < 100K)\n",
    "remove_date = datetime.datetime.now() - datetime.timedelta(days=30)\n",
    "remove_date = int(time.mktime(remove_date.timetuple())) # date into integer\n",
    "remove_filter = {'date': {'$lt': remove_date}}\n",
    "pine_index.delete(\n",
    "    filter=remove_filter\n",
    "    )\n",
    "\n",
    "# does not work due to cpg-starter limitations. 2 options:\n",
    "# 1. create new index on proper cluster and delete old one\n",
    "# 2. delete messages by index"
   ]
  },
  {
   "cell_type": "code",
   "execution_count": null,
   "metadata": {},
   "outputs": [],
   "source": []
  },
  {
   "cell_type": "code",
   "execution_count": null,
   "metadata": {},
   "outputs": [],
   "source": []
  },
  {
   "cell_type": "code",
   "execution_count": null,
   "metadata": {},
   "outputs": [],
   "source": []
  }
 ],
 "metadata": {
  "kernelspec": {
   "display_name": "db_prep",
   "language": "python",
   "name": "python3"
  },
  "language_info": {
   "codemirror_mode": {
    "name": "ipython",
    "version": 3
   },
   "file_extension": ".py",
   "mimetype": "text/x-python",
   "name": "python",
   "nbconvert_exporter": "python",
   "pygments_lexer": "ipython3",
   "version": "3.11.6"
  }
 },
 "nbformat": 4,
 "nbformat_minor": 2
}
