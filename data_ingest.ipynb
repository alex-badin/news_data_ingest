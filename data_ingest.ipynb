{
 "cells": [
  {
   "cell_type": "markdown",
   "metadata": {},
   "source": [
    "**2DO**\n",
    "1. Initialize DB\n",
    "- initial database (from Sept'23)\n",
    "- accumulate stats: N of posts by channel-day (will be beneficial for further analysis, e.g. % of news)\n",
    "- update last_id\n",
    "- embeddings\n",
    "    - cut-off length of posts - summarization (2-3 sentences via sumy)\n",
    "    - openai\n",
    "    - pinecone\n",
    "- analyze size - what's time span for pinecone limit of 100K (allow for more channels)\n",
    "\n",
    "2. Script for auto-updates\n",
    "- update as per last_ud\n",
    "- update stats channel-day\n",
    "\n",
    "3. Script to update pinecone\n",
    "- set cut-ff date\n",
    "- option1: combine w/step 2 - send new messages to pinecone (beforehand remove old ones)\n",
    "- option2: load new messages from full DB and send to pinecone (beforehand remove old ones)"
   ]
  },
  {
   "cell_type": "markdown",
   "metadata": {},
   "source": [
    "for today\n",
    "- load 30 days - save locally as separate files\n",
    "- prep cleaned_messages, summary (sumy) for long ones\n",
    "- calc embeds openai\n",
    "- combine into one file \n",
    "- send to pinecone "
   ]
  },
  {
   "cell_type": "markdown",
   "metadata": {},
   "source": [
    "# check env, set constants & imports"
   ]
  },
  {
   "cell_type": "code",
   "execution_count": 1,
   "metadata": {},
   "outputs": [],
   "source": [
    "# Function to check env (colab or local)\n",
    "import sys\n",
    "\n",
    "def check_environment():\n",
    "    if 'google.colab' in sys.modules:\n",
    "        # Running in Google Colab\n",
    "        return \"Google Colab\"\n",
    "\n",
    "    if hasattr(sys, 'prefix'):\n",
    "        if sys.prefix.startswith('/usr/local'):\n",
    "            # Running in a Colab-like environment (could be Colab or another cloud environment)\n",
    "            return \"Colab-like environment\"\n",
    "        else:\n",
    "            # Running in a local environment\n",
    "            return \"Local environment\"\n",
    "\n",
    "    # Default to local environment if checks are inconclusive\n",
    "    return \"Local environment\""
   ]
  },
  {
   "cell_type": "code",
   "execution_count": 2,
   "metadata": {},
   "outputs": [],
   "source": [
    "# set paths and install packages depending on the environment\n",
    "\n",
    "if check_environment() == 'Google Colab':\n",
    "    !pip install telethon openai pinecone --quiet\n",
    "    from google.colab import drive\n",
    "    drive.mount('/content/drive')\n",
    "    parent_path = '/content/drive/MyDrive/Colab Notebooks/Narratives/notebooks_data_ingest/'\n",
    "    keys_path = '/content/drive/MyDrive/Colab Notebooks/Narratives/notebooks_data_ingest/keys'\n",
    "    data_path = '/content/drive/MyDrive/Colab Notebooks/Narratives/TG_messages/'\n",
    "\n",
    "else:\n",
    "    parent_path = ''\n",
    "    keys_path = 'keys/'\n",
    "    data_path = '../TG_messages/'"
   ]
  },
  {
   "cell_type": "code",
   "execution_count": 3,
   "metadata": {},
   "outputs": [
    {
     "name": "stderr",
     "output_type": "stream",
     "text": [
      "/Users/alexbadin/miniconda3/envs/db_prep/lib/python3.11/site-packages/pinecone/index.py:4: TqdmExperimentalWarning: Using `tqdm.autonotebook.tqdm` in notebook mode. Use `tqdm.tqdm` instead to force console mode (e.g. in jupyter console)\n",
      "  from tqdm.autonotebook import tqdm\n"
     ]
    }
   ],
   "source": [
    "from telethon import TelegramClient, events, sync\n",
    "import pandas as pd\n",
    "import numpy as np\n",
    "import datetime\n",
    "import json\n",
    "import os\n",
    "import re\n",
    "from tqdm import tqdm\n",
    "from tqdm.notebook import tqdm_notebook\n",
    "import pickle\n",
    "\n",
    "import unicodedata\n",
    "\n",
    "from sumy.parsers.plaintext import PlaintextParser\n",
    "from sumy.nlp.tokenizers import Tokenizer\n",
    "import nltk\n",
    "from sumy.summarizers.lsa import LsaSummarizer\n",
    "\n",
    "import openai\n",
    "import pinecone"
   ]
  },
  {
   "cell_type": "code",
   "execution_count": 4,
   "metadata": {},
   "outputs": [],
   "source": [
    "with open(keys_path+'api_keys.json') as f:\n",
    "  data = json.loads(f.read())\n",
    "\n",
    "# load TG credentials\n",
    "api_id = data['api_id'] \n",
    "api_hash = data['api_hash']\n",
    "phone = data['phone']\n",
    "\n",
    "#load openai credentials\n",
    "openai_key = data['openai_key']"
   ]
  },
  {
   "cell_type": "markdown",
   "metadata": {},
   "source": [
    "## Initialize DB"
   ]
  },
  {
   "cell_type": "code",
   "execution_count": 5,
   "metadata": {},
   "outputs": [],
   "source": [
    "# load channels\n",
    "df_channels = pd.read_csv(parent_path+'channels.csv', sep=';')"
   ]
  },
  {
   "cell_type": "code",
   "execution_count": 6,
   "metadata": {},
   "outputs": [],
   "source": [
    "def clean_text(text):\n",
    "    # Unicode range for emojis\n",
    "    emoji_pattern = re.compile(\"[\"\n",
    "                               \"\\U0001F600-\\U0001F64F\"  # Emoticons\n",
    "                               \"\\U0001F300-\\U0001F5FF\"  # Symbols & Pictographs\n",
    "                               \"\\U0001F680-\\U0001F6FF\"  # Transport & Map Symbols\n",
    "                               \"\\U0001F1E0-\\U0001F1FF\"  # Flags (iOS)\n",
    "                               \"]+\", flags=re.UNICODE)\n",
    "    \n",
    "    # Remove emojis\n",
    "    text = emoji_pattern.sub(r'', str(text))\n",
    "\n",
    "    # Regular expression for URLs\n",
    "    url_pattern = re.compile(r\"http\\S+|www\\S+\")\n",
    "        \n",
    "    # Remove URLs\n",
    "    text = url_pattern.sub(r'', str(text))\n",
    "    \n",
    "    # Remove any remaining variation selectors\n",
    "    text = ''.join(char for char in text if unicodedata.category(char) != 'Mn')\n",
    "\n",
    "    #Remove Foreign Agent text    \n",
    "    pattern = re.compile(r'[А-ЯЁ18+]{3,}\\s[А-ЯЁ()]{5,}[^\\n]*ИНОСТРАННОГО АГЕНТА')\n",
    "    text = pattern.sub('', text)\n",
    "    name1 = 'ПИВОВАРОВА АЛЕКСЕЯ ВЛАДИМИРОВИЧА'\n",
    "    text = text.replace(name1, '')\n",
    "\n",
    "    return text"
   ]
  },
  {
   "cell_type": "code",
   "execution_count": 7,
   "metadata": {},
   "outputs": [],
   "source": [
    "# summarize the news (select 2 most important sentences)\n",
    "def summarize(text, language=\"russian\", sentences_count=2):\n",
    "    parser = PlaintextParser.from_string(text, Tokenizer(language))\n",
    "    summarizer = LsaSummarizer()\n",
    "    summary = summarizer(parser.document, sentences_count)\n",
    "    return ' '.join([str(sentence) for sentence in summary])\n",
    "\n",
    "# NEED MORE FLEXIBLE MODEL\n",
    "# summarize the news - need to keep length upto 750 characters"
   ]
  },
  {
   "cell_type": "code",
   "execution_count": 32,
   "metadata": {},
   "outputs": [],
   "source": [
    "def process_new_messages(df, channel):    \n",
    "    df = df.drop_duplicates(subset=['id']).copy() # create a copy of the DataFrame before modifying it\n",
    "    df.loc[:, 'cleaned_message'] = df['message'].apply(clean_text) #remove emojis, urls, foreign agent text\n",
    "    df = df[~df.cleaned_message.str.len().between(0, 30)] #remove empty or too short messages\n",
    "    # summarize cleaned_messages: 2 sentences if length > 750, 3 sentences if length > 1500\n",
    "    df.loc[:, 'summary'] = df['cleaned_message'].apply(lambda x: summarize(x, sentences_count=3) if len(x) > 750 else summarize(x, sentences_count=2) if len(x) > 500 else x)\n",
    "    # add channel name & stance\n",
    "    df.loc[:, 'channel'] = channel\n",
    "    df.loc[:, 'stance'] = df['channel'].map(df_channels.set_index('channel_name')['stance'])\n",
    "    return df"
   ]
  },
  {
   "cell_type": "code",
   "execution_count": 38,
   "metadata": {},
   "outputs": [
    {
     "data": {
      "application/vnd.jupyter.widget-view+json": {
       "model_id": "a93839afc0b4485086f4c80d601b5fac",
       "version_major": 2,
       "version_minor": 0
      },
      "text/plain": [
       "  0%|          | 0/48 [00:00<?, ?it/s]"
      ]
     },
     "metadata": {},
     "output_type": "display_data"
    },
    {
     "name": "stdout",
     "output_type": "stream",
     "text": [
      "Channel: rt_russian, N of new messages: 2298\n"
     ]
    },
    {
     "name": "stderr",
     "output_type": "stream",
     "text": [
      "/var/folders/2f/4wrcxd5n7_zbgfnwpf77l3bm0000gn/T/ipykernel_50305/1432942270.py:6: SettingWithCopyWarning: \n",
      "A value is trying to be set on a copy of a slice from a DataFrame.\n",
      "Try using .loc[row_indexer,col_indexer] = value instead\n",
      "\n",
      "See the caveats in the documentation: https://pandas.pydata.org/pandas-docs/stable/user_guide/indexing.html#returning-a-view-versus-a-copy\n",
      "  df['summary'] = df['cleaned_message'].apply(lambda x: summarize(x, sentences_count=3) if len(x) > 750 else summarize(x, sentences_count=2) if len(x) > 500 else x)\n",
      "/var/folders/2f/4wrcxd5n7_zbgfnwpf77l3bm0000gn/T/ipykernel_50305/1432942270.py:8: SettingWithCopyWarning: \n",
      "A value is trying to be set on a copy of a slice from a DataFrame.\n",
      "Try using .loc[row_indexer,col_indexer] = value instead\n",
      "\n",
      "See the caveats in the documentation: https://pandas.pydata.org/pandas-docs/stable/user_guide/indexing.html#returning-a-view-versus-a-copy\n",
      "  df['channel'] = channel\n",
      "/var/folders/2f/4wrcxd5n7_zbgfnwpf77l3bm0000gn/T/ipykernel_50305/1432942270.py:9: SettingWithCopyWarning: \n",
      "A value is trying to be set on a copy of a slice from a DataFrame.\n",
      "Try using .loc[row_indexer,col_indexer] = value instead\n",
      "\n",
      "See the caveats in the documentation: https://pandas.pydata.org/pandas-docs/stable/user_guide/indexing.html#returning-a-view-versus-a-copy\n",
      "  df['stance'] = df['channel'].map(df_channels.set_index('channel_name')['stance'])\n"
     ]
    },
    {
     "name": "stdout",
     "output_type": "stream",
     "text": [
      "Channel: ntvnews, N of new messages: 1002\n"
     ]
    },
    {
     "name": "stderr",
     "output_type": "stream",
     "text": [
      "/var/folders/2f/4wrcxd5n7_zbgfnwpf77l3bm0000gn/T/ipykernel_50305/1432942270.py:6: SettingWithCopyWarning: \n",
      "A value is trying to be set on a copy of a slice from a DataFrame.\n",
      "Try using .loc[row_indexer,col_indexer] = value instead\n",
      "\n",
      "See the caveats in the documentation: https://pandas.pydata.org/pandas-docs/stable/user_guide/indexing.html#returning-a-view-versus-a-copy\n",
      "  df['summary'] = df['cleaned_message'].apply(lambda x: summarize(x, sentences_count=3) if len(x) > 750 else summarize(x, sentences_count=2) if len(x) > 500 else x)\n",
      "/var/folders/2f/4wrcxd5n7_zbgfnwpf77l3bm0000gn/T/ipykernel_50305/1432942270.py:8: SettingWithCopyWarning: \n",
      "A value is trying to be set on a copy of a slice from a DataFrame.\n",
      "Try using .loc[row_indexer,col_indexer] = value instead\n",
      "\n",
      "See the caveats in the documentation: https://pandas.pydata.org/pandas-docs/stable/user_guide/indexing.html#returning-a-view-versus-a-copy\n",
      "  df['channel'] = channel\n",
      "/var/folders/2f/4wrcxd5n7_zbgfnwpf77l3bm0000gn/T/ipykernel_50305/1432942270.py:9: SettingWithCopyWarning: \n",
      "A value is trying to be set on a copy of a slice from a DataFrame.\n",
      "Try using .loc[row_indexer,col_indexer] = value instead\n",
      "\n",
      "See the caveats in the documentation: https://pandas.pydata.org/pandas-docs/stable/user_guide/indexing.html#returning-a-view-versus-a-copy\n",
      "  df['stance'] = df['channel'].map(df_channels.set_index('channel_name')['stance'])\n"
     ]
    },
    {
     "name": "stdout",
     "output_type": "stream",
     "text": [
      "Channel: tvrussia1, N of new messages: 604\n"
     ]
    },
    {
     "name": "stderr",
     "output_type": "stream",
     "text": [
      "/var/folders/2f/4wrcxd5n7_zbgfnwpf77l3bm0000gn/T/ipykernel_50305/1432942270.py:6: SettingWithCopyWarning: \n",
      "A value is trying to be set on a copy of a slice from a DataFrame.\n",
      "Try using .loc[row_indexer,col_indexer] = value instead\n",
      "\n",
      "See the caveats in the documentation: https://pandas.pydata.org/pandas-docs/stable/user_guide/indexing.html#returning-a-view-versus-a-copy\n",
      "  df['summary'] = df['cleaned_message'].apply(lambda x: summarize(x, sentences_count=3) if len(x) > 750 else summarize(x, sentences_count=2) if len(x) > 500 else x)\n",
      "/var/folders/2f/4wrcxd5n7_zbgfnwpf77l3bm0000gn/T/ipykernel_50305/1432942270.py:8: SettingWithCopyWarning: \n",
      "A value is trying to be set on a copy of a slice from a DataFrame.\n",
      "Try using .loc[row_indexer,col_indexer] = value instead\n",
      "\n",
      "See the caveats in the documentation: https://pandas.pydata.org/pandas-docs/stable/user_guide/indexing.html#returning-a-view-versus-a-copy\n",
      "  df['channel'] = channel\n",
      "/var/folders/2f/4wrcxd5n7_zbgfnwpf77l3bm0000gn/T/ipykernel_50305/1432942270.py:9: SettingWithCopyWarning: \n",
      "A value is trying to be set on a copy of a slice from a DataFrame.\n",
      "Try using .loc[row_indexer,col_indexer] = value instead\n",
      "\n",
      "See the caveats in the documentation: https://pandas.pydata.org/pandas-docs/stable/user_guide/indexing.html#returning-a-view-versus-a-copy\n",
      "  df['stance'] = df['channel'].map(df_channels.set_index('channel_name')['stance'])\n"
     ]
    },
    {
     "name": "stdout",
     "output_type": "stream",
     "text": [
      "Channel: bbcrussian, N of new messages: 1260\n"
     ]
    },
    {
     "name": "stderr",
     "output_type": "stream",
     "text": [
      "/var/folders/2f/4wrcxd5n7_zbgfnwpf77l3bm0000gn/T/ipykernel_50305/1432942270.py:6: SettingWithCopyWarning: \n",
      "A value is trying to be set on a copy of a slice from a DataFrame.\n",
      "Try using .loc[row_indexer,col_indexer] = value instead\n",
      "\n",
      "See the caveats in the documentation: https://pandas.pydata.org/pandas-docs/stable/user_guide/indexing.html#returning-a-view-versus-a-copy\n",
      "  df['summary'] = df['cleaned_message'].apply(lambda x: summarize(x, sentences_count=3) if len(x) > 750 else summarize(x, sentences_count=2) if len(x) > 500 else x)\n",
      "/var/folders/2f/4wrcxd5n7_zbgfnwpf77l3bm0000gn/T/ipykernel_50305/1432942270.py:8: SettingWithCopyWarning: \n",
      "A value is trying to be set on a copy of a slice from a DataFrame.\n",
      "Try using .loc[row_indexer,col_indexer] = value instead\n",
      "\n",
      "See the caveats in the documentation: https://pandas.pydata.org/pandas-docs/stable/user_guide/indexing.html#returning-a-view-versus-a-copy\n",
      "  df['channel'] = channel\n",
      "/var/folders/2f/4wrcxd5n7_zbgfnwpf77l3bm0000gn/T/ipykernel_50305/1432942270.py:9: SettingWithCopyWarning: \n",
      "A value is trying to be set on a copy of a slice from a DataFrame.\n",
      "Try using .loc[row_indexer,col_indexer] = value instead\n",
      "\n",
      "See the caveats in the documentation: https://pandas.pydata.org/pandas-docs/stable/user_guide/indexing.html#returning-a-view-versus-a-copy\n",
      "  df['stance'] = df['channel'].map(df_channels.set_index('channel_name')['stance'])\n"
     ]
    },
    {
     "name": "stdout",
     "output_type": "stream",
     "text": [
      "Channel: news_1tv, N of new messages: 440\n"
     ]
    },
    {
     "name": "stderr",
     "output_type": "stream",
     "text": [
      "/var/folders/2f/4wrcxd5n7_zbgfnwpf77l3bm0000gn/T/ipykernel_50305/1432942270.py:6: SettingWithCopyWarning: \n",
      "A value is trying to be set on a copy of a slice from a DataFrame.\n",
      "Try using .loc[row_indexer,col_indexer] = value instead\n",
      "\n",
      "See the caveats in the documentation: https://pandas.pydata.org/pandas-docs/stable/user_guide/indexing.html#returning-a-view-versus-a-copy\n",
      "  df['summary'] = df['cleaned_message'].apply(lambda x: summarize(x, sentences_count=3) if len(x) > 750 else summarize(x, sentences_count=2) if len(x) > 500 else x)\n",
      "/var/folders/2f/4wrcxd5n7_zbgfnwpf77l3bm0000gn/T/ipykernel_50305/1432942270.py:8: SettingWithCopyWarning: \n",
      "A value is trying to be set on a copy of a slice from a DataFrame.\n",
      "Try using .loc[row_indexer,col_indexer] = value instead\n",
      "\n",
      "See the caveats in the documentation: https://pandas.pydata.org/pandas-docs/stable/user_guide/indexing.html#returning-a-view-versus-a-copy\n",
      "  df['channel'] = channel\n",
      "/var/folders/2f/4wrcxd5n7_zbgfnwpf77l3bm0000gn/T/ipykernel_50305/1432942270.py:9: SettingWithCopyWarning: \n",
      "A value is trying to be set on a copy of a slice from a DataFrame.\n",
      "Try using .loc[row_indexer,col_indexer] = value instead\n",
      "\n",
      "See the caveats in the documentation: https://pandas.pydata.org/pandas-docs/stable/user_guide/indexing.html#returning-a-view-versus-a-copy\n",
      "  df['stance'] = df['channel'].map(df_channels.set_index('channel_name')['stance'])\n"
     ]
    },
    {
     "name": "stdout",
     "output_type": "stream",
     "text": [
      "Channel: redakciya_channel, N of new messages: 798\n"
     ]
    },
    {
     "name": "stderr",
     "output_type": "stream",
     "text": [
      "/var/folders/2f/4wrcxd5n7_zbgfnwpf77l3bm0000gn/T/ipykernel_50305/1432942270.py:6: SettingWithCopyWarning: \n",
      "A value is trying to be set on a copy of a slice from a DataFrame.\n",
      "Try using .loc[row_indexer,col_indexer] = value instead\n",
      "\n",
      "See the caveats in the documentation: https://pandas.pydata.org/pandas-docs/stable/user_guide/indexing.html#returning-a-view-versus-a-copy\n",
      "  df['summary'] = df['cleaned_message'].apply(lambda x: summarize(x, sentences_count=3) if len(x) > 750 else summarize(x, sentences_count=2) if len(x) > 500 else x)\n",
      "/var/folders/2f/4wrcxd5n7_zbgfnwpf77l3bm0000gn/T/ipykernel_50305/1432942270.py:8: SettingWithCopyWarning: \n",
      "A value is trying to be set on a copy of a slice from a DataFrame.\n",
      "Try using .loc[row_indexer,col_indexer] = value instead\n",
      "\n",
      "See the caveats in the documentation: https://pandas.pydata.org/pandas-docs/stable/user_guide/indexing.html#returning-a-view-versus-a-copy\n",
      "  df['channel'] = channel\n",
      "/var/folders/2f/4wrcxd5n7_zbgfnwpf77l3bm0000gn/T/ipykernel_50305/1432942270.py:9: SettingWithCopyWarning: \n",
      "A value is trying to be set on a copy of a slice from a DataFrame.\n",
      "Try using .loc[row_indexer,col_indexer] = value instead\n",
      "\n",
      "See the caveats in the documentation: https://pandas.pydata.org/pandas-docs/stable/user_guide/indexing.html#returning-a-view-versus-a-copy\n",
      "  df['stance'] = df['channel'].map(df_channels.set_index('channel_name')['stance'])\n"
     ]
    },
    {
     "name": "stdout",
     "output_type": "stream",
     "text": [
      "Channel: meduzalive, N of new messages: 1015\n"
     ]
    },
    {
     "name": "stderr",
     "output_type": "stream",
     "text": [
      "/var/folders/2f/4wrcxd5n7_zbgfnwpf77l3bm0000gn/T/ipykernel_50305/1432942270.py:6: SettingWithCopyWarning: \n",
      "A value is trying to be set on a copy of a slice from a DataFrame.\n",
      "Try using .loc[row_indexer,col_indexer] = value instead\n",
      "\n",
      "See the caveats in the documentation: https://pandas.pydata.org/pandas-docs/stable/user_guide/indexing.html#returning-a-view-versus-a-copy\n",
      "  df['summary'] = df['cleaned_message'].apply(lambda x: summarize(x, sentences_count=3) if len(x) > 750 else summarize(x, sentences_count=2) if len(x) > 500 else x)\n",
      "/var/folders/2f/4wrcxd5n7_zbgfnwpf77l3bm0000gn/T/ipykernel_50305/1432942270.py:8: SettingWithCopyWarning: \n",
      "A value is trying to be set on a copy of a slice from a DataFrame.\n",
      "Try using .loc[row_indexer,col_indexer] = value instead\n",
      "\n",
      "See the caveats in the documentation: https://pandas.pydata.org/pandas-docs/stable/user_guide/indexing.html#returning-a-view-versus-a-copy\n",
      "  df['channel'] = channel\n",
      "/var/folders/2f/4wrcxd5n7_zbgfnwpf77l3bm0000gn/T/ipykernel_50305/1432942270.py:9: SettingWithCopyWarning: \n",
      "A value is trying to be set on a copy of a slice from a DataFrame.\n",
      "Try using .loc[row_indexer,col_indexer] = value instead\n",
      "\n",
      "See the caveats in the documentation: https://pandas.pydata.org/pandas-docs/stable/user_guide/indexing.html#returning-a-view-versus-a-copy\n",
      "  df['stance'] = df['channel'].map(df_channels.set_index('channel_name')['stance'])\n"
     ]
    },
    {
     "name": "stdout",
     "output_type": "stream",
     "text": [
      "Channel: mediazzzona, N of new messages: 207\n"
     ]
    },
    {
     "name": "stderr",
     "output_type": "stream",
     "text": [
      "/var/folders/2f/4wrcxd5n7_zbgfnwpf77l3bm0000gn/T/ipykernel_50305/1432942270.py:6: SettingWithCopyWarning: \n",
      "A value is trying to be set on a copy of a slice from a DataFrame.\n",
      "Try using .loc[row_indexer,col_indexer] = value instead\n",
      "\n",
      "See the caveats in the documentation: https://pandas.pydata.org/pandas-docs/stable/user_guide/indexing.html#returning-a-view-versus-a-copy\n",
      "  df['summary'] = df['cleaned_message'].apply(lambda x: summarize(x, sentences_count=3) if len(x) > 750 else summarize(x, sentences_count=2) if len(x) > 500 else x)\n",
      "/var/folders/2f/4wrcxd5n7_zbgfnwpf77l3bm0000gn/T/ipykernel_50305/1432942270.py:8: SettingWithCopyWarning: \n",
      "A value is trying to be set on a copy of a slice from a DataFrame.\n",
      "Try using .loc[row_indexer,col_indexer] = value instead\n",
      "\n",
      "See the caveats in the documentation: https://pandas.pydata.org/pandas-docs/stable/user_guide/indexing.html#returning-a-view-versus-a-copy\n",
      "  df['channel'] = channel\n",
      "/var/folders/2f/4wrcxd5n7_zbgfnwpf77l3bm0000gn/T/ipykernel_50305/1432942270.py:9: SettingWithCopyWarning: \n",
      "A value is trying to be set on a copy of a slice from a DataFrame.\n",
      "Try using .loc[row_indexer,col_indexer] = value instead\n",
      "\n",
      "See the caveats in the documentation: https://pandas.pydata.org/pandas-docs/stable/user_guide/indexing.html#returning-a-view-versus-a-copy\n",
      "  df['stance'] = df['channel'].map(df_channels.set_index('channel_name')['stance'])\n"
     ]
    },
    {
     "name": "stdout",
     "output_type": "stream",
     "text": [
      "Channel: thebell_io, N of new messages: 168\n"
     ]
    },
    {
     "name": "stderr",
     "output_type": "stream",
     "text": [
      "/var/folders/2f/4wrcxd5n7_zbgfnwpf77l3bm0000gn/T/ipykernel_50305/1432942270.py:6: SettingWithCopyWarning: \n",
      "A value is trying to be set on a copy of a slice from a DataFrame.\n",
      "Try using .loc[row_indexer,col_indexer] = value instead\n",
      "\n",
      "See the caveats in the documentation: https://pandas.pydata.org/pandas-docs/stable/user_guide/indexing.html#returning-a-view-versus-a-copy\n",
      "  df['summary'] = df['cleaned_message'].apply(lambda x: summarize(x, sentences_count=3) if len(x) > 750 else summarize(x, sentences_count=2) if len(x) > 500 else x)\n",
      "/var/folders/2f/4wrcxd5n7_zbgfnwpf77l3bm0000gn/T/ipykernel_50305/1432942270.py:8: SettingWithCopyWarning: \n",
      "A value is trying to be set on a copy of a slice from a DataFrame.\n",
      "Try using .loc[row_indexer,col_indexer] = value instead\n",
      "\n",
      "See the caveats in the documentation: https://pandas.pydata.org/pandas-docs/stable/user_guide/indexing.html#returning-a-view-versus-a-copy\n",
      "  df['channel'] = channel\n",
      "/var/folders/2f/4wrcxd5n7_zbgfnwpf77l3bm0000gn/T/ipykernel_50305/1432942270.py:9: SettingWithCopyWarning: \n",
      "A value is trying to be set on a copy of a slice from a DataFrame.\n",
      "Try using .loc[row_indexer,col_indexer] = value instead\n",
      "\n",
      "See the caveats in the documentation: https://pandas.pydata.org/pandas-docs/stable/user_guide/indexing.html#returning-a-view-versus-a-copy\n",
      "  df['stance'] = df['channel'].map(df_channels.set_index('channel_name')['stance'])\n"
     ]
    },
    {
     "name": "stdout",
     "output_type": "stream",
     "text": [
      "Channel: rian_ru, N of new messages: 1655\n"
     ]
    },
    {
     "name": "stderr",
     "output_type": "stream",
     "text": [
      "/var/folders/2f/4wrcxd5n7_zbgfnwpf77l3bm0000gn/T/ipykernel_50305/1432942270.py:6: SettingWithCopyWarning: \n",
      "A value is trying to be set on a copy of a slice from a DataFrame.\n",
      "Try using .loc[row_indexer,col_indexer] = value instead\n",
      "\n",
      "See the caveats in the documentation: https://pandas.pydata.org/pandas-docs/stable/user_guide/indexing.html#returning-a-view-versus-a-copy\n",
      "  df['summary'] = df['cleaned_message'].apply(lambda x: summarize(x, sentences_count=3) if len(x) > 750 else summarize(x, sentences_count=2) if len(x) > 500 else x)\n",
      "/var/folders/2f/4wrcxd5n7_zbgfnwpf77l3bm0000gn/T/ipykernel_50305/1432942270.py:8: SettingWithCopyWarning: \n",
      "A value is trying to be set on a copy of a slice from a DataFrame.\n",
      "Try using .loc[row_indexer,col_indexer] = value instead\n",
      "\n",
      "See the caveats in the documentation: https://pandas.pydata.org/pandas-docs/stable/user_guide/indexing.html#returning-a-view-versus-a-copy\n",
      "  df['channel'] = channel\n",
      "/var/folders/2f/4wrcxd5n7_zbgfnwpf77l3bm0000gn/T/ipykernel_50305/1432942270.py:9: SettingWithCopyWarning: \n",
      "A value is trying to be set on a copy of a slice from a DataFrame.\n",
      "Try using .loc[row_indexer,col_indexer] = value instead\n",
      "\n",
      "See the caveats in the documentation: https://pandas.pydata.org/pandas-docs/stable/user_guide/indexing.html#returning-a-view-versus-a-copy\n",
      "  df['stance'] = df['channel'].map(df_channels.set_index('channel_name')['stance'])\n"
     ]
    },
    {
     "name": "stdout",
     "output_type": "stream",
     "text": [
      "Channel: readovkanews, N of new messages: 978\n"
     ]
    },
    {
     "name": "stderr",
     "output_type": "stream",
     "text": [
      "/var/folders/2f/4wrcxd5n7_zbgfnwpf77l3bm0000gn/T/ipykernel_50305/1432942270.py:6: SettingWithCopyWarning: \n",
      "A value is trying to be set on a copy of a slice from a DataFrame.\n",
      "Try using .loc[row_indexer,col_indexer] = value instead\n",
      "\n",
      "See the caveats in the documentation: https://pandas.pydata.org/pandas-docs/stable/user_guide/indexing.html#returning-a-view-versus-a-copy\n",
      "  df['summary'] = df['cleaned_message'].apply(lambda x: summarize(x, sentences_count=3) if len(x) > 750 else summarize(x, sentences_count=2) if len(x) > 500 else x)\n",
      "/var/folders/2f/4wrcxd5n7_zbgfnwpf77l3bm0000gn/T/ipykernel_50305/1432942270.py:8: SettingWithCopyWarning: \n",
      "A value is trying to be set on a copy of a slice from a DataFrame.\n",
      "Try using .loc[row_indexer,col_indexer] = value instead\n",
      "\n",
      "See the caveats in the documentation: https://pandas.pydata.org/pandas-docs/stable/user_guide/indexing.html#returning-a-view-versus-a-copy\n",
      "  df['channel'] = channel\n",
      "/var/folders/2f/4wrcxd5n7_zbgfnwpf77l3bm0000gn/T/ipykernel_50305/1432942270.py:9: SettingWithCopyWarning: \n",
      "A value is trying to be set on a copy of a slice from a DataFrame.\n",
      "Try using .loc[row_indexer,col_indexer] = value instead\n",
      "\n",
      "See the caveats in the documentation: https://pandas.pydata.org/pandas-docs/stable/user_guide/indexing.html#returning-a-view-versus-a-copy\n",
      "  df['stance'] = df['channel'].map(df_channels.set_index('channel_name')['stance'])\n"
     ]
    },
    {
     "name": "stdout",
     "output_type": "stream",
     "text": [
      "Channel: novaya_pishet, N of new messages: 206\n"
     ]
    },
    {
     "name": "stderr",
     "output_type": "stream",
     "text": [
      "/var/folders/2f/4wrcxd5n7_zbgfnwpf77l3bm0000gn/T/ipykernel_50305/1432942270.py:6: SettingWithCopyWarning: \n",
      "A value is trying to be set on a copy of a slice from a DataFrame.\n",
      "Try using .loc[row_indexer,col_indexer] = value instead\n",
      "\n",
      "See the caveats in the documentation: https://pandas.pydata.org/pandas-docs/stable/user_guide/indexing.html#returning-a-view-versus-a-copy\n",
      "  df['summary'] = df['cleaned_message'].apply(lambda x: summarize(x, sentences_count=3) if len(x) > 750 else summarize(x, sentences_count=2) if len(x) > 500 else x)\n",
      "/var/folders/2f/4wrcxd5n7_zbgfnwpf77l3bm0000gn/T/ipykernel_50305/1432942270.py:8: SettingWithCopyWarning: \n",
      "A value is trying to be set on a copy of a slice from a DataFrame.\n",
      "Try using .loc[row_indexer,col_indexer] = value instead\n",
      "\n",
      "See the caveats in the documentation: https://pandas.pydata.org/pandas-docs/stable/user_guide/indexing.html#returning-a-view-versus-a-copy\n",
      "  df['channel'] = channel\n",
      "/var/folders/2f/4wrcxd5n7_zbgfnwpf77l3bm0000gn/T/ipykernel_50305/1432942270.py:9: SettingWithCopyWarning: \n",
      "A value is trying to be set on a copy of a slice from a DataFrame.\n",
      "Try using .loc[row_indexer,col_indexer] = value instead\n",
      "\n",
      "See the caveats in the documentation: https://pandas.pydata.org/pandas-docs/stable/user_guide/indexing.html#returning-a-view-versus-a-copy\n",
      "  df['stance'] = df['channel'].map(df_channels.set_index('channel_name')['stance'])\n"
     ]
    },
    {
     "name": "stdout",
     "output_type": "stream",
     "text": [
      "Channel: rbc_news, N of new messages: 781\n"
     ]
    },
    {
     "name": "stderr",
     "output_type": "stream",
     "text": [
      "/var/folders/2f/4wrcxd5n7_zbgfnwpf77l3bm0000gn/T/ipykernel_50305/1432942270.py:6: SettingWithCopyWarning: \n",
      "A value is trying to be set on a copy of a slice from a DataFrame.\n",
      "Try using .loc[row_indexer,col_indexer] = value instead\n",
      "\n",
      "See the caveats in the documentation: https://pandas.pydata.org/pandas-docs/stable/user_guide/indexing.html#returning-a-view-versus-a-copy\n",
      "  df['summary'] = df['cleaned_message'].apply(lambda x: summarize(x, sentences_count=3) if len(x) > 750 else summarize(x, sentences_count=2) if len(x) > 500 else x)\n",
      "/var/folders/2f/4wrcxd5n7_zbgfnwpf77l3bm0000gn/T/ipykernel_50305/1432942270.py:8: SettingWithCopyWarning: \n",
      "A value is trying to be set on a copy of a slice from a DataFrame.\n",
      "Try using .loc[row_indexer,col_indexer] = value instead\n",
      "\n",
      "See the caveats in the documentation: https://pandas.pydata.org/pandas-docs/stable/user_guide/indexing.html#returning-a-view-versus-a-copy\n",
      "  df['channel'] = channel\n",
      "/var/folders/2f/4wrcxd5n7_zbgfnwpf77l3bm0000gn/T/ipykernel_50305/1432942270.py:9: SettingWithCopyWarning: \n",
      "A value is trying to be set on a copy of a slice from a DataFrame.\n",
      "Try using .loc[row_indexer,col_indexer] = value instead\n",
      "\n",
      "See the caveats in the documentation: https://pandas.pydata.org/pandas-docs/stable/user_guide/indexing.html#returning-a-view-versus-a-copy\n",
      "  df['stance'] = df['channel'].map(df_channels.set_index('channel_name')['stance'])\n"
     ]
    },
    {
     "name": "stdout",
     "output_type": "stream",
     "text": [
      "Channel: zvezdanews, N of new messages: 1242\n"
     ]
    },
    {
     "name": "stderr",
     "output_type": "stream",
     "text": [
      "/var/folders/2f/4wrcxd5n7_zbgfnwpf77l3bm0000gn/T/ipykernel_50305/1432942270.py:6: SettingWithCopyWarning: \n",
      "A value is trying to be set on a copy of a slice from a DataFrame.\n",
      "Try using .loc[row_indexer,col_indexer] = value instead\n",
      "\n",
      "See the caveats in the documentation: https://pandas.pydata.org/pandas-docs/stable/user_guide/indexing.html#returning-a-view-versus-a-copy\n",
      "  df['summary'] = df['cleaned_message'].apply(lambda x: summarize(x, sentences_count=3) if len(x) > 750 else summarize(x, sentences_count=2) if len(x) > 500 else x)\n",
      "/var/folders/2f/4wrcxd5n7_zbgfnwpf77l3bm0000gn/T/ipykernel_50305/1432942270.py:8: SettingWithCopyWarning: \n",
      "A value is trying to be set on a copy of a slice from a DataFrame.\n",
      "Try using .loc[row_indexer,col_indexer] = value instead\n",
      "\n",
      "See the caveats in the documentation: https://pandas.pydata.org/pandas-docs/stable/user_guide/indexing.html#returning-a-view-versus-a-copy\n",
      "  df['channel'] = channel\n",
      "/var/folders/2f/4wrcxd5n7_zbgfnwpf77l3bm0000gn/T/ipykernel_50305/1432942270.py:9: SettingWithCopyWarning: \n",
      "A value is trying to be set on a copy of a slice from a DataFrame.\n",
      "Try using .loc[row_indexer,col_indexer] = value instead\n",
      "\n",
      "See the caveats in the documentation: https://pandas.pydata.org/pandas-docs/stable/user_guide/indexing.html#returning-a-view-versus-a-copy\n",
      "  df['stance'] = df['channel'].map(df_channels.set_index('channel_name')['stance'])\n"
     ]
    },
    {
     "name": "stdout",
     "output_type": "stream",
     "text": [
      "Channel: aifonline, N of new messages: 2025\n"
     ]
    },
    {
     "name": "stderr",
     "output_type": "stream",
     "text": [
      "/var/folders/2f/4wrcxd5n7_zbgfnwpf77l3bm0000gn/T/ipykernel_50305/1432942270.py:6: SettingWithCopyWarning: \n",
      "A value is trying to be set on a copy of a slice from a DataFrame.\n",
      "Try using .loc[row_indexer,col_indexer] = value instead\n",
      "\n",
      "See the caveats in the documentation: https://pandas.pydata.org/pandas-docs/stable/user_guide/indexing.html#returning-a-view-versus-a-copy\n",
      "  df['summary'] = df['cleaned_message'].apply(lambda x: summarize(x, sentences_count=3) if len(x) > 750 else summarize(x, sentences_count=2) if len(x) > 500 else x)\n",
      "/var/folders/2f/4wrcxd5n7_zbgfnwpf77l3bm0000gn/T/ipykernel_50305/1432942270.py:8: SettingWithCopyWarning: \n",
      "A value is trying to be set on a copy of a slice from a DataFrame.\n",
      "Try using .loc[row_indexer,col_indexer] = value instead\n",
      "\n",
      "See the caveats in the documentation: https://pandas.pydata.org/pandas-docs/stable/user_guide/indexing.html#returning-a-view-versus-a-copy\n",
      "  df['channel'] = channel\n",
      "/var/folders/2f/4wrcxd5n7_zbgfnwpf77l3bm0000gn/T/ipykernel_50305/1432942270.py:9: SettingWithCopyWarning: \n",
      "A value is trying to be set on a copy of a slice from a DataFrame.\n",
      "Try using .loc[row_indexer,col_indexer] = value instead\n",
      "\n",
      "See the caveats in the documentation: https://pandas.pydata.org/pandas-docs/stable/user_guide/indexing.html#returning-a-view-versus-a-copy\n",
      "  df['stance'] = df['channel'].map(df_channels.set_index('channel_name')['stance'])\n"
     ]
    },
    {
     "name": "stdout",
     "output_type": "stream",
     "text": [
      "Channel: BFMnews, N of new messages: 510\n"
     ]
    },
    {
     "name": "stderr",
     "output_type": "stream",
     "text": [
      "/var/folders/2f/4wrcxd5n7_zbgfnwpf77l3bm0000gn/T/ipykernel_50305/1432942270.py:6: SettingWithCopyWarning: \n",
      "A value is trying to be set on a copy of a slice from a DataFrame.\n",
      "Try using .loc[row_indexer,col_indexer] = value instead\n",
      "\n",
      "See the caveats in the documentation: https://pandas.pydata.org/pandas-docs/stable/user_guide/indexing.html#returning-a-view-versus-a-copy\n",
      "  df['summary'] = df['cleaned_message'].apply(lambda x: summarize(x, sentences_count=3) if len(x) > 750 else summarize(x, sentences_count=2) if len(x) > 500 else x)\n",
      "/var/folders/2f/4wrcxd5n7_zbgfnwpf77l3bm0000gn/T/ipykernel_50305/1432942270.py:8: SettingWithCopyWarning: \n",
      "A value is trying to be set on a copy of a slice from a DataFrame.\n",
      "Try using .loc[row_indexer,col_indexer] = value instead\n",
      "\n",
      "See the caveats in the documentation: https://pandas.pydata.org/pandas-docs/stable/user_guide/indexing.html#returning-a-view-versus-a-copy\n",
      "  df['channel'] = channel\n",
      "/var/folders/2f/4wrcxd5n7_zbgfnwpf77l3bm0000gn/T/ipykernel_50305/1432942270.py:9: SettingWithCopyWarning: \n",
      "A value is trying to be set on a copy of a slice from a DataFrame.\n",
      "Try using .loc[row_indexer,col_indexer] = value instead\n",
      "\n",
      "See the caveats in the documentation: https://pandas.pydata.org/pandas-docs/stable/user_guide/indexing.html#returning-a-view-versus-a-copy\n",
      "  df['stance'] = df['channel'].map(df_channels.set_index('channel_name')['stance'])\n"
     ]
    },
    {
     "name": "stdout",
     "output_type": "stream",
     "text": [
      "Channel: fontankaspb, N of new messages: 590\n"
     ]
    },
    {
     "name": "stderr",
     "output_type": "stream",
     "text": [
      "/var/folders/2f/4wrcxd5n7_zbgfnwpf77l3bm0000gn/T/ipykernel_50305/1432942270.py:6: SettingWithCopyWarning: \n",
      "A value is trying to be set on a copy of a slice from a DataFrame.\n",
      "Try using .loc[row_indexer,col_indexer] = value instead\n",
      "\n",
      "See the caveats in the documentation: https://pandas.pydata.org/pandas-docs/stable/user_guide/indexing.html#returning-a-view-versus-a-copy\n",
      "  df['summary'] = df['cleaned_message'].apply(lambda x: summarize(x, sentences_count=3) if len(x) > 750 else summarize(x, sentences_count=2) if len(x) > 500 else x)\n",
      "/var/folders/2f/4wrcxd5n7_zbgfnwpf77l3bm0000gn/T/ipykernel_50305/1432942270.py:8: SettingWithCopyWarning: \n",
      "A value is trying to be set on a copy of a slice from a DataFrame.\n",
      "Try using .loc[row_indexer,col_indexer] = value instead\n",
      "\n",
      "See the caveats in the documentation: https://pandas.pydata.org/pandas-docs/stable/user_guide/indexing.html#returning-a-view-versus-a-copy\n",
      "  df['channel'] = channel\n",
      "/var/folders/2f/4wrcxd5n7_zbgfnwpf77l3bm0000gn/T/ipykernel_50305/1432942270.py:9: SettingWithCopyWarning: \n",
      "A value is trying to be set on a copy of a slice from a DataFrame.\n",
      "Try using .loc[row_indexer,col_indexer] = value instead\n",
      "\n",
      "See the caveats in the documentation: https://pandas.pydata.org/pandas-docs/stable/user_guide/indexing.html#returning-a-view-versus-a-copy\n",
      "  df['stance'] = df['channel'].map(df_channels.set_index('channel_name')['stance'])\n"
     ]
    },
    {
     "name": "stdout",
     "output_type": "stream",
     "text": [
      "Channel: forbesrussia, N of new messages: 584\n"
     ]
    },
    {
     "name": "stderr",
     "output_type": "stream",
     "text": [
      "/var/folders/2f/4wrcxd5n7_zbgfnwpf77l3bm0000gn/T/ipykernel_50305/1432942270.py:6: SettingWithCopyWarning: \n",
      "A value is trying to be set on a copy of a slice from a DataFrame.\n",
      "Try using .loc[row_indexer,col_indexer] = value instead\n",
      "\n",
      "See the caveats in the documentation: https://pandas.pydata.org/pandas-docs/stable/user_guide/indexing.html#returning-a-view-versus-a-copy\n",
      "  df['summary'] = df['cleaned_message'].apply(lambda x: summarize(x, sentences_count=3) if len(x) > 750 else summarize(x, sentences_count=2) if len(x) > 500 else x)\n",
      "/var/folders/2f/4wrcxd5n7_zbgfnwpf77l3bm0000gn/T/ipykernel_50305/1432942270.py:8: SettingWithCopyWarning: \n",
      "A value is trying to be set on a copy of a slice from a DataFrame.\n",
      "Try using .loc[row_indexer,col_indexer] = value instead\n",
      "\n",
      "See the caveats in the documentation: https://pandas.pydata.org/pandas-docs/stable/user_guide/indexing.html#returning-a-view-versus-a-copy\n",
      "  df['channel'] = channel\n",
      "/var/folders/2f/4wrcxd5n7_zbgfnwpf77l3bm0000gn/T/ipykernel_50305/1432942270.py:9: SettingWithCopyWarning: \n",
      "A value is trying to be set on a copy of a slice from a DataFrame.\n",
      "Try using .loc[row_indexer,col_indexer] = value instead\n",
      "\n",
      "See the caveats in the documentation: https://pandas.pydata.org/pandas-docs/stable/user_guide/indexing.html#returning-a-view-versus-a-copy\n",
      "  df['stance'] = df['channel'].map(df_channels.set_index('channel_name')['stance'])\n"
     ]
    },
    {
     "name": "stdout",
     "output_type": "stream",
     "text": [
      "Channel: gazetaru, N of new messages: 653\n"
     ]
    },
    {
     "name": "stderr",
     "output_type": "stream",
     "text": [
      "/var/folders/2f/4wrcxd5n7_zbgfnwpf77l3bm0000gn/T/ipykernel_50305/1432942270.py:6: SettingWithCopyWarning: \n",
      "A value is trying to be set on a copy of a slice from a DataFrame.\n",
      "Try using .loc[row_indexer,col_indexer] = value instead\n",
      "\n",
      "See the caveats in the documentation: https://pandas.pydata.org/pandas-docs/stable/user_guide/indexing.html#returning-a-view-versus-a-copy\n",
      "  df['summary'] = df['cleaned_message'].apply(lambda x: summarize(x, sentences_count=3) if len(x) > 750 else summarize(x, sentences_count=2) if len(x) > 500 else x)\n",
      "/var/folders/2f/4wrcxd5n7_zbgfnwpf77l3bm0000gn/T/ipykernel_50305/1432942270.py:8: SettingWithCopyWarning: \n",
      "A value is trying to be set on a copy of a slice from a DataFrame.\n",
      "Try using .loc[row_indexer,col_indexer] = value instead\n",
      "\n",
      "See the caveats in the documentation: https://pandas.pydata.org/pandas-docs/stable/user_guide/indexing.html#returning-a-view-versus-a-copy\n",
      "  df['channel'] = channel\n",
      "/var/folders/2f/4wrcxd5n7_zbgfnwpf77l3bm0000gn/T/ipykernel_50305/1432942270.py:9: SettingWithCopyWarning: \n",
      "A value is trying to be set on a copy of a slice from a DataFrame.\n",
      "Try using .loc[row_indexer,col_indexer] = value instead\n",
      "\n",
      "See the caveats in the documentation: https://pandas.pydata.org/pandas-docs/stable/user_guide/indexing.html#returning-a-view-versus-a-copy\n",
      "  df['stance'] = df['channel'].map(df_channels.set_index('channel_name')['stance'])\n"
     ]
    },
    {
     "name": "stdout",
     "output_type": "stream",
     "text": [
      "Channel: interfaxonline, N of new messages: 570\n"
     ]
    },
    {
     "name": "stderr",
     "output_type": "stream",
     "text": [
      "/var/folders/2f/4wrcxd5n7_zbgfnwpf77l3bm0000gn/T/ipykernel_50305/1432942270.py:6: SettingWithCopyWarning: \n",
      "A value is trying to be set on a copy of a slice from a DataFrame.\n",
      "Try using .loc[row_indexer,col_indexer] = value instead\n",
      "\n",
      "See the caveats in the documentation: https://pandas.pydata.org/pandas-docs/stable/user_guide/indexing.html#returning-a-view-versus-a-copy\n",
      "  df['summary'] = df['cleaned_message'].apply(lambda x: summarize(x, sentences_count=3) if len(x) > 750 else summarize(x, sentences_count=2) if len(x) > 500 else x)\n",
      "/var/folders/2f/4wrcxd5n7_zbgfnwpf77l3bm0000gn/T/ipykernel_50305/1432942270.py:8: SettingWithCopyWarning: \n",
      "A value is trying to be set on a copy of a slice from a DataFrame.\n",
      "Try using .loc[row_indexer,col_indexer] = value instead\n",
      "\n",
      "See the caveats in the documentation: https://pandas.pydata.org/pandas-docs/stable/user_guide/indexing.html#returning-a-view-versus-a-copy\n",
      "  df['channel'] = channel\n",
      "/var/folders/2f/4wrcxd5n7_zbgfnwpf77l3bm0000gn/T/ipykernel_50305/1432942270.py:9: SettingWithCopyWarning: \n",
      "A value is trying to be set on a copy of a slice from a DataFrame.\n",
      "Try using .loc[row_indexer,col_indexer] = value instead\n",
      "\n",
      "See the caveats in the documentation: https://pandas.pydata.org/pandas-docs/stable/user_guide/indexing.html#returning-a-view-versus-a-copy\n",
      "  df['stance'] = df['channel'].map(df_channels.set_index('channel_name')['stance'])\n"
     ]
    },
    {
     "name": "stdout",
     "output_type": "stream",
     "text": [
      "Channel: izvestia, N of new messages: 2936\n"
     ]
    },
    {
     "name": "stderr",
     "output_type": "stream",
     "text": [
      "/var/folders/2f/4wrcxd5n7_zbgfnwpf77l3bm0000gn/T/ipykernel_50305/1432942270.py:6: SettingWithCopyWarning: \n",
      "A value is trying to be set on a copy of a slice from a DataFrame.\n",
      "Try using .loc[row_indexer,col_indexer] = value instead\n",
      "\n",
      "See the caveats in the documentation: https://pandas.pydata.org/pandas-docs/stable/user_guide/indexing.html#returning-a-view-versus-a-copy\n",
      "  df['summary'] = df['cleaned_message'].apply(lambda x: summarize(x, sentences_count=3) if len(x) > 750 else summarize(x, sentences_count=2) if len(x) > 500 else x)\n",
      "/var/folders/2f/4wrcxd5n7_zbgfnwpf77l3bm0000gn/T/ipykernel_50305/1432942270.py:8: SettingWithCopyWarning: \n",
      "A value is trying to be set on a copy of a slice from a DataFrame.\n",
      "Try using .loc[row_indexer,col_indexer] = value instead\n",
      "\n",
      "See the caveats in the documentation: https://pandas.pydata.org/pandas-docs/stable/user_guide/indexing.html#returning-a-view-versus-a-copy\n",
      "  df['channel'] = channel\n",
      "/var/folders/2f/4wrcxd5n7_zbgfnwpf77l3bm0000gn/T/ipykernel_50305/1432942270.py:9: SettingWithCopyWarning: \n",
      "A value is trying to be set on a copy of a slice from a DataFrame.\n",
      "Try using .loc[row_indexer,col_indexer] = value instead\n",
      "\n",
      "See the caveats in the documentation: https://pandas.pydata.org/pandas-docs/stable/user_guide/indexing.html#returning-a-view-versus-a-copy\n",
      "  df['stance'] = df['channel'].map(df_channels.set_index('channel_name')['stance'])\n"
     ]
    },
    {
     "name": "stdout",
     "output_type": "stream",
     "text": [
      "Channel: kommersant, N of new messages: 604\n"
     ]
    },
    {
     "name": "stderr",
     "output_type": "stream",
     "text": [
      "/var/folders/2f/4wrcxd5n7_zbgfnwpf77l3bm0000gn/T/ipykernel_50305/1432942270.py:6: SettingWithCopyWarning: \n",
      "A value is trying to be set on a copy of a slice from a DataFrame.\n",
      "Try using .loc[row_indexer,col_indexer] = value instead\n",
      "\n",
      "See the caveats in the documentation: https://pandas.pydata.org/pandas-docs/stable/user_guide/indexing.html#returning-a-view-versus-a-copy\n",
      "  df['summary'] = df['cleaned_message'].apply(lambda x: summarize(x, sentences_count=3) if len(x) > 750 else summarize(x, sentences_count=2) if len(x) > 500 else x)\n",
      "/var/folders/2f/4wrcxd5n7_zbgfnwpf77l3bm0000gn/T/ipykernel_50305/1432942270.py:8: SettingWithCopyWarning: \n",
      "A value is trying to be set on a copy of a slice from a DataFrame.\n",
      "Try using .loc[row_indexer,col_indexer] = value instead\n",
      "\n",
      "See the caveats in the documentation: https://pandas.pydata.org/pandas-docs/stable/user_guide/indexing.html#returning-a-view-versus-a-copy\n",
      "  df['channel'] = channel\n",
      "/var/folders/2f/4wrcxd5n7_zbgfnwpf77l3bm0000gn/T/ipykernel_50305/1432942270.py:9: SettingWithCopyWarning: \n",
      "A value is trying to be set on a copy of a slice from a DataFrame.\n",
      "Try using .loc[row_indexer,col_indexer] = value instead\n",
      "\n",
      "See the caveats in the documentation: https://pandas.pydata.org/pandas-docs/stable/user_guide/indexing.html#returning-a-view-versus-a-copy\n",
      "  df['stance'] = df['channel'].map(df_channels.set_index('channel_name')['stance'])\n"
     ]
    },
    {
     "name": "stdout",
     "output_type": "stream",
     "text": [
      "Channel: lentadnya, N of new messages: 1428\n"
     ]
    },
    {
     "name": "stderr",
     "output_type": "stream",
     "text": [
      "/var/folders/2f/4wrcxd5n7_zbgfnwpf77l3bm0000gn/T/ipykernel_50305/1432942270.py:6: SettingWithCopyWarning: \n",
      "A value is trying to be set on a copy of a slice from a DataFrame.\n",
      "Try using .loc[row_indexer,col_indexer] = value instead\n",
      "\n",
      "See the caveats in the documentation: https://pandas.pydata.org/pandas-docs/stable/user_guide/indexing.html#returning-a-view-versus-a-copy\n",
      "  df['summary'] = df['cleaned_message'].apply(lambda x: summarize(x, sentences_count=3) if len(x) > 750 else summarize(x, sentences_count=2) if len(x) > 500 else x)\n",
      "/var/folders/2f/4wrcxd5n7_zbgfnwpf77l3bm0000gn/T/ipykernel_50305/1432942270.py:8: SettingWithCopyWarning: \n",
      "A value is trying to be set on a copy of a slice from a DataFrame.\n",
      "Try using .loc[row_indexer,col_indexer] = value instead\n",
      "\n",
      "See the caveats in the documentation: https://pandas.pydata.org/pandas-docs/stable/user_guide/indexing.html#returning-a-view-versus-a-copy\n",
      "  df['channel'] = channel\n",
      "/var/folders/2f/4wrcxd5n7_zbgfnwpf77l3bm0000gn/T/ipykernel_50305/1432942270.py:9: SettingWithCopyWarning: \n",
      "A value is trying to be set on a copy of a slice from a DataFrame.\n",
      "Try using .loc[row_indexer,col_indexer] = value instead\n",
      "\n",
      "See the caveats in the documentation: https://pandas.pydata.org/pandas-docs/stable/user_guide/indexing.html#returning-a-view-versus-a-copy\n",
      "  df['stance'] = df['channel'].map(df_channels.set_index('channel_name')['stance'])\n"
     ]
    },
    {
     "name": "stdout",
     "output_type": "stream",
     "text": [
      "Channel: lifenews, N of new messages: 222\n"
     ]
    },
    {
     "name": "stderr",
     "output_type": "stream",
     "text": [
      "/var/folders/2f/4wrcxd5n7_zbgfnwpf77l3bm0000gn/T/ipykernel_50305/1432942270.py:6: SettingWithCopyWarning: \n",
      "A value is trying to be set on a copy of a slice from a DataFrame.\n",
      "Try using .loc[row_indexer,col_indexer] = value instead\n",
      "\n",
      "See the caveats in the documentation: https://pandas.pydata.org/pandas-docs/stable/user_guide/indexing.html#returning-a-view-versus-a-copy\n",
      "  df['summary'] = df['cleaned_message'].apply(lambda x: summarize(x, sentences_count=3) if len(x) > 750 else summarize(x, sentences_count=2) if len(x) > 500 else x)\n",
      "/var/folders/2f/4wrcxd5n7_zbgfnwpf77l3bm0000gn/T/ipykernel_50305/1432942270.py:8: SettingWithCopyWarning: \n",
      "A value is trying to be set on a copy of a slice from a DataFrame.\n",
      "Try using .loc[row_indexer,col_indexer] = value instead\n",
      "\n",
      "See the caveats in the documentation: https://pandas.pydata.org/pandas-docs/stable/user_guide/indexing.html#returning-a-view-versus-a-copy\n",
      "  df['channel'] = channel\n",
      "/var/folders/2f/4wrcxd5n7_zbgfnwpf77l3bm0000gn/T/ipykernel_50305/1432942270.py:9: SettingWithCopyWarning: \n",
      "A value is trying to be set on a copy of a slice from a DataFrame.\n",
      "Try using .loc[row_indexer,col_indexer] = value instead\n",
      "\n",
      "See the caveats in the documentation: https://pandas.pydata.org/pandas-docs/stable/user_guide/indexing.html#returning-a-view-versus-a-copy\n",
      "  df['stance'] = df['channel'].map(df_channels.set_index('channel_name')['stance'])\n"
     ]
    },
    {
     "name": "stdout",
     "output_type": "stream",
     "text": [
      "Channel: mk_ru, N of new messages: 1826\n"
     ]
    },
    {
     "name": "stderr",
     "output_type": "stream",
     "text": [
      "/var/folders/2f/4wrcxd5n7_zbgfnwpf77l3bm0000gn/T/ipykernel_50305/1432942270.py:6: SettingWithCopyWarning: \n",
      "A value is trying to be set on a copy of a slice from a DataFrame.\n",
      "Try using .loc[row_indexer,col_indexer] = value instead\n",
      "\n",
      "See the caveats in the documentation: https://pandas.pydata.org/pandas-docs/stable/user_guide/indexing.html#returning-a-view-versus-a-copy\n",
      "  df['summary'] = df['cleaned_message'].apply(lambda x: summarize(x, sentences_count=3) if len(x) > 750 else summarize(x, sentences_count=2) if len(x) > 500 else x)\n",
      "/var/folders/2f/4wrcxd5n7_zbgfnwpf77l3bm0000gn/T/ipykernel_50305/1432942270.py:8: SettingWithCopyWarning: \n",
      "A value is trying to be set on a copy of a slice from a DataFrame.\n",
      "Try using .loc[row_indexer,col_indexer] = value instead\n",
      "\n",
      "See the caveats in the documentation: https://pandas.pydata.org/pandas-docs/stable/user_guide/indexing.html#returning-a-view-versus-a-copy\n",
      "  df['channel'] = channel\n",
      "/var/folders/2f/4wrcxd5n7_zbgfnwpf77l3bm0000gn/T/ipykernel_50305/1432942270.py:9: SettingWithCopyWarning: \n",
      "A value is trying to be set on a copy of a slice from a DataFrame.\n",
      "Try using .loc[row_indexer,col_indexer] = value instead\n",
      "\n",
      "See the caveats in the documentation: https://pandas.pydata.org/pandas-docs/stable/user_guide/indexing.html#returning-a-view-versus-a-copy\n",
      "  df['stance'] = df['channel'].map(df_channels.set_index('channel_name')['stance'])\n"
     ]
    },
    {
     "name": "stdout",
     "output_type": "stream",
     "text": [
      "Channel: novaya_europe, N of new messages: 781\n"
     ]
    },
    {
     "name": "stderr",
     "output_type": "stream",
     "text": [
      "/var/folders/2f/4wrcxd5n7_zbgfnwpf77l3bm0000gn/T/ipykernel_50305/1432942270.py:6: SettingWithCopyWarning: \n",
      "A value is trying to be set on a copy of a slice from a DataFrame.\n",
      "Try using .loc[row_indexer,col_indexer] = value instead\n",
      "\n",
      "See the caveats in the documentation: https://pandas.pydata.org/pandas-docs/stable/user_guide/indexing.html#returning-a-view-versus-a-copy\n",
      "  df['summary'] = df['cleaned_message'].apply(lambda x: summarize(x, sentences_count=3) if len(x) > 750 else summarize(x, sentences_count=2) if len(x) > 500 else x)\n",
      "/var/folders/2f/4wrcxd5n7_zbgfnwpf77l3bm0000gn/T/ipykernel_50305/1432942270.py:8: SettingWithCopyWarning: \n",
      "A value is trying to be set on a copy of a slice from a DataFrame.\n",
      "Try using .loc[row_indexer,col_indexer] = value instead\n",
      "\n",
      "See the caveats in the documentation: https://pandas.pydata.org/pandas-docs/stable/user_guide/indexing.html#returning-a-view-versus-a-copy\n",
      "  df['channel'] = channel\n",
      "/var/folders/2f/4wrcxd5n7_zbgfnwpf77l3bm0000gn/T/ipykernel_50305/1432942270.py:9: SettingWithCopyWarning: \n",
      "A value is trying to be set on a copy of a slice from a DataFrame.\n",
      "Try using .loc[row_indexer,col_indexer] = value instead\n",
      "\n",
      "See the caveats in the documentation: https://pandas.pydata.org/pandas-docs/stable/user_guide/indexing.html#returning-a-view-versus-a-copy\n",
      "  df['stance'] = df['channel'].map(df_channels.set_index('channel_name')['stance'])\n"
     ]
    },
    {
     "name": "stdout",
     "output_type": "stream",
     "text": [
      "Channel: radiosvoboda, N of new messages: 884\n"
     ]
    },
    {
     "name": "stderr",
     "output_type": "stream",
     "text": [
      "/var/folders/2f/4wrcxd5n7_zbgfnwpf77l3bm0000gn/T/ipykernel_50305/1432942270.py:6: SettingWithCopyWarning: \n",
      "A value is trying to be set on a copy of a slice from a DataFrame.\n",
      "Try using .loc[row_indexer,col_indexer] = value instead\n",
      "\n",
      "See the caveats in the documentation: https://pandas.pydata.org/pandas-docs/stable/user_guide/indexing.html#returning-a-view-versus-a-copy\n",
      "  df['summary'] = df['cleaned_message'].apply(lambda x: summarize(x, sentences_count=3) if len(x) > 750 else summarize(x, sentences_count=2) if len(x) > 500 else x)\n",
      "/var/folders/2f/4wrcxd5n7_zbgfnwpf77l3bm0000gn/T/ipykernel_50305/1432942270.py:8: SettingWithCopyWarning: \n",
      "A value is trying to be set on a copy of a slice from a DataFrame.\n",
      "Try using .loc[row_indexer,col_indexer] = value instead\n",
      "\n",
      "See the caveats in the documentation: https://pandas.pydata.org/pandas-docs/stable/user_guide/indexing.html#returning-a-view-versus-a-copy\n",
      "  df['channel'] = channel\n",
      "/var/folders/2f/4wrcxd5n7_zbgfnwpf77l3bm0000gn/T/ipykernel_50305/1432942270.py:9: SettingWithCopyWarning: \n",
      "A value is trying to be set on a copy of a slice from a DataFrame.\n",
      "Try using .loc[row_indexer,col_indexer] = value instead\n",
      "\n",
      "See the caveats in the documentation: https://pandas.pydata.org/pandas-docs/stable/user_guide/indexing.html#returning-a-view-versus-a-copy\n",
      "  df['stance'] = df['channel'].map(df_channels.set_index('channel_name')['stance'])\n"
     ]
    },
    {
     "name": "stdout",
     "output_type": "stream",
     "text": [
      "Channel: rentv_news, N of new messages: 3022\n"
     ]
    },
    {
     "name": "stderr",
     "output_type": "stream",
     "text": [
      "/var/folders/2f/4wrcxd5n7_zbgfnwpf77l3bm0000gn/T/ipykernel_50305/1432942270.py:6: SettingWithCopyWarning: \n",
      "A value is trying to be set on a copy of a slice from a DataFrame.\n",
      "Try using .loc[row_indexer,col_indexer] = value instead\n",
      "\n",
      "See the caveats in the documentation: https://pandas.pydata.org/pandas-docs/stable/user_guide/indexing.html#returning-a-view-versus-a-copy\n",
      "  df['summary'] = df['cleaned_message'].apply(lambda x: summarize(x, sentences_count=3) if len(x) > 750 else summarize(x, sentences_count=2) if len(x) > 500 else x)\n",
      "/var/folders/2f/4wrcxd5n7_zbgfnwpf77l3bm0000gn/T/ipykernel_50305/1432942270.py:8: SettingWithCopyWarning: \n",
      "A value is trying to be set on a copy of a slice from a DataFrame.\n",
      "Try using .loc[row_indexer,col_indexer] = value instead\n",
      "\n",
      "See the caveats in the documentation: https://pandas.pydata.org/pandas-docs/stable/user_guide/indexing.html#returning-a-view-versus-a-copy\n",
      "  df['channel'] = channel\n",
      "/var/folders/2f/4wrcxd5n7_zbgfnwpf77l3bm0000gn/T/ipykernel_50305/1432942270.py:9: SettingWithCopyWarning: \n",
      "A value is trying to be set on a copy of a slice from a DataFrame.\n",
      "Try using .loc[row_indexer,col_indexer] = value instead\n",
      "\n",
      "See the caveats in the documentation: https://pandas.pydata.org/pandas-docs/stable/user_guide/indexing.html#returning-a-view-versus-a-copy\n",
      "  df['stance'] = df['channel'].map(df_channels.set_index('channel_name')['stance'])\n"
     ]
    },
    {
     "name": "stdout",
     "output_type": "stream",
     "text": [
      "Channel: rgrunews, N of new messages: 1320\n"
     ]
    },
    {
     "name": "stderr",
     "output_type": "stream",
     "text": [
      "/var/folders/2f/4wrcxd5n7_zbgfnwpf77l3bm0000gn/T/ipykernel_50305/1432942270.py:6: SettingWithCopyWarning: \n",
      "A value is trying to be set on a copy of a slice from a DataFrame.\n",
      "Try using .loc[row_indexer,col_indexer] = value instead\n",
      "\n",
      "See the caveats in the documentation: https://pandas.pydata.org/pandas-docs/stable/user_guide/indexing.html#returning-a-view-versus-a-copy\n",
      "  df['summary'] = df['cleaned_message'].apply(lambda x: summarize(x, sentences_count=3) if len(x) > 750 else summarize(x, sentences_count=2) if len(x) > 500 else x)\n",
      "/var/folders/2f/4wrcxd5n7_zbgfnwpf77l3bm0000gn/T/ipykernel_50305/1432942270.py:8: SettingWithCopyWarning: \n",
      "A value is trying to be set on a copy of a slice from a DataFrame.\n",
      "Try using .loc[row_indexer,col_indexer] = value instead\n",
      "\n",
      "See the caveats in the documentation: https://pandas.pydata.org/pandas-docs/stable/user_guide/indexing.html#returning-a-view-versus-a-copy\n",
      "  df['channel'] = channel\n",
      "/var/folders/2f/4wrcxd5n7_zbgfnwpf77l3bm0000gn/T/ipykernel_50305/1432942270.py:9: SettingWithCopyWarning: \n",
      "A value is trying to be set on a copy of a slice from a DataFrame.\n",
      "Try using .loc[row_indexer,col_indexer] = value instead\n",
      "\n",
      "See the caveats in the documentation: https://pandas.pydata.org/pandas-docs/stable/user_guide/indexing.html#returning-a-view-versus-a-copy\n",
      "  df['stance'] = df['channel'].map(df_channels.set_index('channel_name')['stance'])\n"
     ]
    },
    {
     "name": "stdout",
     "output_type": "stream",
     "text": [
      "Channel: riafan, N of new messages: 0\n",
      "Channel: rusvesnasu, N of new messages: 132\n"
     ]
    },
    {
     "name": "stderr",
     "output_type": "stream",
     "text": [
      "/var/folders/2f/4wrcxd5n7_zbgfnwpf77l3bm0000gn/T/ipykernel_50305/1432942270.py:6: SettingWithCopyWarning: \n",
      "A value is trying to be set on a copy of a slice from a DataFrame.\n",
      "Try using .loc[row_indexer,col_indexer] = value instead\n",
      "\n",
      "See the caveats in the documentation: https://pandas.pydata.org/pandas-docs/stable/user_guide/indexing.html#returning-a-view-versus-a-copy\n",
      "  df['summary'] = df['cleaned_message'].apply(lambda x: summarize(x, sentences_count=3) if len(x) > 750 else summarize(x, sentences_count=2) if len(x) > 500 else x)\n",
      "/var/folders/2f/4wrcxd5n7_zbgfnwpf77l3bm0000gn/T/ipykernel_50305/1432942270.py:8: SettingWithCopyWarning: \n",
      "A value is trying to be set on a copy of a slice from a DataFrame.\n",
      "Try using .loc[row_indexer,col_indexer] = value instead\n",
      "\n",
      "See the caveats in the documentation: https://pandas.pydata.org/pandas-docs/stable/user_guide/indexing.html#returning-a-view-versus-a-copy\n",
      "  df['channel'] = channel\n",
      "/var/folders/2f/4wrcxd5n7_zbgfnwpf77l3bm0000gn/T/ipykernel_50305/1432942270.py:9: SettingWithCopyWarning: \n",
      "A value is trying to be set on a copy of a slice from a DataFrame.\n",
      "Try using .loc[row_indexer,col_indexer] = value instead\n",
      "\n",
      "See the caveats in the documentation: https://pandas.pydata.org/pandas-docs/stable/user_guide/indexing.html#returning-a-view-versus-a-copy\n",
      "  df['stance'] = df['channel'].map(df_channels.set_index('channel_name')['stance'])\n"
     ]
    },
    {
     "name": "stdout",
     "output_type": "stream",
     "text": [
      "Channel: svpressaru, N of new messages: 109\n",
      "Channel: tass_agency, N of new messages: 2505\n"
     ]
    },
    {
     "name": "stderr",
     "output_type": "stream",
     "text": [
      "/var/folders/2f/4wrcxd5n7_zbgfnwpf77l3bm0000gn/T/ipykernel_50305/1432942270.py:6: SettingWithCopyWarning: \n",
      "A value is trying to be set on a copy of a slice from a DataFrame.\n",
      "Try using .loc[row_indexer,col_indexer] = value instead\n",
      "\n",
      "See the caveats in the documentation: https://pandas.pydata.org/pandas-docs/stable/user_guide/indexing.html#returning-a-view-versus-a-copy\n",
      "  df['summary'] = df['cleaned_message'].apply(lambda x: summarize(x, sentences_count=3) if len(x) > 750 else summarize(x, sentences_count=2) if len(x) > 500 else x)\n",
      "/var/folders/2f/4wrcxd5n7_zbgfnwpf77l3bm0000gn/T/ipykernel_50305/1432942270.py:8: SettingWithCopyWarning: \n",
      "A value is trying to be set on a copy of a slice from a DataFrame.\n",
      "Try using .loc[row_indexer,col_indexer] = value instead\n",
      "\n",
      "See the caveats in the documentation: https://pandas.pydata.org/pandas-docs/stable/user_guide/indexing.html#returning-a-view-versus-a-copy\n",
      "  df['channel'] = channel\n",
      "/var/folders/2f/4wrcxd5n7_zbgfnwpf77l3bm0000gn/T/ipykernel_50305/1432942270.py:9: SettingWithCopyWarning: \n",
      "A value is trying to be set on a copy of a slice from a DataFrame.\n",
      "Try using .loc[row_indexer,col_indexer] = value instead\n",
      "\n",
      "See the caveats in the documentation: https://pandas.pydata.org/pandas-docs/stable/user_guide/indexing.html#returning-a-view-versus-a-copy\n",
      "  df['stance'] = df['channel'].map(df_channels.set_index('channel_name')['stance'])\n"
     ]
    },
    {
     "name": "stdout",
     "output_type": "stream",
     "text": [
      "Channel: truekpru, N of new messages: 1504\n"
     ]
    },
    {
     "name": "stderr",
     "output_type": "stream",
     "text": [
      "/var/folders/2f/4wrcxd5n7_zbgfnwpf77l3bm0000gn/T/ipykernel_50305/1432942270.py:6: SettingWithCopyWarning: \n",
      "A value is trying to be set on a copy of a slice from a DataFrame.\n",
      "Try using .loc[row_indexer,col_indexer] = value instead\n",
      "\n",
      "See the caveats in the documentation: https://pandas.pydata.org/pandas-docs/stable/user_guide/indexing.html#returning-a-view-versus-a-copy\n",
      "  df['summary'] = df['cleaned_message'].apply(lambda x: summarize(x, sentences_count=3) if len(x) > 750 else summarize(x, sentences_count=2) if len(x) > 500 else x)\n",
      "/var/folders/2f/4wrcxd5n7_zbgfnwpf77l3bm0000gn/T/ipykernel_50305/1432942270.py:8: SettingWithCopyWarning: \n",
      "A value is trying to be set on a copy of a slice from a DataFrame.\n",
      "Try using .loc[row_indexer,col_indexer] = value instead\n",
      "\n",
      "See the caveats in the documentation: https://pandas.pydata.org/pandas-docs/stable/user_guide/indexing.html#returning-a-view-versus-a-copy\n",
      "  df['channel'] = channel\n",
      "/var/folders/2f/4wrcxd5n7_zbgfnwpf77l3bm0000gn/T/ipykernel_50305/1432942270.py:9: SettingWithCopyWarning: \n",
      "A value is trying to be set on a copy of a slice from a DataFrame.\n",
      "Try using .loc[row_indexer,col_indexer] = value instead\n",
      "\n",
      "See the caveats in the documentation: https://pandas.pydata.org/pandas-docs/stable/user_guide/indexing.html#returning-a-view-versus-a-copy\n",
      "  df['stance'] = df['channel'].map(df_channels.set_index('channel_name')['stance'])\n"
     ]
    },
    {
     "name": "stdout",
     "output_type": "stream",
     "text": [
      "Channel: uranews, N of new messages: 935\n"
     ]
    },
    {
     "name": "stderr",
     "output_type": "stream",
     "text": [
      "/var/folders/2f/4wrcxd5n7_zbgfnwpf77l3bm0000gn/T/ipykernel_50305/1432942270.py:6: SettingWithCopyWarning: \n",
      "A value is trying to be set on a copy of a slice from a DataFrame.\n",
      "Try using .loc[row_indexer,col_indexer] = value instead\n",
      "\n",
      "See the caveats in the documentation: https://pandas.pydata.org/pandas-docs/stable/user_guide/indexing.html#returning-a-view-versus-a-copy\n",
      "  df['summary'] = df['cleaned_message'].apply(lambda x: summarize(x, sentences_count=3) if len(x) > 750 else summarize(x, sentences_count=2) if len(x) > 500 else x)\n",
      "/var/folders/2f/4wrcxd5n7_zbgfnwpf77l3bm0000gn/T/ipykernel_50305/1432942270.py:8: SettingWithCopyWarning: \n",
      "A value is trying to be set on a copy of a slice from a DataFrame.\n",
      "Try using .loc[row_indexer,col_indexer] = value instead\n",
      "\n",
      "See the caveats in the documentation: https://pandas.pydata.org/pandas-docs/stable/user_guide/indexing.html#returning-a-view-versus-a-copy\n",
      "  df['channel'] = channel\n",
      "/var/folders/2f/4wrcxd5n7_zbgfnwpf77l3bm0000gn/T/ipykernel_50305/1432942270.py:9: SettingWithCopyWarning: \n",
      "A value is trying to be set on a copy of a slice from a DataFrame.\n",
      "Try using .loc[row_indexer,col_indexer] = value instead\n",
      "\n",
      "See the caveats in the documentation: https://pandas.pydata.org/pandas-docs/stable/user_guide/indexing.html#returning-a-view-versus-a-copy\n",
      "  df['stance'] = df['channel'].map(df_channels.set_index('channel_name')['stance'])\n"
     ]
    },
    {
     "name": "stdout",
     "output_type": "stream",
     "text": [
      "Channel: vedomosti, N of new messages: 791\n"
     ]
    },
    {
     "name": "stderr",
     "output_type": "stream",
     "text": [
      "/var/folders/2f/4wrcxd5n7_zbgfnwpf77l3bm0000gn/T/ipykernel_50305/1432942270.py:6: SettingWithCopyWarning: \n",
      "A value is trying to be set on a copy of a slice from a DataFrame.\n",
      "Try using .loc[row_indexer,col_indexer] = value instead\n",
      "\n",
      "See the caveats in the documentation: https://pandas.pydata.org/pandas-docs/stable/user_guide/indexing.html#returning-a-view-versus-a-copy\n",
      "  df['summary'] = df['cleaned_message'].apply(lambda x: summarize(x, sentences_count=3) if len(x) > 750 else summarize(x, sentences_count=2) if len(x) > 500 else x)\n",
      "/var/folders/2f/4wrcxd5n7_zbgfnwpf77l3bm0000gn/T/ipykernel_50305/1432942270.py:8: SettingWithCopyWarning: \n",
      "A value is trying to be set on a copy of a slice from a DataFrame.\n",
      "Try using .loc[row_indexer,col_indexer] = value instead\n",
      "\n",
      "See the caveats in the documentation: https://pandas.pydata.org/pandas-docs/stable/user_guide/indexing.html#returning-a-view-versus-a-copy\n",
      "  df['channel'] = channel\n",
      "/var/folders/2f/4wrcxd5n7_zbgfnwpf77l3bm0000gn/T/ipykernel_50305/1432942270.py:9: SettingWithCopyWarning: \n",
      "A value is trying to be set on a copy of a slice from a DataFrame.\n",
      "Try using .loc[row_indexer,col_indexer] = value instead\n",
      "\n",
      "See the caveats in the documentation: https://pandas.pydata.org/pandas-docs/stable/user_guide/indexing.html#returning-a-view-versus-a-copy\n",
      "  df['stance'] = df['channel'].map(df_channels.set_index('channel_name')['stance'])\n"
     ]
    },
    {
     "name": "stdout",
     "output_type": "stream",
     "text": [
      "Channel: vestiru24, N of new messages: 2066\n"
     ]
    },
    {
     "name": "stderr",
     "output_type": "stream",
     "text": [
      "/var/folders/2f/4wrcxd5n7_zbgfnwpf77l3bm0000gn/T/ipykernel_50305/1432942270.py:6: SettingWithCopyWarning: \n",
      "A value is trying to be set on a copy of a slice from a DataFrame.\n",
      "Try using .loc[row_indexer,col_indexer] = value instead\n",
      "\n",
      "See the caveats in the documentation: https://pandas.pydata.org/pandas-docs/stable/user_guide/indexing.html#returning-a-view-versus-a-copy\n",
      "  df['summary'] = df['cleaned_message'].apply(lambda x: summarize(x, sentences_count=3) if len(x) > 750 else summarize(x, sentences_count=2) if len(x) > 500 else x)\n",
      "/var/folders/2f/4wrcxd5n7_zbgfnwpf77l3bm0000gn/T/ipykernel_50305/1432942270.py:8: SettingWithCopyWarning: \n",
      "A value is trying to be set on a copy of a slice from a DataFrame.\n",
      "Try using .loc[row_indexer,col_indexer] = value instead\n",
      "\n",
      "See the caveats in the documentation: https://pandas.pydata.org/pandas-docs/stable/user_guide/indexing.html#returning-a-view-versus-a-copy\n",
      "  df['channel'] = channel\n",
      "/var/folders/2f/4wrcxd5n7_zbgfnwpf77l3bm0000gn/T/ipykernel_50305/1432942270.py:9: SettingWithCopyWarning: \n",
      "A value is trying to be set on a copy of a slice from a DataFrame.\n",
      "Try using .loc[row_indexer,col_indexer] = value instead\n",
      "\n",
      "See the caveats in the documentation: https://pandas.pydata.org/pandas-docs/stable/user_guide/indexing.html#returning-a-view-versus-a-copy\n",
      "  df['stance'] = df['channel'].map(df_channels.set_index('channel_name')['stance'])\n"
     ]
    },
    {
     "name": "stdout",
     "output_type": "stream",
     "text": [
      "Channel: tsargradtv, N of new messages: 1582\n"
     ]
    },
    {
     "name": "stderr",
     "output_type": "stream",
     "text": [
      "/var/folders/2f/4wrcxd5n7_zbgfnwpf77l3bm0000gn/T/ipykernel_50305/1432942270.py:6: SettingWithCopyWarning: \n",
      "A value is trying to be set on a copy of a slice from a DataFrame.\n",
      "Try using .loc[row_indexer,col_indexer] = value instead\n",
      "\n",
      "See the caveats in the documentation: https://pandas.pydata.org/pandas-docs/stable/user_guide/indexing.html#returning-a-view-versus-a-copy\n",
      "  df['summary'] = df['cleaned_message'].apply(lambda x: summarize(x, sentences_count=3) if len(x) > 750 else summarize(x, sentences_count=2) if len(x) > 500 else x)\n",
      "/var/folders/2f/4wrcxd5n7_zbgfnwpf77l3bm0000gn/T/ipykernel_50305/1432942270.py:8: SettingWithCopyWarning: \n",
      "A value is trying to be set on a copy of a slice from a DataFrame.\n",
      "Try using .loc[row_indexer,col_indexer] = value instead\n",
      "\n",
      "See the caveats in the documentation: https://pandas.pydata.org/pandas-docs/stable/user_guide/indexing.html#returning-a-view-versus-a-copy\n",
      "  df['channel'] = channel\n",
      "/var/folders/2f/4wrcxd5n7_zbgfnwpf77l3bm0000gn/T/ipykernel_50305/1432942270.py:9: SettingWithCopyWarning: \n",
      "A value is trying to be set on a copy of a slice from a DataFrame.\n",
      "Try using .loc[row_indexer,col_indexer] = value instead\n",
      "\n",
      "See the caveats in the documentation: https://pandas.pydata.org/pandas-docs/stable/user_guide/indexing.html#returning-a-view-versus-a-copy\n",
      "  df['stance'] = df['channel'].map(df_channels.set_index('channel_name')['stance'])\n"
     ]
    },
    {
     "name": "stdout",
     "output_type": "stream",
     "text": [
      "Channel: sashakots, N of new messages: 292\n"
     ]
    },
    {
     "name": "stderr",
     "output_type": "stream",
     "text": [
      "/var/folders/2f/4wrcxd5n7_zbgfnwpf77l3bm0000gn/T/ipykernel_50305/1432942270.py:6: SettingWithCopyWarning: \n",
      "A value is trying to be set on a copy of a slice from a DataFrame.\n",
      "Try using .loc[row_indexer,col_indexer] = value instead\n",
      "\n",
      "See the caveats in the documentation: https://pandas.pydata.org/pandas-docs/stable/user_guide/indexing.html#returning-a-view-versus-a-copy\n",
      "  df['summary'] = df['cleaned_message'].apply(lambda x: summarize(x, sentences_count=3) if len(x) > 750 else summarize(x, sentences_count=2) if len(x) > 500 else x)\n",
      "/var/folders/2f/4wrcxd5n7_zbgfnwpf77l3bm0000gn/T/ipykernel_50305/1432942270.py:8: SettingWithCopyWarning: \n",
      "A value is trying to be set on a copy of a slice from a DataFrame.\n",
      "Try using .loc[row_indexer,col_indexer] = value instead\n",
      "\n",
      "See the caveats in the documentation: https://pandas.pydata.org/pandas-docs/stable/user_guide/indexing.html#returning-a-view-versus-a-copy\n",
      "  df['channel'] = channel\n",
      "/var/folders/2f/4wrcxd5n7_zbgfnwpf77l3bm0000gn/T/ipykernel_50305/1432942270.py:9: SettingWithCopyWarning: \n",
      "A value is trying to be set on a copy of a slice from a DataFrame.\n",
      "Try using .loc[row_indexer,col_indexer] = value instead\n",
      "\n",
      "See the caveats in the documentation: https://pandas.pydata.org/pandas-docs/stable/user_guide/indexing.html#returning-a-view-versus-a-copy\n",
      "  df['stance'] = df['channel'].map(df_channels.set_index('channel_name')['stance'])\n"
     ]
    },
    {
     "name": "stdout",
     "output_type": "stream",
     "text": [
      "Channel: rybar, N of new messages: 771\n"
     ]
    },
    {
     "name": "stderr",
     "output_type": "stream",
     "text": [
      "/var/folders/2f/4wrcxd5n7_zbgfnwpf77l3bm0000gn/T/ipykernel_50305/1432942270.py:6: SettingWithCopyWarning: \n",
      "A value is trying to be set on a copy of a slice from a DataFrame.\n",
      "Try using .loc[row_indexer,col_indexer] = value instead\n",
      "\n",
      "See the caveats in the documentation: https://pandas.pydata.org/pandas-docs/stable/user_guide/indexing.html#returning-a-view-versus-a-copy\n",
      "  df['summary'] = df['cleaned_message'].apply(lambda x: summarize(x, sentences_count=3) if len(x) > 750 else summarize(x, sentences_count=2) if len(x) > 500 else x)\n",
      "/var/folders/2f/4wrcxd5n7_zbgfnwpf77l3bm0000gn/T/ipykernel_50305/1432942270.py:8: SettingWithCopyWarning: \n",
      "A value is trying to be set on a copy of a slice from a DataFrame.\n",
      "Try using .loc[row_indexer,col_indexer] = value instead\n",
      "\n",
      "See the caveats in the documentation: https://pandas.pydata.org/pandas-docs/stable/user_guide/indexing.html#returning-a-view-versus-a-copy\n",
      "  df['channel'] = channel\n",
      "/var/folders/2f/4wrcxd5n7_zbgfnwpf77l3bm0000gn/T/ipykernel_50305/1432942270.py:9: SettingWithCopyWarning: \n",
      "A value is trying to be set on a copy of a slice from a DataFrame.\n",
      "Try using .loc[row_indexer,col_indexer] = value instead\n",
      "\n",
      "See the caveats in the documentation: https://pandas.pydata.org/pandas-docs/stable/user_guide/indexing.html#returning-a-view-versus-a-copy\n",
      "  df['stance'] = df['channel'].map(df_channels.set_index('channel_name')['stance'])\n"
     ]
    },
    {
     "name": "stdout",
     "output_type": "stream",
     "text": [
      "Channel: voenacher, N of new messages: 1316\n"
     ]
    },
    {
     "name": "stderr",
     "output_type": "stream",
     "text": [
      "/var/folders/2f/4wrcxd5n7_zbgfnwpf77l3bm0000gn/T/ipykernel_50305/1432942270.py:6: SettingWithCopyWarning: \n",
      "A value is trying to be set on a copy of a slice from a DataFrame.\n",
      "Try using .loc[row_indexer,col_indexer] = value instead\n",
      "\n",
      "See the caveats in the documentation: https://pandas.pydata.org/pandas-docs/stable/user_guide/indexing.html#returning-a-view-versus-a-copy\n",
      "  df['summary'] = df['cleaned_message'].apply(lambda x: summarize(x, sentences_count=3) if len(x) > 750 else summarize(x, sentences_count=2) if len(x) > 500 else x)\n",
      "/var/folders/2f/4wrcxd5n7_zbgfnwpf77l3bm0000gn/T/ipykernel_50305/1432942270.py:8: SettingWithCopyWarning: \n",
      "A value is trying to be set on a copy of a slice from a DataFrame.\n",
      "Try using .loc[row_indexer,col_indexer] = value instead\n",
      "\n",
      "See the caveats in the documentation: https://pandas.pydata.org/pandas-docs/stable/user_guide/indexing.html#returning-a-view-versus-a-copy\n",
      "  df['channel'] = channel\n",
      "/var/folders/2f/4wrcxd5n7_zbgfnwpf77l3bm0000gn/T/ipykernel_50305/1432942270.py:9: SettingWithCopyWarning: \n",
      "A value is trying to be set on a copy of a slice from a DataFrame.\n",
      "Try using .loc[row_indexer,col_indexer] = value instead\n",
      "\n",
      "See the caveats in the documentation: https://pandas.pydata.org/pandas-docs/stable/user_guide/indexing.html#returning-a-view-versus-a-copy\n",
      "  df['stance'] = df['channel'].map(df_channels.set_index('channel_name')['stance'])\n"
     ]
    },
    {
     "name": "stdout",
     "output_type": "stream",
     "text": [
      "Channel: vysokygovorit, N of new messages: 202\n"
     ]
    },
    {
     "name": "stderr",
     "output_type": "stream",
     "text": [
      "/var/folders/2f/4wrcxd5n7_zbgfnwpf77l3bm0000gn/T/ipykernel_50305/1432942270.py:6: SettingWithCopyWarning: \n",
      "A value is trying to be set on a copy of a slice from a DataFrame.\n",
      "Try using .loc[row_indexer,col_indexer] = value instead\n",
      "\n",
      "See the caveats in the documentation: https://pandas.pydata.org/pandas-docs/stable/user_guide/indexing.html#returning-a-view-versus-a-copy\n",
      "  df['summary'] = df['cleaned_message'].apply(lambda x: summarize(x, sentences_count=3) if len(x) > 750 else summarize(x, sentences_count=2) if len(x) > 500 else x)\n",
      "/var/folders/2f/4wrcxd5n7_zbgfnwpf77l3bm0000gn/T/ipykernel_50305/1432942270.py:8: SettingWithCopyWarning: \n",
      "A value is trying to be set on a copy of a slice from a DataFrame.\n",
      "Try using .loc[row_indexer,col_indexer] = value instead\n",
      "\n",
      "See the caveats in the documentation: https://pandas.pydata.org/pandas-docs/stable/user_guide/indexing.html#returning-a-view-versus-a-copy\n",
      "  df['channel'] = channel\n",
      "/var/folders/2f/4wrcxd5n7_zbgfnwpf77l3bm0000gn/T/ipykernel_50305/1432942270.py:9: SettingWithCopyWarning: \n",
      "A value is trying to be set on a copy of a slice from a DataFrame.\n",
      "Try using .loc[row_indexer,col_indexer] = value instead\n",
      "\n",
      "See the caveats in the documentation: https://pandas.pydata.org/pandas-docs/stable/user_guide/indexing.html#returning-a-view-versus-a-copy\n",
      "  df['stance'] = df['channel'].map(df_channels.set_index('channel_name')['stance'])\n"
     ]
    },
    {
     "name": "stdout",
     "output_type": "stream",
     "text": [
      "Channel: SolovievLive, N of new messages: 3121\n"
     ]
    },
    {
     "name": "stderr",
     "output_type": "stream",
     "text": [
      "/var/folders/2f/4wrcxd5n7_zbgfnwpf77l3bm0000gn/T/ipykernel_50305/1432942270.py:6: SettingWithCopyWarning: \n",
      "A value is trying to be set on a copy of a slice from a DataFrame.\n",
      "Try using .loc[row_indexer,col_indexer] = value instead\n",
      "\n",
      "See the caveats in the documentation: https://pandas.pydata.org/pandas-docs/stable/user_guide/indexing.html#returning-a-view-versus-a-copy\n",
      "  df['summary'] = df['cleaned_message'].apply(lambda x: summarize(x, sentences_count=3) if len(x) > 750 else summarize(x, sentences_count=2) if len(x) > 500 else x)\n",
      "/var/folders/2f/4wrcxd5n7_zbgfnwpf77l3bm0000gn/T/ipykernel_50305/1432942270.py:8: SettingWithCopyWarning: \n",
      "A value is trying to be set on a copy of a slice from a DataFrame.\n",
      "Try using .loc[row_indexer,col_indexer] = value instead\n",
      "\n",
      "See the caveats in the documentation: https://pandas.pydata.org/pandas-docs/stable/user_guide/indexing.html#returning-a-view-versus-a-copy\n",
      "  df['channel'] = channel\n",
      "/var/folders/2f/4wrcxd5n7_zbgfnwpf77l3bm0000gn/T/ipykernel_50305/1432942270.py:9: SettingWithCopyWarning: \n",
      "A value is trying to be set on a copy of a slice from a DataFrame.\n",
      "Try using .loc[row_indexer,col_indexer] = value instead\n",
      "\n",
      "See the caveats in the documentation: https://pandas.pydata.org/pandas-docs/stable/user_guide/indexing.html#returning-a-view-versus-a-copy\n",
      "  df['stance'] = df['channel'].map(df_channels.set_index('channel_name')['stance'])\n"
     ]
    },
    {
     "name": "stdout",
     "output_type": "stream",
     "text": [
      "Channel: margaritasimonyan, N of new messages: 48\n"
     ]
    },
    {
     "name": "stderr",
     "output_type": "stream",
     "text": [
      "/var/folders/2f/4wrcxd5n7_zbgfnwpf77l3bm0000gn/T/ipykernel_50305/1432942270.py:6: SettingWithCopyWarning: \n",
      "A value is trying to be set on a copy of a slice from a DataFrame.\n",
      "Try using .loc[row_indexer,col_indexer] = value instead\n",
      "\n",
      "See the caveats in the documentation: https://pandas.pydata.org/pandas-docs/stable/user_guide/indexing.html#returning-a-view-versus-a-copy\n",
      "  df['summary'] = df['cleaned_message'].apply(lambda x: summarize(x, sentences_count=3) if len(x) > 750 else summarize(x, sentences_count=2) if len(x) > 500 else x)\n",
      "/var/folders/2f/4wrcxd5n7_zbgfnwpf77l3bm0000gn/T/ipykernel_50305/1432942270.py:8: SettingWithCopyWarning: \n",
      "A value is trying to be set on a copy of a slice from a DataFrame.\n",
      "Try using .loc[row_indexer,col_indexer] = value instead\n",
      "\n",
      "See the caveats in the documentation: https://pandas.pydata.org/pandas-docs/stable/user_guide/indexing.html#returning-a-view-versus-a-copy\n",
      "  df['channel'] = channel\n",
      "/var/folders/2f/4wrcxd5n7_zbgfnwpf77l3bm0000gn/T/ipykernel_50305/1432942270.py:9: SettingWithCopyWarning: \n",
      "A value is trying to be set on a copy of a slice from a DataFrame.\n",
      "Try using .loc[row_indexer,col_indexer] = value instead\n",
      "\n",
      "See the caveats in the documentation: https://pandas.pydata.org/pandas-docs/stable/user_guide/indexing.html#returning-a-view-versus-a-copy\n",
      "  df['stance'] = df['channel'].map(df_channels.set_index('channel_name')['stance'])\n"
     ]
    },
    {
     "name": "stdout",
     "output_type": "stream",
     "text": [
      "Channel: breakingmash, N of new messages: 425\n"
     ]
    },
    {
     "name": "stderr",
     "output_type": "stream",
     "text": [
      "/var/folders/2f/4wrcxd5n7_zbgfnwpf77l3bm0000gn/T/ipykernel_50305/1432942270.py:6: SettingWithCopyWarning: \n",
      "A value is trying to be set on a copy of a slice from a DataFrame.\n",
      "Try using .loc[row_indexer,col_indexer] = value instead\n",
      "\n",
      "See the caveats in the documentation: https://pandas.pydata.org/pandas-docs/stable/user_guide/indexing.html#returning-a-view-versus-a-copy\n",
      "  df['summary'] = df['cleaned_message'].apply(lambda x: summarize(x, sentences_count=3) if len(x) > 750 else summarize(x, sentences_count=2) if len(x) > 500 else x)\n",
      "/var/folders/2f/4wrcxd5n7_zbgfnwpf77l3bm0000gn/T/ipykernel_50305/1432942270.py:8: SettingWithCopyWarning: \n",
      "A value is trying to be set on a copy of a slice from a DataFrame.\n",
      "Try using .loc[row_indexer,col_indexer] = value instead\n",
      "\n",
      "See the caveats in the documentation: https://pandas.pydata.org/pandas-docs/stable/user_guide/indexing.html#returning-a-view-versus-a-copy\n",
      "  df['channel'] = channel\n",
      "/var/folders/2f/4wrcxd5n7_zbgfnwpf77l3bm0000gn/T/ipykernel_50305/1432942270.py:9: SettingWithCopyWarning: \n",
      "A value is trying to be set on a copy of a slice from a DataFrame.\n",
      "Try using .loc[row_indexer,col_indexer] = value instead\n",
      "\n",
      "See the caveats in the documentation: https://pandas.pydata.org/pandas-docs/stable/user_guide/indexing.html#returning-a-view-versus-a-copy\n",
      "  df['stance'] = df['channel'].map(df_channels.set_index('channel_name')['stance'])\n"
     ]
    },
    {
     "name": "stdout",
     "output_type": "stream",
     "text": [
      "Channel: tvc_ru, N of new messages: 669\n"
     ]
    },
    {
     "name": "stderr",
     "output_type": "stream",
     "text": [
      "/var/folders/2f/4wrcxd5n7_zbgfnwpf77l3bm0000gn/T/ipykernel_50305/1432942270.py:6: SettingWithCopyWarning: \n",
      "A value is trying to be set on a copy of a slice from a DataFrame.\n",
      "Try using .loc[row_indexer,col_indexer] = value instead\n",
      "\n",
      "See the caveats in the documentation: https://pandas.pydata.org/pandas-docs/stable/user_guide/indexing.html#returning-a-view-versus-a-copy\n",
      "  df['summary'] = df['cleaned_message'].apply(lambda x: summarize(x, sentences_count=3) if len(x) > 750 else summarize(x, sentences_count=2) if len(x) > 500 else x)\n",
      "/var/folders/2f/4wrcxd5n7_zbgfnwpf77l3bm0000gn/T/ipykernel_50305/1432942270.py:8: SettingWithCopyWarning: \n",
      "A value is trying to be set on a copy of a slice from a DataFrame.\n",
      "Try using .loc[row_indexer,col_indexer] = value instead\n",
      "\n",
      "See the caveats in the documentation: https://pandas.pydata.org/pandas-docs/stable/user_guide/indexing.html#returning-a-view-versus-a-copy\n",
      "  df['channel'] = channel\n",
      "/var/folders/2f/4wrcxd5n7_zbgfnwpf77l3bm0000gn/T/ipykernel_50305/1432942270.py:9: SettingWithCopyWarning: \n",
      "A value is trying to be set on a copy of a slice from a DataFrame.\n",
      "Try using .loc[row_indexer,col_indexer] = value instead\n",
      "\n",
      "See the caveats in the documentation: https://pandas.pydata.org/pandas-docs/stable/user_guide/indexing.html#returning-a-view-versus-a-copy\n",
      "  df['stance'] = df['channel'].map(df_channels.set_index('channel_name')['stance'])\n"
     ]
    },
    {
     "name": "stdout",
     "output_type": "stream",
     "text": [
      "Channel: strelkovii, N of new messages: 15\n"
     ]
    },
    {
     "name": "stderr",
     "output_type": "stream",
     "text": [
      "/var/folders/2f/4wrcxd5n7_zbgfnwpf77l3bm0000gn/T/ipykernel_50305/1432942270.py:6: SettingWithCopyWarning: \n",
      "A value is trying to be set on a copy of a slice from a DataFrame.\n",
      "Try using .loc[row_indexer,col_indexer] = value instead\n",
      "\n",
      "See the caveats in the documentation: https://pandas.pydata.org/pandas-docs/stable/user_guide/indexing.html#returning-a-view-versus-a-copy\n",
      "  df['summary'] = df['cleaned_message'].apply(lambda x: summarize(x, sentences_count=3) if len(x) > 750 else summarize(x, sentences_count=2) if len(x) > 500 else x)\n",
      "/var/folders/2f/4wrcxd5n7_zbgfnwpf77l3bm0000gn/T/ipykernel_50305/1432942270.py:8: SettingWithCopyWarning: \n",
      "A value is trying to be set on a copy of a slice from a DataFrame.\n",
      "Try using .loc[row_indexer,col_indexer] = value instead\n",
      "\n",
      "See the caveats in the documentation: https://pandas.pydata.org/pandas-docs/stable/user_guide/indexing.html#returning-a-view-versus-a-copy\n",
      "  df['channel'] = channel\n",
      "/var/folders/2f/4wrcxd5n7_zbgfnwpf77l3bm0000gn/T/ipykernel_50305/1432942270.py:9: SettingWithCopyWarning: \n",
      "A value is trying to be set on a copy of a slice from a DataFrame.\n",
      "Try using .loc[row_indexer,col_indexer] = value instead\n",
      "\n",
      "See the caveats in the documentation: https://pandas.pydata.org/pandas-docs/stable/user_guide/indexing.html#returning-a-view-versus-a-copy\n",
      "  df['stance'] = df['channel'].map(df_channels.set_index('channel_name')['stance'])\n"
     ]
    },
    {
     "name": "stdout",
     "output_type": "stream",
     "text": [
      "Channel: concordgroup_official, N of new messages: 0\n"
     ]
    }
   ],
   "source": [
    "start_date = datetime.datetime(2023, 10, 1)\n",
    "df_channel_stats = pd.DataFrame() # store N of posts per channel per day\n",
    "session_time = datetime.datetime.now().strftime(\"%Y-%m-%d %H:%M:%S\") # to name session stats file\n",
    "\n",
    "# add new messages to channel df-file and update last_id in channels.csv\n",
    "for i, row in tqdm_notebook(df_channels.iterrows(), total=df_channels.shape[0]):\n",
    "    channel = row['channel_name']\n",
    "    last_id = row['last_id']\n",
    "    async with TelegramClient('session', api_id, api_hash) as client:\n",
    "        # COLLECT NEW MESSAGES\n",
    "        data = [] # for collecting new messages\n",
    "        # check if last_id is integer (=set)\n",
    "        try:\n",
    "            offset_id = int(last_id)\n",
    "        except:\n",
    "            offset_id = 0\n",
    "        async for message in client.iter_messages(channel, reverse=True, offset_date=start_date, offset_id=offset_id):\n",
    "            data.append(message.to_dict())\n",
    "        # if no new messages, skip\n",
    "    print(f\"Channel: {channel}, N of new messages: {len(data)}\")\n",
    "    if len(data) == 0:\n",
    "        continue\n",
    "    df = pd.DataFrame(data)\n",
    "    \n",
    "    # PROCESS NEW MESSAGES\n",
    "    df = process_new_messages(df, channel)\n",
    "\n",
    "    # APPEND TO MAIN DF (pickle to avoid problems with separators in csv)\n",
    "    # if file exists, append to file\n",
    "    if os.path.isfile(data_path+channel+'.pkl'):\n",
    "        with open(data_path+channel+'.pkl', 'ab') as f:\n",
    "            df_old = pd.read_pickle(data_path+channel+'.pkl')\n",
    "            df = pd.concat([df_old, df], ignore_index=True)\n",
    "            df.to_pickle(data_path+channel+'.pkl')\n",
    "    else:\n",
    "        df.to_pickle(data_path+channel+'.pkl')\n",
    "\n",
    "    # save session stats for channel\n",
    "    df_channel_stats[channel] = df['date'].dt.date.value_counts()\n",
    "    # update last_id in channels.csv\n",
    "    df_channels.loc[i, 'last_id'] = df['id'].max()\n",
    "\n",
    "# save session stats for all channels & update channels.csv\n",
    "df_channel_stats.to_csv(parent_path+f'session_stats/channel_stats_{session_time}.csv', sep=';', index=True)\n",
    "df_channels.to_csv(parent_path+'channels.csv', sep=';', index=False)"
   ]
  },
  {
   "cell_type": "markdown",
   "metadata": {},
   "source": [
    "Need system for storing data that's flexible and allows for appending without loading\n",
    "- CSV - problems with separators (can be partially resolved by replacing ';' with ','. Or using other separator)\n",
    "- Pickle - does not allow appending; need to load old data each time to append new one\n",
    "- Parquet - very caprisous - time formats, emojis, could not make it work"
   ]
  },
  {
   "cell_type": "markdown",
   "metadata": {},
   "source": [
    "### Process downloaded data (if was not )"
   ]
  },
  {
   "cell_type": "code",
   "execution_count": 24,
   "metadata": {},
   "outputs": [],
   "source": [
    "df_channels = pd.read_csv(parent_path+'channels.csv', sep=';')"
   ]
  },
  {
   "cell_type": "code",
   "execution_count": 42,
   "metadata": {},
   "outputs": [
    {
     "data": {
      "application/vnd.jupyter.widget-view+json": {
       "model_id": "8406b91135ac4525982d42ded6617325",
       "version_major": 2,
       "version_minor": 0
      },
      "text/plain": [
       "  0%|          | 0/48 [00:00<?, ?it/s]"
      ]
     },
     "metadata": {},
     "output_type": "display_data"
    }
   ],
   "source": [
    "# add summarization\n",
    "# remove empty or very short messages (30-)\n",
    "\n",
    "# list of files in data_path\n",
    "files = os.listdir(data_path)\n",
    "for file in tqdm_notebook(files):\n",
    "    if file.endswith('.pkl'):\n",
    "        df = pd.read_pickle(data_path+file)\n",
    "        channel = file[:-4]\n",
    "        # if df empty, skip\n",
    "        if df.shape[0] == 0:\n",
    "            continue\n",
    "        df = process_new_messages(df, channel)\n",
    "        df.to_pickle(data_path+file)"
   ]
  },
  {
   "cell_type": "markdown",
   "metadata": {},
   "source": [
    "Итак теперь имеем:\n",
    "- channels.csv - список каналов с last_id & stance\n",
    "- session_stats/channel_stats_{session_time}.csv - стат-ка по посл.скачиванию постов (постов по дням)\n",
    "- набор pkl-файлов (df) с сырыми постами + cleaned_message + summary"
   ]
  },
  {
   "cell_type": "markdown",
   "metadata": {},
   "source": [
    "## Embeddings"
   ]
  },
  {
   "cell_type": "code",
   "execution_count": 52,
   "metadata": {},
   "outputs": [],
   "source": [
    "openai.api_key = openai_key\n",
    "\n",
    "# function for openai embeddings\n",
    "def get_embeddings(text, model=\"text-embedding-ada-002\"):\n",
    "    response = openai.Embedding.create(\n",
    "        input=text,\n",
    "        model=model\n",
    "    )\n",
    "    embeddings = response['data'][0]['embedding']\n",
    "    return embeddings"
   ]
  },
  {
   "cell_type": "code",
   "execution_count": 53,
   "metadata": {},
   "outputs": [
    {
     "data": {
      "application/vnd.jupyter.widget-view+json": {
       "model_id": "df057dfae011452f8ceff7e586b21445",
       "version_major": 2,
       "version_minor": 0
      },
      "text/plain": [
       "  0%|          | 0/47 [00:00<?, ?it/s]"
      ]
     },
     "metadata": {},
     "output_type": "display_data"
    },
    {
     "ename": "KeyboardInterrupt",
     "evalue": "",
     "output_type": "error",
     "traceback": [
      "\u001b[0;31m---------------------------------------------------------------------------\u001b[0m",
      "\u001b[0;31mKeyboardInterrupt\u001b[0m                         Traceback (most recent call last)",
      "\u001b[1;32m/Users/alexbadin/Library/CloudStorage/GoogleDrive-alex.badin@gmail.com/My Drive/Colab Notebooks/Narratives/notebooks_data_ingest/data_ingest.ipynb Cell 21\u001b[0m line \u001b[0;36m1\n\u001b[1;32m     <a href='vscode-notebook-cell:/Users/alexbadin/Library/CloudStorage/GoogleDrive-alex.badin%40gmail.com/My%20Drive/Colab%20Notebooks/Narratives/notebooks_data_ingest/data_ingest.ipynb#X35sZmlsZQ%3D%3D?line=9'>10</a>\u001b[0m \u001b[39mif\u001b[39;00m \u001b[39m'\u001b[39m\u001b[39membeddings\u001b[39m\u001b[39m'\u001b[39m \u001b[39min\u001b[39;00m df\u001b[39m.\u001b[39mcolumns:\n\u001b[1;32m     <a href='vscode-notebook-cell:/Users/alexbadin/Library/CloudStorage/GoogleDrive-alex.badin%40gmail.com/My%20Drive/Colab%20Notebooks/Narratives/notebooks_data_ingest/data_ingest.ipynb#X35sZmlsZQ%3D%3D?line=10'>11</a>\u001b[0m     \u001b[39m# calculate embeddings only where embeddings are not calculated yet\u001b[39;00m\n\u001b[1;32m     <a href='vscode-notebook-cell:/Users/alexbadin/Library/CloudStorage/GoogleDrive-alex.badin%40gmail.com/My%20Drive/Colab%20Notebooks/Narratives/notebooks_data_ingest/data_ingest.ipynb#X35sZmlsZQ%3D%3D?line=11'>12</a>\u001b[0m     df_temp \u001b[39m=\u001b[39m df[df[\u001b[39m'\u001b[39m\u001b[39membeddings\u001b[39m\u001b[39m'\u001b[39m]\u001b[39m.\u001b[39misnull()]\n\u001b[0;32m---> <a href='vscode-notebook-cell:/Users/alexbadin/Library/CloudStorage/GoogleDrive-alex.badin%40gmail.com/My%20Drive/Colab%20Notebooks/Narratives/notebooks_data_ingest/data_ingest.ipynb#X35sZmlsZQ%3D%3D?line=12'>13</a>\u001b[0m     df_temp\u001b[39m.\u001b[39mloc[:,\u001b[39m'\u001b[39m\u001b[39membeddings\u001b[39m\u001b[39m'\u001b[39m] \u001b[39m=\u001b[39m df_temp[\u001b[39m'\u001b[39;49m\u001b[39msummary\u001b[39;49m\u001b[39m'\u001b[39;49m]\u001b[39m.\u001b[39;49mapply(get_embeddings)\n\u001b[1;32m     <a href='vscode-notebook-cell:/Users/alexbadin/Library/CloudStorage/GoogleDrive-alex.badin%40gmail.com/My%20Drive/Colab%20Notebooks/Narratives/notebooks_data_ingest/data_ingest.ipynb#X35sZmlsZQ%3D%3D?line=13'>14</a>\u001b[0m     df\u001b[39m.\u001b[39mloc[df_temp\u001b[39m.\u001b[39mindex, \u001b[39m'\u001b[39m\u001b[39membeddings\u001b[39m\u001b[39m'\u001b[39m] \u001b[39m=\u001b[39m df_temp[\u001b[39m'\u001b[39m\u001b[39membeddings\u001b[39m\u001b[39m'\u001b[39m]\n\u001b[1;32m     <a href='vscode-notebook-cell:/Users/alexbadin/Library/CloudStorage/GoogleDrive-alex.badin%40gmail.com/My%20Drive/Colab%20Notebooks/Narratives/notebooks_data_ingest/data_ingest.ipynb#X35sZmlsZQ%3D%3D?line=15'>16</a>\u001b[0m \u001b[39melse\u001b[39;00m:\n",
      "File \u001b[0;32m~/miniconda3/envs/db_prep/lib/python3.11/site-packages/pandas/core/series.py:4630\u001b[0m, in \u001b[0;36mSeries.apply\u001b[0;34m(self, func, convert_dtype, args, **kwargs)\u001b[0m\n\u001b[1;32m   4520\u001b[0m \u001b[39mdef\u001b[39;00m \u001b[39mapply\u001b[39m(\n\u001b[1;32m   4521\u001b[0m     \u001b[39mself\u001b[39m,\n\u001b[1;32m   4522\u001b[0m     func: AggFuncType,\n\u001b[0;32m   (...)\u001b[0m\n\u001b[1;32m   4525\u001b[0m     \u001b[39m*\u001b[39m\u001b[39m*\u001b[39mkwargs,\n\u001b[1;32m   4526\u001b[0m ) \u001b[39m-\u001b[39m\u001b[39m>\u001b[39m DataFrame \u001b[39m|\u001b[39m Series:\n\u001b[1;32m   4527\u001b[0m \u001b[39m    \u001b[39m\u001b[39m\"\"\"\u001b[39;00m\n\u001b[1;32m   4528\u001b[0m \u001b[39m    Invoke function on values of Series.\u001b[39;00m\n\u001b[1;32m   4529\u001b[0m \n\u001b[0;32m   (...)\u001b[0m\n\u001b[1;32m   4628\u001b[0m \u001b[39m    dtype: float64\u001b[39;00m\n\u001b[1;32m   4629\u001b[0m \u001b[39m    \"\"\"\u001b[39;00m\n\u001b[0;32m-> 4630\u001b[0m     \u001b[39mreturn\u001b[39;00m SeriesApply(\u001b[39mself\u001b[39;49m, func, convert_dtype, args, kwargs)\u001b[39m.\u001b[39;49mapply()\n",
      "File \u001b[0;32m~/miniconda3/envs/db_prep/lib/python3.11/site-packages/pandas/core/apply.py:1025\u001b[0m, in \u001b[0;36mSeriesApply.apply\u001b[0;34m(self)\u001b[0m\n\u001b[1;32m   1022\u001b[0m     \u001b[39mreturn\u001b[39;00m \u001b[39mself\u001b[39m\u001b[39m.\u001b[39mapply_str()\n\u001b[1;32m   1024\u001b[0m \u001b[39m# self.f is Callable\u001b[39;00m\n\u001b[0;32m-> 1025\u001b[0m \u001b[39mreturn\u001b[39;00m \u001b[39mself\u001b[39;49m\u001b[39m.\u001b[39;49mapply_standard()\n",
      "File \u001b[0;32m~/miniconda3/envs/db_prep/lib/python3.11/site-packages/pandas/core/apply.py:1076\u001b[0m, in \u001b[0;36mSeriesApply.apply_standard\u001b[0;34m(self)\u001b[0m\n\u001b[1;32m   1074\u001b[0m     \u001b[39melse\u001b[39;00m:\n\u001b[1;32m   1075\u001b[0m         values \u001b[39m=\u001b[39m obj\u001b[39m.\u001b[39mastype(\u001b[39mobject\u001b[39m)\u001b[39m.\u001b[39m_values\n\u001b[0;32m-> 1076\u001b[0m         mapped \u001b[39m=\u001b[39m lib\u001b[39m.\u001b[39;49mmap_infer(\n\u001b[1;32m   1077\u001b[0m             values,\n\u001b[1;32m   1078\u001b[0m             f,\n\u001b[1;32m   1079\u001b[0m             convert\u001b[39m=\u001b[39;49m\u001b[39mself\u001b[39;49m\u001b[39m.\u001b[39;49mconvert_dtype,\n\u001b[1;32m   1080\u001b[0m         )\n\u001b[1;32m   1082\u001b[0m \u001b[39mif\u001b[39;00m \u001b[39mlen\u001b[39m(mapped) \u001b[39mand\u001b[39;00m \u001b[39misinstance\u001b[39m(mapped[\u001b[39m0\u001b[39m], ABCSeries):\n\u001b[1;32m   1083\u001b[0m     \u001b[39m# GH#43986 Need to do list(mapped) in order to get treated as nested\u001b[39;00m\n\u001b[1;32m   1084\u001b[0m     \u001b[39m#  See also GH#25959 regarding EA support\u001b[39;00m\n\u001b[1;32m   1085\u001b[0m     \u001b[39mreturn\u001b[39;00m obj\u001b[39m.\u001b[39m_constructor_expanddim(\u001b[39mlist\u001b[39m(mapped), index\u001b[39m=\u001b[39mobj\u001b[39m.\u001b[39mindex)\n",
      "File \u001b[0;32m~/miniconda3/envs/db_prep/lib/python3.11/site-packages/pandas/_libs/lib.pyx:2834\u001b[0m, in \u001b[0;36mpandas._libs.lib.map_infer\u001b[0;34m()\u001b[0m\n",
      "\u001b[1;32m/Users/alexbadin/Library/CloudStorage/GoogleDrive-alex.badin@gmail.com/My Drive/Colab Notebooks/Narratives/notebooks_data_ingest/data_ingest.ipynb Cell 21\u001b[0m line \u001b[0;36m5\n\u001b[1;32m      <a href='vscode-notebook-cell:/Users/alexbadin/Library/CloudStorage/GoogleDrive-alex.badin%40gmail.com/My%20Drive/Colab%20Notebooks/Narratives/notebooks_data_ingest/data_ingest.ipynb#X35sZmlsZQ%3D%3D?line=3'>4</a>\u001b[0m \u001b[39mdef\u001b[39;00m \u001b[39mget_embeddings\u001b[39m(text, model\u001b[39m=\u001b[39m\u001b[39m\"\u001b[39m\u001b[39mtext-embedding-ada-002\u001b[39m\u001b[39m\"\u001b[39m):\n\u001b[0;32m----> <a href='vscode-notebook-cell:/Users/alexbadin/Library/CloudStorage/GoogleDrive-alex.badin%40gmail.com/My%20Drive/Colab%20Notebooks/Narratives/notebooks_data_ingest/data_ingest.ipynb#X35sZmlsZQ%3D%3D?line=4'>5</a>\u001b[0m     response \u001b[39m=\u001b[39m openai\u001b[39m.\u001b[39;49mEmbedding\u001b[39m.\u001b[39;49mcreate(\n\u001b[1;32m      <a href='vscode-notebook-cell:/Users/alexbadin/Library/CloudStorage/GoogleDrive-alex.badin%40gmail.com/My%20Drive/Colab%20Notebooks/Narratives/notebooks_data_ingest/data_ingest.ipynb#X35sZmlsZQ%3D%3D?line=5'>6</a>\u001b[0m         \u001b[39minput\u001b[39;49m\u001b[39m=\u001b[39;49mtext,\n\u001b[1;32m      <a href='vscode-notebook-cell:/Users/alexbadin/Library/CloudStorage/GoogleDrive-alex.badin%40gmail.com/My%20Drive/Colab%20Notebooks/Narratives/notebooks_data_ingest/data_ingest.ipynb#X35sZmlsZQ%3D%3D?line=6'>7</a>\u001b[0m         model\u001b[39m=\u001b[39;49mmodel\n\u001b[1;32m      <a href='vscode-notebook-cell:/Users/alexbadin/Library/CloudStorage/GoogleDrive-alex.badin%40gmail.com/My%20Drive/Colab%20Notebooks/Narratives/notebooks_data_ingest/data_ingest.ipynb#X35sZmlsZQ%3D%3D?line=7'>8</a>\u001b[0m     )\n\u001b[1;32m      <a href='vscode-notebook-cell:/Users/alexbadin/Library/CloudStorage/GoogleDrive-alex.badin%40gmail.com/My%20Drive/Colab%20Notebooks/Narratives/notebooks_data_ingest/data_ingest.ipynb#X35sZmlsZQ%3D%3D?line=8'>9</a>\u001b[0m     embeddings \u001b[39m=\u001b[39m response[\u001b[39m'\u001b[39m\u001b[39mdata\u001b[39m\u001b[39m'\u001b[39m][\u001b[39m0\u001b[39m][\u001b[39m'\u001b[39m\u001b[39membedding\u001b[39m\u001b[39m'\u001b[39m]\n\u001b[1;32m     <a href='vscode-notebook-cell:/Users/alexbadin/Library/CloudStorage/GoogleDrive-alex.badin%40gmail.com/My%20Drive/Colab%20Notebooks/Narratives/notebooks_data_ingest/data_ingest.ipynb#X35sZmlsZQ%3D%3D?line=9'>10</a>\u001b[0m     \u001b[39mreturn\u001b[39;00m embeddings\n",
      "File \u001b[0;32m~/miniconda3/envs/db_prep/lib/python3.11/site-packages/openai/api_resources/embedding.py:34\u001b[0m, in \u001b[0;36mEmbedding.create\u001b[0;34m(cls, *args, **kwargs)\u001b[0m\n\u001b[1;32m     32\u001b[0m \u001b[39mwhile\u001b[39;00m \u001b[39mTrue\u001b[39;00m:\n\u001b[1;32m     33\u001b[0m     \u001b[39mtry\u001b[39;00m:\n\u001b[0;32m---> 34\u001b[0m         response \u001b[39m=\u001b[39m \u001b[39msuper\u001b[39;49m()\u001b[39m.\u001b[39;49mcreate(\u001b[39m*\u001b[39;49margs, \u001b[39m*\u001b[39;49m\u001b[39m*\u001b[39;49mkwargs)\n\u001b[1;32m     36\u001b[0m         \u001b[39m# If a user specifies base64, we'll just return the encoded string.\u001b[39;00m\n\u001b[1;32m     37\u001b[0m         \u001b[39m# This is only for the default case.\u001b[39;00m\n\u001b[1;32m     38\u001b[0m         \u001b[39mif\u001b[39;00m \u001b[39mnot\u001b[39;00m user_provided_encoding_format:\n",
      "File \u001b[0;32m~/miniconda3/envs/db_prep/lib/python3.11/site-packages/openai/api_resources/abstract/engine_api_resource.py:115\u001b[0m, in \u001b[0;36mEngineAPIResource.create\u001b[0;34m(cls, api_key, api_base, api_type, request_id, api_version, organization, **params)\u001b[0m\n\u001b[1;32m    107\u001b[0m requestor \u001b[39m=\u001b[39m api_requestor\u001b[39m.\u001b[39mAPIRequestor(\n\u001b[1;32m    108\u001b[0m     api_key,\n\u001b[1;32m    109\u001b[0m     api_base\u001b[39m=\u001b[39mapi_base,\n\u001b[0;32m   (...)\u001b[0m\n\u001b[1;32m    112\u001b[0m     organization\u001b[39m=\u001b[39morganization,\n\u001b[1;32m    113\u001b[0m )\n\u001b[1;32m    114\u001b[0m url \u001b[39m=\u001b[39m \u001b[39mcls\u001b[39m\u001b[39m.\u001b[39mclass_url(engine, api_type, api_version)\n\u001b[0;32m--> 115\u001b[0m response, _, api_key \u001b[39m=\u001b[39m requestor\u001b[39m.\u001b[39;49mrequest(\n\u001b[1;32m    116\u001b[0m     \u001b[39m\"\u001b[39;49m\u001b[39mpost\u001b[39;49m\u001b[39m\"\u001b[39;49m,\n\u001b[1;32m    117\u001b[0m     url,\n\u001b[1;32m    118\u001b[0m     params\u001b[39m=\u001b[39;49mparams,\n\u001b[1;32m    119\u001b[0m     headers\u001b[39m=\u001b[39;49mheaders,\n\u001b[1;32m    120\u001b[0m     stream\u001b[39m=\u001b[39;49mstream,\n\u001b[1;32m    121\u001b[0m     request_id\u001b[39m=\u001b[39;49mrequest_id,\n\u001b[1;32m    122\u001b[0m     request_timeout\u001b[39m=\u001b[39;49mrequest_timeout,\n\u001b[1;32m    123\u001b[0m )\n\u001b[1;32m    125\u001b[0m \u001b[39mif\u001b[39;00m stream:\n\u001b[1;32m    126\u001b[0m     \u001b[39m# must be an iterator\u001b[39;00m\n\u001b[1;32m    127\u001b[0m     \u001b[39massert\u001b[39;00m \u001b[39mnot\u001b[39;00m \u001b[39misinstance\u001b[39m(response, OpenAIResponse)\n",
      "File \u001b[0;32m~/miniconda3/envs/db_prep/lib/python3.11/site-packages/openai/api_requestor.py:171\u001b[0m, in \u001b[0;36mAPIRequestor.request\u001b[0;34m(self, method, url, params, headers, files, stream, request_id, request_timeout)\u001b[0m\n\u001b[1;32m    160\u001b[0m \u001b[39mdef\u001b[39;00m \u001b[39mrequest\u001b[39m(\n\u001b[1;32m    161\u001b[0m     \u001b[39mself\u001b[39m,\n\u001b[1;32m    162\u001b[0m     method,\n\u001b[0;32m   (...)\u001b[0m\n\u001b[1;32m    169\u001b[0m     request_timeout: Optional[Union[\u001b[39mfloat\u001b[39m, Tuple[\u001b[39mfloat\u001b[39m, \u001b[39mfloat\u001b[39m]]] \u001b[39m=\u001b[39m \u001b[39mNone\u001b[39;00m,\n\u001b[1;32m    170\u001b[0m ) \u001b[39m-\u001b[39m\u001b[39m>\u001b[39m Tuple[Union[OpenAIResponse, Iterator[OpenAIResponse]], \u001b[39mbool\u001b[39m, \u001b[39mstr\u001b[39m]:\n\u001b[0;32m--> 171\u001b[0m     result \u001b[39m=\u001b[39m \u001b[39mself\u001b[39;49m\u001b[39m.\u001b[39;49mrequest_raw(\n\u001b[1;32m    172\u001b[0m         method\u001b[39m.\u001b[39;49mlower(),\n\u001b[1;32m    173\u001b[0m         url,\n\u001b[1;32m    174\u001b[0m         params\u001b[39m=\u001b[39;49mparams,\n\u001b[1;32m    175\u001b[0m         supplied_headers\u001b[39m=\u001b[39;49mheaders,\n\u001b[1;32m    176\u001b[0m         files\u001b[39m=\u001b[39;49mfiles,\n\u001b[1;32m    177\u001b[0m         stream\u001b[39m=\u001b[39;49mstream,\n\u001b[1;32m    178\u001b[0m         request_id\u001b[39m=\u001b[39;49mrequest_id,\n\u001b[1;32m    179\u001b[0m         request_timeout\u001b[39m=\u001b[39;49mrequest_timeout,\n\u001b[1;32m    180\u001b[0m     )\n\u001b[1;32m    181\u001b[0m     resp, got_stream \u001b[39m=\u001b[39m \u001b[39mself\u001b[39m\u001b[39m.\u001b[39m_interpret_response(result, stream)\n\u001b[1;32m    182\u001b[0m     \u001b[39mreturn\u001b[39;00m resp, got_stream, \u001b[39mself\u001b[39m\u001b[39m.\u001b[39mapi_key\n",
      "File \u001b[0;32m~/miniconda3/envs/db_prep/lib/python3.11/site-packages/openai/api_requestor.py:356\u001b[0m, in \u001b[0;36mAPIRequestor.request_raw\u001b[0;34m(self, method, url, params, supplied_headers, files, stream, request_id, request_timeout)\u001b[0m\n\u001b[1;32m    354\u001b[0m     _thread_context\u001b[39m.\u001b[39msession \u001b[39m=\u001b[39m _make_session()\n\u001b[1;32m    355\u001b[0m \u001b[39mtry\u001b[39;00m:\n\u001b[0;32m--> 356\u001b[0m     result \u001b[39m=\u001b[39m _thread_context\u001b[39m.\u001b[39;49msession\u001b[39m.\u001b[39;49mrequest(\n\u001b[1;32m    357\u001b[0m         method,\n\u001b[1;32m    358\u001b[0m         abs_url,\n\u001b[1;32m    359\u001b[0m         headers\u001b[39m=\u001b[39;49mheaders,\n\u001b[1;32m    360\u001b[0m         data\u001b[39m=\u001b[39;49mdata,\n\u001b[1;32m    361\u001b[0m         files\u001b[39m=\u001b[39;49mfiles,\n\u001b[1;32m    362\u001b[0m         stream\u001b[39m=\u001b[39;49mstream,\n\u001b[1;32m    363\u001b[0m         timeout\u001b[39m=\u001b[39;49mrequest_timeout \u001b[39mif\u001b[39;49;00m request_timeout \u001b[39melse\u001b[39;49;00m TIMEOUT_SECS,\n\u001b[1;32m    364\u001b[0m     )\n\u001b[1;32m    365\u001b[0m \u001b[39mexcept\u001b[39;00m requests\u001b[39m.\u001b[39mexceptions\u001b[39m.\u001b[39mTimeout \u001b[39mas\u001b[39;00m e:\n\u001b[1;32m    366\u001b[0m     \u001b[39mraise\u001b[39;00m error\u001b[39m.\u001b[39mTimeout(\u001b[39m\"\u001b[39m\u001b[39mRequest timed out\u001b[39m\u001b[39m\"\u001b[39m) \u001b[39mfrom\u001b[39;00m \u001b[39me\u001b[39;00m\n",
      "File \u001b[0;32m~/miniconda3/envs/db_prep/lib/python3.11/site-packages/requests/sessions.py:589\u001b[0m, in \u001b[0;36mSession.request\u001b[0;34m(self, method, url, params, data, headers, cookies, files, auth, timeout, allow_redirects, proxies, hooks, stream, verify, cert, json)\u001b[0m\n\u001b[1;32m    584\u001b[0m send_kwargs \u001b[39m=\u001b[39m {\n\u001b[1;32m    585\u001b[0m     \u001b[39m\"\u001b[39m\u001b[39mtimeout\u001b[39m\u001b[39m\"\u001b[39m: timeout,\n\u001b[1;32m    586\u001b[0m     \u001b[39m\"\u001b[39m\u001b[39mallow_redirects\u001b[39m\u001b[39m\"\u001b[39m: allow_redirects,\n\u001b[1;32m    587\u001b[0m }\n\u001b[1;32m    588\u001b[0m send_kwargs\u001b[39m.\u001b[39mupdate(settings)\n\u001b[0;32m--> 589\u001b[0m resp \u001b[39m=\u001b[39m \u001b[39mself\u001b[39;49m\u001b[39m.\u001b[39;49msend(prep, \u001b[39m*\u001b[39;49m\u001b[39m*\u001b[39;49msend_kwargs)\n\u001b[1;32m    591\u001b[0m \u001b[39mreturn\u001b[39;00m resp\n",
      "File \u001b[0;32m~/miniconda3/envs/db_prep/lib/python3.11/site-packages/requests/sessions.py:703\u001b[0m, in \u001b[0;36mSession.send\u001b[0;34m(self, request, **kwargs)\u001b[0m\n\u001b[1;32m    700\u001b[0m start \u001b[39m=\u001b[39m preferred_clock()\n\u001b[1;32m    702\u001b[0m \u001b[39m# Send the request\u001b[39;00m\n\u001b[0;32m--> 703\u001b[0m r \u001b[39m=\u001b[39m adapter\u001b[39m.\u001b[39;49msend(request, \u001b[39m*\u001b[39;49m\u001b[39m*\u001b[39;49mkwargs)\n\u001b[1;32m    705\u001b[0m \u001b[39m# Total elapsed time of the request (approximately)\u001b[39;00m\n\u001b[1;32m    706\u001b[0m elapsed \u001b[39m=\u001b[39m preferred_clock() \u001b[39m-\u001b[39m start\n",
      "File \u001b[0;32m~/miniconda3/envs/db_prep/lib/python3.11/site-packages/requests/adapters.py:486\u001b[0m, in \u001b[0;36mHTTPAdapter.send\u001b[0;34m(self, request, stream, timeout, verify, cert, proxies)\u001b[0m\n\u001b[1;32m    483\u001b[0m     timeout \u001b[39m=\u001b[39m TimeoutSauce(connect\u001b[39m=\u001b[39mtimeout, read\u001b[39m=\u001b[39mtimeout)\n\u001b[1;32m    485\u001b[0m \u001b[39mtry\u001b[39;00m:\n\u001b[0;32m--> 486\u001b[0m     resp \u001b[39m=\u001b[39m conn\u001b[39m.\u001b[39;49murlopen(\n\u001b[1;32m    487\u001b[0m         method\u001b[39m=\u001b[39;49mrequest\u001b[39m.\u001b[39;49mmethod,\n\u001b[1;32m    488\u001b[0m         url\u001b[39m=\u001b[39;49murl,\n\u001b[1;32m    489\u001b[0m         body\u001b[39m=\u001b[39;49mrequest\u001b[39m.\u001b[39;49mbody,\n\u001b[1;32m    490\u001b[0m         headers\u001b[39m=\u001b[39;49mrequest\u001b[39m.\u001b[39;49mheaders,\n\u001b[1;32m    491\u001b[0m         redirect\u001b[39m=\u001b[39;49m\u001b[39mFalse\u001b[39;49;00m,\n\u001b[1;32m    492\u001b[0m         assert_same_host\u001b[39m=\u001b[39;49m\u001b[39mFalse\u001b[39;49;00m,\n\u001b[1;32m    493\u001b[0m         preload_content\u001b[39m=\u001b[39;49m\u001b[39mFalse\u001b[39;49;00m,\n\u001b[1;32m    494\u001b[0m         decode_content\u001b[39m=\u001b[39;49m\u001b[39mFalse\u001b[39;49;00m,\n\u001b[1;32m    495\u001b[0m         retries\u001b[39m=\u001b[39;49m\u001b[39mself\u001b[39;49m\u001b[39m.\u001b[39;49mmax_retries,\n\u001b[1;32m    496\u001b[0m         timeout\u001b[39m=\u001b[39;49mtimeout,\n\u001b[1;32m    497\u001b[0m         chunked\u001b[39m=\u001b[39;49mchunked,\n\u001b[1;32m    498\u001b[0m     )\n\u001b[1;32m    500\u001b[0m \u001b[39mexcept\u001b[39;00m (ProtocolError, \u001b[39mOSError\u001b[39;00m) \u001b[39mas\u001b[39;00m err:\n\u001b[1;32m    501\u001b[0m     \u001b[39mraise\u001b[39;00m \u001b[39mConnectionError\u001b[39;00m(err, request\u001b[39m=\u001b[39mrequest)\n",
      "File \u001b[0;32m~/miniconda3/envs/db_prep/lib/python3.11/site-packages/urllib3/connectionpool.py:790\u001b[0m, in \u001b[0;36mHTTPConnectionPool.urlopen\u001b[0;34m(self, method, url, body, headers, retries, redirect, assert_same_host, timeout, pool_timeout, release_conn, chunked, body_pos, preload_content, decode_content, **response_kw)\u001b[0m\n\u001b[1;32m    787\u001b[0m response_conn \u001b[39m=\u001b[39m conn \u001b[39mif\u001b[39;00m \u001b[39mnot\u001b[39;00m release_conn \u001b[39melse\u001b[39;00m \u001b[39mNone\u001b[39;00m\n\u001b[1;32m    789\u001b[0m \u001b[39m# Make the request on the HTTPConnection object\u001b[39;00m\n\u001b[0;32m--> 790\u001b[0m response \u001b[39m=\u001b[39m \u001b[39mself\u001b[39;49m\u001b[39m.\u001b[39;49m_make_request(\n\u001b[1;32m    791\u001b[0m     conn,\n\u001b[1;32m    792\u001b[0m     method,\n\u001b[1;32m    793\u001b[0m     url,\n\u001b[1;32m    794\u001b[0m     timeout\u001b[39m=\u001b[39;49mtimeout_obj,\n\u001b[1;32m    795\u001b[0m     body\u001b[39m=\u001b[39;49mbody,\n\u001b[1;32m    796\u001b[0m     headers\u001b[39m=\u001b[39;49mheaders,\n\u001b[1;32m    797\u001b[0m     chunked\u001b[39m=\u001b[39;49mchunked,\n\u001b[1;32m    798\u001b[0m     retries\u001b[39m=\u001b[39;49mretries,\n\u001b[1;32m    799\u001b[0m     response_conn\u001b[39m=\u001b[39;49mresponse_conn,\n\u001b[1;32m    800\u001b[0m     preload_content\u001b[39m=\u001b[39;49mpreload_content,\n\u001b[1;32m    801\u001b[0m     decode_content\u001b[39m=\u001b[39;49mdecode_content,\n\u001b[1;32m    802\u001b[0m     \u001b[39m*\u001b[39;49m\u001b[39m*\u001b[39;49mresponse_kw,\n\u001b[1;32m    803\u001b[0m )\n\u001b[1;32m    805\u001b[0m \u001b[39m# Everything went great!\u001b[39;00m\n\u001b[1;32m    806\u001b[0m clean_exit \u001b[39m=\u001b[39m \u001b[39mTrue\u001b[39;00m\n",
      "File \u001b[0;32m~/miniconda3/envs/db_prep/lib/python3.11/site-packages/urllib3/connectionpool.py:536\u001b[0m, in \u001b[0;36mHTTPConnectionPool._make_request\u001b[0;34m(self, conn, method, url, body, headers, retries, timeout, chunked, response_conn, preload_content, decode_content, enforce_content_length)\u001b[0m\n\u001b[1;32m    534\u001b[0m \u001b[39m# Receive the response from the server\u001b[39;00m\n\u001b[1;32m    535\u001b[0m \u001b[39mtry\u001b[39;00m:\n\u001b[0;32m--> 536\u001b[0m     response \u001b[39m=\u001b[39m conn\u001b[39m.\u001b[39;49mgetresponse()\n\u001b[1;32m    537\u001b[0m \u001b[39mexcept\u001b[39;00m (BaseSSLError, \u001b[39mOSError\u001b[39;00m) \u001b[39mas\u001b[39;00m e:\n\u001b[1;32m    538\u001b[0m     \u001b[39mself\u001b[39m\u001b[39m.\u001b[39m_raise_timeout(err\u001b[39m=\u001b[39me, url\u001b[39m=\u001b[39murl, timeout_value\u001b[39m=\u001b[39mread_timeout)\n",
      "File \u001b[0;32m~/miniconda3/envs/db_prep/lib/python3.11/site-packages/urllib3/connection.py:461\u001b[0m, in \u001b[0;36mHTTPConnection.getresponse\u001b[0;34m(self)\u001b[0m\n\u001b[1;32m    458\u001b[0m \u001b[39mfrom\u001b[39;00m \u001b[39m.\u001b[39;00m\u001b[39mresponse\u001b[39;00m \u001b[39mimport\u001b[39;00m HTTPResponse\n\u001b[1;32m    460\u001b[0m \u001b[39m# Get the response from http.client.HTTPConnection\u001b[39;00m\n\u001b[0;32m--> 461\u001b[0m httplib_response \u001b[39m=\u001b[39m \u001b[39msuper\u001b[39;49m()\u001b[39m.\u001b[39;49mgetresponse()\n\u001b[1;32m    463\u001b[0m \u001b[39mtry\u001b[39;00m:\n\u001b[1;32m    464\u001b[0m     assert_header_parsing(httplib_response\u001b[39m.\u001b[39mmsg)\n",
      "File \u001b[0;32m~/miniconda3/envs/db_prep/lib/python3.11/http/client.py:1378\u001b[0m, in \u001b[0;36mHTTPConnection.getresponse\u001b[0;34m(self)\u001b[0m\n\u001b[1;32m   1376\u001b[0m \u001b[39mtry\u001b[39;00m:\n\u001b[1;32m   1377\u001b[0m     \u001b[39mtry\u001b[39;00m:\n\u001b[0;32m-> 1378\u001b[0m         response\u001b[39m.\u001b[39;49mbegin()\n\u001b[1;32m   1379\u001b[0m     \u001b[39mexcept\u001b[39;00m \u001b[39mConnectionError\u001b[39;00m:\n\u001b[1;32m   1380\u001b[0m         \u001b[39mself\u001b[39m\u001b[39m.\u001b[39mclose()\n",
      "File \u001b[0;32m~/miniconda3/envs/db_prep/lib/python3.11/http/client.py:318\u001b[0m, in \u001b[0;36mHTTPResponse.begin\u001b[0;34m(self)\u001b[0m\n\u001b[1;32m    316\u001b[0m \u001b[39m# read until we get a non-100 response\u001b[39;00m\n\u001b[1;32m    317\u001b[0m \u001b[39mwhile\u001b[39;00m \u001b[39mTrue\u001b[39;00m:\n\u001b[0;32m--> 318\u001b[0m     version, status, reason \u001b[39m=\u001b[39m \u001b[39mself\u001b[39;49m\u001b[39m.\u001b[39;49m_read_status()\n\u001b[1;32m    319\u001b[0m     \u001b[39mif\u001b[39;00m status \u001b[39m!=\u001b[39m CONTINUE:\n\u001b[1;32m    320\u001b[0m         \u001b[39mbreak\u001b[39;00m\n",
      "File \u001b[0;32m~/miniconda3/envs/db_prep/lib/python3.11/http/client.py:279\u001b[0m, in \u001b[0;36mHTTPResponse._read_status\u001b[0;34m(self)\u001b[0m\n\u001b[1;32m    278\u001b[0m \u001b[39mdef\u001b[39;00m \u001b[39m_read_status\u001b[39m(\u001b[39mself\u001b[39m):\n\u001b[0;32m--> 279\u001b[0m     line \u001b[39m=\u001b[39m \u001b[39mstr\u001b[39m(\u001b[39mself\u001b[39m\u001b[39m.\u001b[39mfp\u001b[39m.\u001b[39mreadline(_MAXLINE \u001b[39m+\u001b[39m \u001b[39m1\u001b[39m), \u001b[39m\"\u001b[39m\u001b[39miso-8859-1\u001b[39m\u001b[39m\"\u001b[39m)\n\u001b[1;32m    280\u001b[0m     \u001b[39mif\u001b[39;00m \u001b[39mlen\u001b[39m(line) \u001b[39m>\u001b[39m _MAXLINE:\n\u001b[1;32m    281\u001b[0m         \u001b[39mraise\u001b[39;00m LineTooLong(\u001b[39m\"\u001b[39m\u001b[39mstatus line\u001b[39m\u001b[39m\"\u001b[39m)\n",
      "File \u001b[0;32m~/miniconda3/envs/db_prep/lib/python3.11/socket.py:706\u001b[0m, in \u001b[0;36mSocketIO.readinto\u001b[0;34m(self, b)\u001b[0m\n\u001b[1;32m    704\u001b[0m \u001b[39mwhile\u001b[39;00m \u001b[39mTrue\u001b[39;00m:\n\u001b[1;32m    705\u001b[0m     \u001b[39mtry\u001b[39;00m:\n\u001b[0;32m--> 706\u001b[0m         \u001b[39mreturn\u001b[39;00m \u001b[39mself\u001b[39;49m\u001b[39m.\u001b[39;49m_sock\u001b[39m.\u001b[39;49mrecv_into(b)\n\u001b[1;32m    707\u001b[0m     \u001b[39mexcept\u001b[39;00m timeout:\n\u001b[1;32m    708\u001b[0m         \u001b[39mself\u001b[39m\u001b[39m.\u001b[39m_timeout_occurred \u001b[39m=\u001b[39m \u001b[39mTrue\u001b[39;00m\n",
      "File \u001b[0;32m~/miniconda3/envs/db_prep/lib/python3.11/ssl.py:1311\u001b[0m, in \u001b[0;36mSSLSocket.recv_into\u001b[0;34m(self, buffer, nbytes, flags)\u001b[0m\n\u001b[1;32m   1307\u001b[0m     \u001b[39mif\u001b[39;00m flags \u001b[39m!=\u001b[39m \u001b[39m0\u001b[39m:\n\u001b[1;32m   1308\u001b[0m         \u001b[39mraise\u001b[39;00m \u001b[39mValueError\u001b[39;00m(\n\u001b[1;32m   1309\u001b[0m           \u001b[39m\"\u001b[39m\u001b[39mnon-zero flags not allowed in calls to recv_into() on \u001b[39m\u001b[39m%s\u001b[39;00m\u001b[39m\"\u001b[39m \u001b[39m%\u001b[39m\n\u001b[1;32m   1310\u001b[0m           \u001b[39mself\u001b[39m\u001b[39m.\u001b[39m\u001b[39m__class__\u001b[39m)\n\u001b[0;32m-> 1311\u001b[0m     \u001b[39mreturn\u001b[39;00m \u001b[39mself\u001b[39;49m\u001b[39m.\u001b[39;49mread(nbytes, buffer)\n\u001b[1;32m   1312\u001b[0m \u001b[39melse\u001b[39;00m:\n\u001b[1;32m   1313\u001b[0m     \u001b[39mreturn\u001b[39;00m \u001b[39msuper\u001b[39m()\u001b[39m.\u001b[39mrecv_into(buffer, nbytes, flags)\n",
      "File \u001b[0;32m~/miniconda3/envs/db_prep/lib/python3.11/ssl.py:1167\u001b[0m, in \u001b[0;36mSSLSocket.read\u001b[0;34m(self, len, buffer)\u001b[0m\n\u001b[1;32m   1165\u001b[0m \u001b[39mtry\u001b[39;00m:\n\u001b[1;32m   1166\u001b[0m     \u001b[39mif\u001b[39;00m buffer \u001b[39mis\u001b[39;00m \u001b[39mnot\u001b[39;00m \u001b[39mNone\u001b[39;00m:\n\u001b[0;32m-> 1167\u001b[0m         \u001b[39mreturn\u001b[39;00m \u001b[39mself\u001b[39;49m\u001b[39m.\u001b[39;49m_sslobj\u001b[39m.\u001b[39;49mread(\u001b[39mlen\u001b[39;49m, buffer)\n\u001b[1;32m   1168\u001b[0m     \u001b[39melse\u001b[39;00m:\n\u001b[1;32m   1169\u001b[0m         \u001b[39mreturn\u001b[39;00m \u001b[39mself\u001b[39m\u001b[39m.\u001b[39m_sslobj\u001b[39m.\u001b[39mread(\u001b[39mlen\u001b[39m)\n",
      "\u001b[0;31mKeyboardInterrupt\u001b[0m: "
     ]
    }
   ],
   "source": [
    "# create embeddings for NEW messages, iterate over all files in data_path\n",
    "files = os.listdir(data_path)\n",
    "for file in tqdm_notebook(files):\n",
    "    if file.endswith('.pkl'):\n",
    "        df = pd.read_pickle(data_path+file)\n",
    "        # if df empty, skip\n",
    "        if df.shape[0] == 0:\n",
    "            continue\n",
    "        # check if embeddings already exist\n",
    "        if 'embeddings' in df.columns:\n",
    "            # calculate embeddings only where embeddings are not calculated yet\n",
    "            df_temp = df[df['embeddings'].isnull()]\n",
    "            df_temp.loc[:,'embeddings'] = df_temp['summary'].apply(get_embeddings)\n",
    "            df.loc[df_temp.index, 'embeddings'] = df_temp['embeddings']\n",
    "            \n",
    "        else:\n",
    "            df['embeddings'] = df['summary'].apply(get_embeddings)\n",
    "        df.to_pickle(data_path+file)"
   ]
  },
  {
   "cell_type": "markdown",
   "metadata": {},
   "source": [
    "### create embeddings in batches - same speed ()"
   ]
  },
  {
   "cell_type": "markdown",
   "metadata": {},
   "source": [
    "No speed gain vs 1 by 1 embedding. Can also try: https://github.com/openai/openai-cookbook/blob/main/examples/api_request_parallel_processor.py"
   ]
  },
  {
   "cell_type": "code",
   "execution_count": 323,
   "metadata": {},
   "outputs": [],
   "source": [
    "# function for openai embeddings in batches\n",
    "def get_embeddings_batch(texts, model=\"text-embedding-ada-002\"):\n",
    "    embeddings = []\n",
    "    for text in tqdm(texts):\n",
    "        response = openai.Embedding.create(\n",
    "            input=text,\n",
    "            model=model\n",
    "        )\n",
    "        embeddings.append(response['data'][0]['embedding'])\n",
    "    return embeddings"
   ]
  },
  {
   "cell_type": "code",
   "execution_count": 338,
   "metadata": {},
   "outputs": [
    {
     "name": "stderr",
     "output_type": "stream",
     "text": [
      "100%|██████████| 50/50 [00:17<00:00,  2.82it/s]\n",
      "100%|██████████| 51/51 [00:17<00:00,  2.94it/s]\n",
      "100%|██████████| 51/51 [00:17<00:00,  2.99it/s]\n",
      "100%|██████████| 51/51 [00:17<00:00,  2.85it/s]\n",
      "100%|██████████| 51/51 [00:17<00:00,  3.00it/s]\n",
      "100%|██████████| 51/51 [00:17<00:00,  2.95it/s]\n",
      "100%|██████████| 51/51 [00:16<00:00,  3.01it/s]\n",
      "100%|██████████| 7/7 [00:02<00:00,  3.21it/s]\n",
      "100%|██████████| 8/8 [02:03<00:00, 15.44s/it]\n"
     ]
    }
   ],
   "source": [
    "batch_size = 50\n",
    "n_batches = int(np.ceil(df.shape[0]/batch_size))\n",
    "for i in tqdm(range(n_batches)):\n",
    "    start = i*batch_size\n",
    "    end = start+batch_size\n",
    "    res = get_embeddings_batch(df.loc[start:end, 'summary'])\n",
    "    df.loc[start:end, 'embeddings'] = pd.Series(res)"
   ]
  },
  {
   "cell_type": "code",
   "execution_count": null,
   "metadata": {},
   "outputs": [],
   "source": [
    "# calculate embeddings in batches\n",
    "batch_size = 4\n",
    "\n",
    "files = os.listdir(data_path)\n",
    "for file in tqdm(files):\n",
    "    if file.endswith('.pkl'):\n",
    "        df = pd.read_pickle(data_path+file)\n",
    "        # if df empty, skip\n",
    "        if df.shape[0] == 0:\n",
    "            continue\n",
    "        # if embeddings already calculated, skip\n",
    "        if 'embeddings' in df.columns:\n",
    "            continue\n",
    "        # calculate embeddings in batches\n",
    "        n_batches = int(np.ceil(df.shape[0]/batch_size))\n",
    "        df['embeddings'] = np.nan\n",
    "        for i in tqdm(range(n_batches)):\n",
    "            start = i*batch_size\n",
    "            end = start+batch_size\n",
    "            df.loc[start:end, 'embeddings'] = get_embeddings_batch(df.loc[start:end, 'summary'])\n",
    "        df.to_pickle(data_path+file)"
   ]
  },
  {
   "cell_type": "markdown",
   "metadata": {},
   "source": [
    "## Pinecone"
   ]
  },
  {
   "cell_type": "markdown",
   "metadata": {},
   "source": [
    "### prepare dataset for pinecone "
   ]
  },
  {
   "cell_type": "code",
   "execution_count": 76,
   "metadata": {},
   "outputs": [
    {
     "data": {
      "application/vnd.jupyter.widget-view+json": {
       "model_id": "59657b9dcf9b4b4291091b5e9b6cb861",
       "version_major": 2,
       "version_minor": 0
      },
      "text/plain": [
       "  0%|          | 0/47 [00:00<?, ?it/s]"
      ]
     },
     "metadata": {},
     "output_type": "display_data"
    }
   ],
   "source": [
    "# data from all channels for last 30 days. Includes only embeddings, id and metadata: channel, date, message, cleaned_message, summary\n",
    "\n",
    "# set start date\n",
    "start_date = pd.Timestamp(datetime.datetime.now() - datetime.timedelta(days=30), tz='UTC')\n",
    "\n",
    "# list of files in data_path\n",
    "files = os.listdir(data_path)\n",
    "df_list = []\n",
    "for file in tqdm_notebook(files):\n",
    "    if file.endswith('.pkl'):\n",
    "        df_temp = pd.read_pickle(data_path+file)\n",
    "        # if df empty, skip\n",
    "        if df_temp.shape[0] == 0:\n",
    "            continue\n",
    "        # select data for last 30 days\n",
    "        df_temp = df_temp[df_temp['date'] >= start_date]\n",
    "        # id as channel_id + message_id\n",
    "        df_temp['id'] = df_temp['channel'] + '_' + df_temp['id'].astype(str)\n",
    "        df_temp = df_temp[['id', 'channel','stance', 'date', 'message', 'views', 'cleaned_message', 'summary', 'embeddings']]\n",
    "        df_list.append(df_temp)"
   ]
  },
  {
   "cell_type": "code",
   "execution_count": 84,
   "metadata": {},
   "outputs": [
    {
     "data": {
      "text/plain": [
       "((16243, 9),\n",
       " Timestamp('2023-10-09 00:00:01+0000', tz='UTC'),\n",
       " Timestamp('2023-10-14 18:01:46+0000', tz='UTC'))"
      ]
     },
     "execution_count": 84,
     "metadata": {},
     "output_type": "execute_result"
    }
   ],
   "source": [
    "df4pine = pd.concat(df_list)\n",
    "df4pine.shape, df4pine.date.min(), df4pine.date.max()"
   ]
  },
  {
   "cell_type": "code",
   "execution_count": 58,
   "metadata": {},
   "outputs": [],
   "source": [
    "df4pine.reset_index(inplace=True, drop=True)"
   ]
  },
  {
   "cell_type": "markdown",
   "metadata": {},
   "source": [
    "### send to pinecone"
   ]
  },
  {
   "cell_type": "code",
   "execution_count": 45,
   "metadata": {},
   "outputs": [],
   "source": [
    "with open(keys_path+'api_keys.json') as f:\n",
    "  data = json.loads(f.read())\n",
    "\n",
    "# load pinecone credentials\n",
    "pine_key = data['pine_key']\n",
    "pine_env = data['pine_env']"
   ]
  },
  {
   "cell_type": "code",
   "execution_count": 61,
   "metadata": {},
   "outputs": [],
   "source": [
    "# create pinecone index & upsert texts & embeddings\n",
    "\n",
    "emb_size = len(df4pine.embeddings.iloc[0])\n",
    "\n",
    "pinecone.init(api_key=pine_key, environment=pine_env)\n",
    "index_name = 'tg-news'\n",
    "if index_name not in pinecone.list_indexes():\n",
    "    pinecone.create_index(index_name, dimension=emb_size)"
   ]
  },
  {
   "cell_type": "code",
   "execution_count": 83,
   "metadata": {},
   "outputs": [
    {
     "data": {
      "application/vnd.jupyter.widget-view+json": {
       "model_id": "31fb31fdef494e058e1f35930ba94302",
       "version_major": 2,
       "version_minor": 0
      },
      "text/plain": [
       "  0%|          | 0/1625 [00:00<?, ?it/s]"
      ]
     },
     "metadata": {},
     "output_type": "display_data"
    },
    {
     "ename": "KeyboardInterrupt",
     "evalue": "",
     "output_type": "error",
     "traceback": [
      "\u001b[0;31m---------------------------------------------------------------------------\u001b[0m",
      "\u001b[0;31mKeyboardInterrupt\u001b[0m                         Traceback (most recent call last)",
      "\u001b[1;32m/Users/alexbadin/Library/CloudStorage/GoogleDrive-alex.badin@gmail.com/My Drive/Colab Notebooks/Narratives/notebooks_data_ingest/data_ingest.ipynb Cell 31\u001b[0m line \u001b[0;36m1\n\u001b[1;32m     <a href='vscode-notebook-cell:/Users/alexbadin/Library/CloudStorage/GoogleDrive-alex.badin%40gmail.com/My%20Drive/Colab%20Notebooks/Narratives/notebooks_data_ingest/data_ingest.ipynb#Y162sZmlsZQ%3D%3D?line=14'>15</a>\u001b[0m \u001b[39m# upsert to Pinecone \u001b[39;00m\n\u001b[1;32m     <a href='vscode-notebook-cell:/Users/alexbadin/Library/CloudStorage/GoogleDrive-alex.badin%40gmail.com/My%20Drive/Colab%20Notebooks/Narratives/notebooks_data_ingest/data_ingest.ipynb#Y162sZmlsZQ%3D%3D?line=15'>16</a>\u001b[0m \u001b[39m# !!! meta skipped due to errors\u001b[39;00m\n\u001b[1;32m     <a href='vscode-notebook-cell:/Users/alexbadin/Library/CloudStorage/GoogleDrive-alex.badin%40gmail.com/My%20Drive/Colab%20Notebooks/Narratives/notebooks_data_ingest/data_ingest.ipynb#Y162sZmlsZQ%3D%3D?line=16'>17</a>\u001b[0m to_upsert \u001b[39m=\u001b[39m \u001b[39mzip\u001b[39m(ids_batch, embeds_batch, meta_batch)\n\u001b[0;32m---> <a href='vscode-notebook-cell:/Users/alexbadin/Library/CloudStorage/GoogleDrive-alex.badin%40gmail.com/My%20Drive/Colab%20Notebooks/Narratives/notebooks_data_ingest/data_ingest.ipynb#Y162sZmlsZQ%3D%3D?line=17'>18</a>\u001b[0m index\u001b[39m.\u001b[39;49mupsert(vectors\u001b[39m=\u001b[39;49m\u001b[39mlist\u001b[39;49m(to_upsert))\n",
      "File \u001b[0;32m~/miniconda3/envs/db_prep/lib/python3.11/site-packages/pinecone/core/utils/error_handling.py:17\u001b[0m, in \u001b[0;36mvalidate_and_convert_errors.<locals>.inner_func\u001b[0;34m(*args, **kwargs)\u001b[0m\n\u001b[1;32m     15\u001b[0m Config\u001b[39m.\u001b[39mvalidate()  \u001b[39m# raises exceptions in case of invalid config\u001b[39;00m\n\u001b[1;32m     16\u001b[0m \u001b[39mtry\u001b[39;00m:\n\u001b[0;32m---> 17\u001b[0m     \u001b[39mreturn\u001b[39;00m func(\u001b[39m*\u001b[39;49margs, \u001b[39m*\u001b[39;49m\u001b[39m*\u001b[39;49mkwargs)\n\u001b[1;32m     18\u001b[0m \u001b[39mexcept\u001b[39;00m MaxRetryError \u001b[39mas\u001b[39;00m e:\n\u001b[1;32m     19\u001b[0m     \u001b[39mif\u001b[39;00m \u001b[39misinstance\u001b[39m(e\u001b[39m.\u001b[39mreason, ProtocolError):\n",
      "File \u001b[0;32m~/miniconda3/envs/db_prep/lib/python3.11/site-packages/pinecone/index.py:150\u001b[0m, in \u001b[0;36mIndex.upsert\u001b[0;34m(self, vectors, namespace, batch_size, show_progress, **kwargs)\u001b[0m\n\u001b[1;32m    145\u001b[0m     \u001b[39mraise\u001b[39;00m \u001b[39mValueError\u001b[39;00m(\u001b[39m'\u001b[39m\u001b[39masync_req is not supported when batch_size is provided.\u001b[39m\u001b[39m'\u001b[39m\n\u001b[1;32m    146\u001b[0m                      \u001b[39m'\u001b[39m\u001b[39mTo upsert in parallel, please follow: \u001b[39m\u001b[39m'\u001b[39m\n\u001b[1;32m    147\u001b[0m                      \u001b[39m'\u001b[39m\u001b[39mhttps://docs.pinecone.io/docs/insert-data#sending-upserts-in-parallel\u001b[39m\u001b[39m'\u001b[39m)\n\u001b[1;32m    149\u001b[0m \u001b[39mif\u001b[39;00m batch_size \u001b[39mis\u001b[39;00m \u001b[39mNone\u001b[39;00m:\n\u001b[0;32m--> 150\u001b[0m     \u001b[39mreturn\u001b[39;00m \u001b[39mself\u001b[39;49m\u001b[39m.\u001b[39;49m_upsert_batch(vectors, namespace, _check_type, \u001b[39m*\u001b[39;49m\u001b[39m*\u001b[39;49mkwargs)\n\u001b[1;32m    152\u001b[0m \u001b[39mif\u001b[39;00m \u001b[39mnot\u001b[39;00m \u001b[39misinstance\u001b[39m(batch_size, \u001b[39mint\u001b[39m) \u001b[39mor\u001b[39;00m batch_size \u001b[39m<\u001b[39m\u001b[39m=\u001b[39m \u001b[39m0\u001b[39m:\n\u001b[1;32m    153\u001b[0m     \u001b[39mraise\u001b[39;00m \u001b[39mValueError\u001b[39;00m(\u001b[39m'\u001b[39m\u001b[39mbatch_size must be a positive integer\u001b[39m\u001b[39m'\u001b[39m)\n",
      "File \u001b[0;32m~/miniconda3/envs/db_prep/lib/python3.11/site-packages/pinecone/index.py:237\u001b[0m, in \u001b[0;36mIndex._upsert_batch\u001b[0;34m(self, vectors, namespace, _check_type, **kwargs)\u001b[0m\n\u001b[1;32m    234\u001b[0m         \u001b[39mreturn\u001b[39;00m _dict_to_vector(item)\n\u001b[1;32m    235\u001b[0m     \u001b[39mraise\u001b[39;00m \u001b[39mValueError\u001b[39;00m(\u001b[39mf\u001b[39m\u001b[39m\"\u001b[39m\u001b[39mInvalid vector value passed: cannot interpret type \u001b[39m\u001b[39m{\u001b[39;00m\u001b[39mtype\u001b[39m(item)\u001b[39m}\u001b[39;00m\u001b[39m\"\u001b[39m)\n\u001b[0;32m--> 237\u001b[0m \u001b[39mreturn\u001b[39;00m \u001b[39mself\u001b[39;49m\u001b[39m.\u001b[39;49m_vector_api\u001b[39m.\u001b[39;49mupsert(\n\u001b[1;32m    238\u001b[0m     UpsertRequest(\n\u001b[1;32m    239\u001b[0m         vectors\u001b[39m=\u001b[39;49m\u001b[39mlist\u001b[39;49m(\u001b[39mmap\u001b[39;49m(_vector_transform, vectors)),\n\u001b[1;32m    240\u001b[0m         \u001b[39m*\u001b[39;49m\u001b[39m*\u001b[39;49margs_dict,\n\u001b[1;32m    241\u001b[0m         _check_type\u001b[39m=\u001b[39;49m_check_type,\n\u001b[1;32m    242\u001b[0m         \u001b[39m*\u001b[39;49m\u001b[39m*\u001b[39;49m{k: v \u001b[39mfor\u001b[39;49;00m k, v \u001b[39min\u001b[39;49;00m kwargs\u001b[39m.\u001b[39;49mitems() \u001b[39mif\u001b[39;49;00m k \u001b[39mnot\u001b[39;49;00m \u001b[39min\u001b[39;49;00m _OPENAPI_ENDPOINT_PARAMS}\n\u001b[1;32m    243\u001b[0m     ),\n\u001b[1;32m    244\u001b[0m     \u001b[39m*\u001b[39;49m\u001b[39m*\u001b[39;49m{k: v \u001b[39mfor\u001b[39;49;00m k, v \u001b[39min\u001b[39;49;00m kwargs\u001b[39m.\u001b[39;49mitems() \u001b[39mif\u001b[39;49;00m k \u001b[39min\u001b[39;49;00m _OPENAPI_ENDPOINT_PARAMS}\n\u001b[1;32m    245\u001b[0m )\n",
      "File \u001b[0;32m~/miniconda3/envs/db_prep/lib/python3.11/site-packages/pinecone/core/client/api_client.py:776\u001b[0m, in \u001b[0;36mEndpoint.__call__\u001b[0;34m(self, *args, **kwargs)\u001b[0m\n\u001b[1;32m    765\u001b[0m \u001b[39mdef\u001b[39;00m \u001b[39m__call__\u001b[39m(\u001b[39mself\u001b[39m, \u001b[39m*\u001b[39margs, \u001b[39m*\u001b[39m\u001b[39m*\u001b[39mkwargs):\n\u001b[1;32m    766\u001b[0m \u001b[39m    \u001b[39m\u001b[39m\"\"\" This method is invoked when endpoints are called\u001b[39;00m\n\u001b[1;32m    767\u001b[0m \u001b[39m    Example:\u001b[39;00m\n\u001b[1;32m    768\u001b[0m \n\u001b[0;32m   (...)\u001b[0m\n\u001b[1;32m    774\u001b[0m \n\u001b[1;32m    775\u001b[0m \u001b[39m    \"\"\"\u001b[39;00m\n\u001b[0;32m--> 776\u001b[0m     \u001b[39mreturn\u001b[39;00m \u001b[39mself\u001b[39;49m\u001b[39m.\u001b[39;49mcallable(\u001b[39mself\u001b[39;49m, \u001b[39m*\u001b[39;49margs, \u001b[39m*\u001b[39;49m\u001b[39m*\u001b[39;49mkwargs)\n",
      "File \u001b[0;32m~/miniconda3/envs/db_prep/lib/python3.11/site-packages/pinecone/core/client/api/vector_operations_api.py:956\u001b[0m, in \u001b[0;36mVectorOperationsApi.__init__.<locals>.__upsert\u001b[0;34m(self, upsert_request, **kwargs)\u001b[0m\n\u001b[1;32m    953\u001b[0m kwargs[\u001b[39m'\u001b[39m\u001b[39m_host_index\u001b[39m\u001b[39m'\u001b[39m] \u001b[39m=\u001b[39m kwargs\u001b[39m.\u001b[39mget(\u001b[39m'\u001b[39m\u001b[39m_host_index\u001b[39m\u001b[39m'\u001b[39m)\n\u001b[1;32m    954\u001b[0m kwargs[\u001b[39m'\u001b[39m\u001b[39mupsert_request\u001b[39m\u001b[39m'\u001b[39m] \u001b[39m=\u001b[39m \\\n\u001b[1;32m    955\u001b[0m     upsert_request\n\u001b[0;32m--> 956\u001b[0m \u001b[39mreturn\u001b[39;00m \u001b[39mself\u001b[39;49m\u001b[39m.\u001b[39;49mcall_with_http_info(\u001b[39m*\u001b[39;49m\u001b[39m*\u001b[39;49mkwargs)\n",
      "File \u001b[0;32m~/miniconda3/envs/db_prep/lib/python3.11/site-packages/pinecone/core/client/api_client.py:838\u001b[0m, in \u001b[0;36mEndpoint.call_with_http_info\u001b[0;34m(self, **kwargs)\u001b[0m\n\u001b[1;32m    834\u001b[0m     header_list \u001b[39m=\u001b[39m \u001b[39mself\u001b[39m\u001b[39m.\u001b[39mapi_client\u001b[39m.\u001b[39mselect_header_content_type(\n\u001b[1;32m    835\u001b[0m         content_type_headers_list)\n\u001b[1;32m    836\u001b[0m     params[\u001b[39m'\u001b[39m\u001b[39mheader\u001b[39m\u001b[39m'\u001b[39m][\u001b[39m'\u001b[39m\u001b[39mContent-Type\u001b[39m\u001b[39m'\u001b[39m] \u001b[39m=\u001b[39m header_list\n\u001b[0;32m--> 838\u001b[0m \u001b[39mreturn\u001b[39;00m \u001b[39mself\u001b[39;49m\u001b[39m.\u001b[39;49mapi_client\u001b[39m.\u001b[39;49mcall_api(\n\u001b[1;32m    839\u001b[0m     \u001b[39mself\u001b[39;49m\u001b[39m.\u001b[39;49msettings[\u001b[39m'\u001b[39;49m\u001b[39mendpoint_path\u001b[39;49m\u001b[39m'\u001b[39;49m], \u001b[39mself\u001b[39;49m\u001b[39m.\u001b[39;49msettings[\u001b[39m'\u001b[39;49m\u001b[39mhttp_method\u001b[39;49m\u001b[39m'\u001b[39;49m],\n\u001b[1;32m    840\u001b[0m     params[\u001b[39m'\u001b[39;49m\u001b[39mpath\u001b[39;49m\u001b[39m'\u001b[39;49m],\n\u001b[1;32m    841\u001b[0m     params[\u001b[39m'\u001b[39;49m\u001b[39mquery\u001b[39;49m\u001b[39m'\u001b[39;49m],\n\u001b[1;32m    842\u001b[0m     params[\u001b[39m'\u001b[39;49m\u001b[39mheader\u001b[39;49m\u001b[39m'\u001b[39;49m],\n\u001b[1;32m    843\u001b[0m     body\u001b[39m=\u001b[39;49mparams[\u001b[39m'\u001b[39;49m\u001b[39mbody\u001b[39;49m\u001b[39m'\u001b[39;49m],\n\u001b[1;32m    844\u001b[0m     post_params\u001b[39m=\u001b[39;49mparams[\u001b[39m'\u001b[39;49m\u001b[39mform\u001b[39;49m\u001b[39m'\u001b[39;49m],\n\u001b[1;32m    845\u001b[0m     files\u001b[39m=\u001b[39;49mparams[\u001b[39m'\u001b[39;49m\u001b[39mfile\u001b[39;49m\u001b[39m'\u001b[39;49m],\n\u001b[1;32m    846\u001b[0m     response_type\u001b[39m=\u001b[39;49m\u001b[39mself\u001b[39;49m\u001b[39m.\u001b[39;49msettings[\u001b[39m'\u001b[39;49m\u001b[39mresponse_type\u001b[39;49m\u001b[39m'\u001b[39;49m],\n\u001b[1;32m    847\u001b[0m     auth_settings\u001b[39m=\u001b[39;49m\u001b[39mself\u001b[39;49m\u001b[39m.\u001b[39;49msettings[\u001b[39m'\u001b[39;49m\u001b[39mauth\u001b[39;49m\u001b[39m'\u001b[39;49m],\n\u001b[1;32m    848\u001b[0m     async_req\u001b[39m=\u001b[39;49mkwargs[\u001b[39m'\u001b[39;49m\u001b[39masync_req\u001b[39;49m\u001b[39m'\u001b[39;49m],\n\u001b[1;32m    849\u001b[0m     _check_type\u001b[39m=\u001b[39;49mkwargs[\u001b[39m'\u001b[39;49m\u001b[39m_check_return_type\u001b[39;49m\u001b[39m'\u001b[39;49m],\n\u001b[1;32m    850\u001b[0m     _return_http_data_only\u001b[39m=\u001b[39;49mkwargs[\u001b[39m'\u001b[39;49m\u001b[39m_return_http_data_only\u001b[39;49m\u001b[39m'\u001b[39;49m],\n\u001b[1;32m    851\u001b[0m     _preload_content\u001b[39m=\u001b[39;49mkwargs[\u001b[39m'\u001b[39;49m\u001b[39m_preload_content\u001b[39;49m\u001b[39m'\u001b[39;49m],\n\u001b[1;32m    852\u001b[0m     _request_timeout\u001b[39m=\u001b[39;49mkwargs[\u001b[39m'\u001b[39;49m\u001b[39m_request_timeout\u001b[39;49m\u001b[39m'\u001b[39;49m],\n\u001b[1;32m    853\u001b[0m     _host\u001b[39m=\u001b[39;49m_host,\n\u001b[1;32m    854\u001b[0m     collection_formats\u001b[39m=\u001b[39;49mparams[\u001b[39m'\u001b[39;49m\u001b[39mcollection_format\u001b[39;49m\u001b[39m'\u001b[39;49m])\n",
      "File \u001b[0;32m~/miniconda3/envs/db_prep/lib/python3.11/site-packages/pinecone/core/client/api_client.py:413\u001b[0m, in \u001b[0;36mApiClient.call_api\u001b[0;34m(self, resource_path, method, path_params, query_params, header_params, body, post_params, files, response_type, auth_settings, async_req, _return_http_data_only, collection_formats, _preload_content, _request_timeout, _host, _check_type)\u001b[0m\n\u001b[1;32m    359\u001b[0m \u001b[39m\u001b[39m\u001b[39m\"\"\"Makes the HTTP request (synchronous) and returns deserialized data.\u001b[39;00m\n\u001b[1;32m    360\u001b[0m \n\u001b[1;32m    361\u001b[0m \u001b[39mTo make an async_req request, set the async_req parameter.\u001b[39;00m\n\u001b[0;32m   (...)\u001b[0m\n\u001b[1;32m    410\u001b[0m \u001b[39m    then the method will return the response directly.\u001b[39;00m\n\u001b[1;32m    411\u001b[0m \u001b[39m\"\"\"\u001b[39;00m\n\u001b[1;32m    412\u001b[0m \u001b[39mif\u001b[39;00m \u001b[39mnot\u001b[39;00m async_req:\n\u001b[0;32m--> 413\u001b[0m     \u001b[39mreturn\u001b[39;00m \u001b[39mself\u001b[39;49m\u001b[39m.\u001b[39;49m__call_api(resource_path, method,\n\u001b[1;32m    414\u001b[0m                            path_params, query_params, header_params,\n\u001b[1;32m    415\u001b[0m                            body, post_params, files,\n\u001b[1;32m    416\u001b[0m                            response_type, auth_settings,\n\u001b[1;32m    417\u001b[0m                            _return_http_data_only, collection_formats,\n\u001b[1;32m    418\u001b[0m                            _preload_content, _request_timeout, _host,\n\u001b[1;32m    419\u001b[0m                            _check_type)\n\u001b[1;32m    421\u001b[0m \u001b[39mreturn\u001b[39;00m \u001b[39mself\u001b[39m\u001b[39m.\u001b[39mpool\u001b[39m.\u001b[39mapply_async(\u001b[39mself\u001b[39m\u001b[39m.\u001b[39m__call_api, (resource_path,\n\u001b[1;32m    422\u001b[0m                                                method, path_params,\n\u001b[1;32m    423\u001b[0m                                                query_params,\n\u001b[0;32m   (...)\u001b[0m\n\u001b[1;32m    431\u001b[0m                                                _request_timeout,\n\u001b[1;32m    432\u001b[0m                                                _host, _check_type))\n",
      "File \u001b[0;32m~/miniconda3/envs/db_prep/lib/python3.11/site-packages/pinecone/core/client/api_client.py:185\u001b[0m, in \u001b[0;36mApiClient.__call_api\u001b[0;34m(self, resource_path, method, path_params, query_params, header_params, body, post_params, files, response_type, auth_settings, _return_http_data_only, collection_formats, _preload_content, _request_timeout, _host, _check_type)\u001b[0m\n\u001b[1;32m    183\u001b[0m \u001b[39m# body\u001b[39;00m\n\u001b[1;32m    184\u001b[0m \u001b[39mif\u001b[39;00m body:\n\u001b[0;32m--> 185\u001b[0m     body \u001b[39m=\u001b[39m \u001b[39mself\u001b[39;49m\u001b[39m.\u001b[39;49msanitize_for_serialization(body)\n\u001b[1;32m    187\u001b[0m \u001b[39m# auth setting\u001b[39;00m\n\u001b[1;32m    188\u001b[0m \u001b[39mself\u001b[39m\u001b[39m.\u001b[39mupdate_params_for_auth(header_params, query_params,\n\u001b[1;32m    189\u001b[0m                             auth_settings, resource_path, method, body)\n",
      "File \u001b[0;32m~/miniconda3/envs/db_prep/lib/python3.11/site-packages/pinecone/core/client/api_client.py:277\u001b[0m, in \u001b[0;36mApiClient.sanitize_for_serialization\u001b[0;34m(cls, obj)\u001b[0m\n\u001b[1;32m    264\u001b[0m \u001b[39m\u001b[39m\u001b[39m\"\"\"Prepares data for transmission before it is sent with the rest client\u001b[39;00m\n\u001b[1;32m    265\u001b[0m \u001b[39mIf obj is None, return None.\u001b[39;00m\n\u001b[1;32m    266\u001b[0m \u001b[39mIf obj is str, int, long, float, bool, return directly.\u001b[39;00m\n\u001b[0;32m   (...)\u001b[0m\n\u001b[1;32m    274\u001b[0m \u001b[39m:return: The serialized form of data.\u001b[39;00m\n\u001b[1;32m    275\u001b[0m \u001b[39m\"\"\"\u001b[39;00m\n\u001b[1;32m    276\u001b[0m \u001b[39mif\u001b[39;00m \u001b[39misinstance\u001b[39m(obj, (ModelNormal, ModelComposed)):\n\u001b[0;32m--> 277\u001b[0m     \u001b[39mreturn\u001b[39;00m {\n\u001b[1;32m    278\u001b[0m         key: \u001b[39mcls\u001b[39;49m\u001b[39m.\u001b[39;49msanitize_for_serialization(val) \u001b[39mfor\u001b[39;49;00m key, val \u001b[39min\u001b[39;49;00m model_to_dict(obj, serialize\u001b[39m=\u001b[39;49m\u001b[39mTrue\u001b[39;49;00m)\u001b[39m.\u001b[39;49mitems()\n\u001b[1;32m    279\u001b[0m     }\n\u001b[1;32m    280\u001b[0m \u001b[39melif\u001b[39;00m \u001b[39misinstance\u001b[39m(obj, io\u001b[39m.\u001b[39mIOBase):\n\u001b[1;32m    281\u001b[0m     \u001b[39mreturn\u001b[39;00m \u001b[39mcls\u001b[39m\u001b[39m.\u001b[39mget_file_data_and_close_file(obj)\n",
      "File \u001b[0;32m~/miniconda3/envs/db_prep/lib/python3.11/site-packages/pinecone/core/client/api_client.py:278\u001b[0m, in \u001b[0;36m<dictcomp>\u001b[0;34m(.0)\u001b[0m\n\u001b[1;32m    264\u001b[0m \u001b[39m\u001b[39m\u001b[39m\"\"\"Prepares data for transmission before it is sent with the rest client\u001b[39;00m\n\u001b[1;32m    265\u001b[0m \u001b[39mIf obj is None, return None.\u001b[39;00m\n\u001b[1;32m    266\u001b[0m \u001b[39mIf obj is str, int, long, float, bool, return directly.\u001b[39;00m\n\u001b[0;32m   (...)\u001b[0m\n\u001b[1;32m    274\u001b[0m \u001b[39m:return: The serialized form of data.\u001b[39;00m\n\u001b[1;32m    275\u001b[0m \u001b[39m\"\"\"\u001b[39;00m\n\u001b[1;32m    276\u001b[0m \u001b[39mif\u001b[39;00m \u001b[39misinstance\u001b[39m(obj, (ModelNormal, ModelComposed)):\n\u001b[1;32m    277\u001b[0m     \u001b[39mreturn\u001b[39;00m {\n\u001b[0;32m--> 278\u001b[0m         key: \u001b[39mcls\u001b[39;49m\u001b[39m.\u001b[39;49msanitize_for_serialization(val) \u001b[39mfor\u001b[39;00m key, val \u001b[39min\u001b[39;00m model_to_dict(obj, serialize\u001b[39m=\u001b[39m\u001b[39mTrue\u001b[39;00m)\u001b[39m.\u001b[39mitems()\n\u001b[1;32m    279\u001b[0m     }\n\u001b[1;32m    280\u001b[0m \u001b[39melif\u001b[39;00m \u001b[39misinstance\u001b[39m(obj, io\u001b[39m.\u001b[39mIOBase):\n\u001b[1;32m    281\u001b[0m     \u001b[39mreturn\u001b[39;00m \u001b[39mcls\u001b[39m\u001b[39m.\u001b[39mget_file_data_and_close_file(obj)\n",
      "File \u001b[0;32m~/miniconda3/envs/db_prep/lib/python3.11/site-packages/pinecone/core/client/api_client.py:289\u001b[0m, in \u001b[0;36mApiClient.sanitize_for_serialization\u001b[0;34m(cls, obj)\u001b[0m\n\u001b[1;32m    287\u001b[0m     \u001b[39mreturn\u001b[39;00m \u001b[39mcls\u001b[39m\u001b[39m.\u001b[39msanitize_for_serialization(obj\u001b[39m.\u001b[39mvalue)\n\u001b[1;32m    288\u001b[0m \u001b[39melif\u001b[39;00m \u001b[39misinstance\u001b[39m(obj, (\u001b[39mlist\u001b[39m, \u001b[39mtuple\u001b[39m)):\n\u001b[0;32m--> 289\u001b[0m     \u001b[39mreturn\u001b[39;00m [\u001b[39mcls\u001b[39;49m\u001b[39m.\u001b[39;49msanitize_for_serialization(item) \u001b[39mfor\u001b[39;49;00m item \u001b[39min\u001b[39;49;00m obj]\n\u001b[1;32m    290\u001b[0m \u001b[39mif\u001b[39;00m \u001b[39misinstance\u001b[39m(obj, \u001b[39mdict\u001b[39m):\n\u001b[1;32m    291\u001b[0m     \u001b[39mreturn\u001b[39;00m {key: \u001b[39mcls\u001b[39m\u001b[39m.\u001b[39msanitize_for_serialization(val) \u001b[39mfor\u001b[39;00m key, val \u001b[39min\u001b[39;00m obj\u001b[39m.\u001b[39mitems()}\n",
      "File \u001b[0;32m~/miniconda3/envs/db_prep/lib/python3.11/site-packages/pinecone/core/client/api_client.py:289\u001b[0m, in \u001b[0;36m<listcomp>\u001b[0;34m(.0)\u001b[0m\n\u001b[1;32m    287\u001b[0m     \u001b[39mreturn\u001b[39;00m \u001b[39mcls\u001b[39m\u001b[39m.\u001b[39msanitize_for_serialization(obj\u001b[39m.\u001b[39mvalue)\n\u001b[1;32m    288\u001b[0m \u001b[39melif\u001b[39;00m \u001b[39misinstance\u001b[39m(obj, (\u001b[39mlist\u001b[39m, \u001b[39mtuple\u001b[39m)):\n\u001b[0;32m--> 289\u001b[0m     \u001b[39mreturn\u001b[39;00m [\u001b[39mcls\u001b[39;49m\u001b[39m.\u001b[39;49msanitize_for_serialization(item) \u001b[39mfor\u001b[39;00m item \u001b[39min\u001b[39;00m obj]\n\u001b[1;32m    290\u001b[0m \u001b[39mif\u001b[39;00m \u001b[39misinstance\u001b[39m(obj, \u001b[39mdict\u001b[39m):\n\u001b[1;32m    291\u001b[0m     \u001b[39mreturn\u001b[39;00m {key: \u001b[39mcls\u001b[39m\u001b[39m.\u001b[39msanitize_for_serialization(val) \u001b[39mfor\u001b[39;00m key, val \u001b[39min\u001b[39;00m obj\u001b[39m.\u001b[39mitems()}\n",
      "File \u001b[0;32m~/miniconda3/envs/db_prep/lib/python3.11/site-packages/pinecone/core/client/api_client.py:291\u001b[0m, in \u001b[0;36mApiClient.sanitize_for_serialization\u001b[0;34m(cls, obj)\u001b[0m\n\u001b[1;32m    289\u001b[0m     \u001b[39mreturn\u001b[39;00m [\u001b[39mcls\u001b[39m\u001b[39m.\u001b[39msanitize_for_serialization(item) \u001b[39mfor\u001b[39;00m item \u001b[39min\u001b[39;00m obj]\n\u001b[1;32m    290\u001b[0m \u001b[39mif\u001b[39;00m \u001b[39misinstance\u001b[39m(obj, \u001b[39mdict\u001b[39m):\n\u001b[0;32m--> 291\u001b[0m     \u001b[39mreturn\u001b[39;00m {key: \u001b[39mcls\u001b[39;49m\u001b[39m.\u001b[39;49msanitize_for_serialization(val) \u001b[39mfor\u001b[39;49;00m key, val \u001b[39min\u001b[39;49;00m obj\u001b[39m.\u001b[39;49mitems()}\n\u001b[1;32m    292\u001b[0m \u001b[39mraise\u001b[39;00m ApiValueError(\u001b[39m'\u001b[39m\u001b[39mUnable to prepare type \u001b[39m\u001b[39m{}\u001b[39;00m\u001b[39m for serialization\u001b[39m\u001b[39m'\u001b[39m\u001b[39m.\u001b[39mformat(obj\u001b[39m.\u001b[39m\u001b[39m__class__\u001b[39m\u001b[39m.\u001b[39m\u001b[39m__name__\u001b[39m))\n",
      "File \u001b[0;32m~/miniconda3/envs/db_prep/lib/python3.11/site-packages/pinecone/core/client/api_client.py:291\u001b[0m, in \u001b[0;36m<dictcomp>\u001b[0;34m(.0)\u001b[0m\n\u001b[1;32m    289\u001b[0m     \u001b[39mreturn\u001b[39;00m [\u001b[39mcls\u001b[39m\u001b[39m.\u001b[39msanitize_for_serialization(item) \u001b[39mfor\u001b[39;00m item \u001b[39min\u001b[39;00m obj]\n\u001b[1;32m    290\u001b[0m \u001b[39mif\u001b[39;00m \u001b[39misinstance\u001b[39m(obj, \u001b[39mdict\u001b[39m):\n\u001b[0;32m--> 291\u001b[0m     \u001b[39mreturn\u001b[39;00m {key: \u001b[39mcls\u001b[39;49m\u001b[39m.\u001b[39;49msanitize_for_serialization(val) \u001b[39mfor\u001b[39;00m key, val \u001b[39min\u001b[39;00m obj\u001b[39m.\u001b[39mitems()}\n\u001b[1;32m    292\u001b[0m \u001b[39mraise\u001b[39;00m ApiValueError(\u001b[39m'\u001b[39m\u001b[39mUnable to prepare type \u001b[39m\u001b[39m{}\u001b[39;00m\u001b[39m for serialization\u001b[39m\u001b[39m'\u001b[39m\u001b[39m.\u001b[39mformat(obj\u001b[39m.\u001b[39m\u001b[39m__class__\u001b[39m\u001b[39m.\u001b[39m\u001b[39m__name__\u001b[39m))\n",
      "File \u001b[0;32m~/miniconda3/envs/db_prep/lib/python3.11/site-packages/pinecone/core/client/api_client.py:289\u001b[0m, in \u001b[0;36mApiClient.sanitize_for_serialization\u001b[0;34m(cls, obj)\u001b[0m\n\u001b[1;32m    287\u001b[0m     \u001b[39mreturn\u001b[39;00m \u001b[39mcls\u001b[39m\u001b[39m.\u001b[39msanitize_for_serialization(obj\u001b[39m.\u001b[39mvalue)\n\u001b[1;32m    288\u001b[0m \u001b[39melif\u001b[39;00m \u001b[39misinstance\u001b[39m(obj, (\u001b[39mlist\u001b[39m, \u001b[39mtuple\u001b[39m)):\n\u001b[0;32m--> 289\u001b[0m     \u001b[39mreturn\u001b[39;00m [\u001b[39mcls\u001b[39;49m\u001b[39m.\u001b[39;49msanitize_for_serialization(item) \u001b[39mfor\u001b[39;49;00m item \u001b[39min\u001b[39;49;00m obj]\n\u001b[1;32m    290\u001b[0m \u001b[39mif\u001b[39;00m \u001b[39misinstance\u001b[39m(obj, \u001b[39mdict\u001b[39m):\n\u001b[1;32m    291\u001b[0m     \u001b[39mreturn\u001b[39;00m {key: \u001b[39mcls\u001b[39m\u001b[39m.\u001b[39msanitize_for_serialization(val) \u001b[39mfor\u001b[39;00m key, val \u001b[39min\u001b[39;00m obj\u001b[39m.\u001b[39mitems()}\n",
      "File \u001b[0;32m~/miniconda3/envs/db_prep/lib/python3.11/site-packages/pinecone/core/client/api_client.py:289\u001b[0m, in \u001b[0;36m<listcomp>\u001b[0;34m(.0)\u001b[0m\n\u001b[1;32m    287\u001b[0m     \u001b[39mreturn\u001b[39;00m \u001b[39mcls\u001b[39m\u001b[39m.\u001b[39msanitize_for_serialization(obj\u001b[39m.\u001b[39mvalue)\n\u001b[1;32m    288\u001b[0m \u001b[39melif\u001b[39;00m \u001b[39misinstance\u001b[39m(obj, (\u001b[39mlist\u001b[39m, \u001b[39mtuple\u001b[39m)):\n\u001b[0;32m--> 289\u001b[0m     \u001b[39mreturn\u001b[39;00m [\u001b[39mcls\u001b[39;49m\u001b[39m.\u001b[39;49msanitize_for_serialization(item) \u001b[39mfor\u001b[39;00m item \u001b[39min\u001b[39;00m obj]\n\u001b[1;32m    290\u001b[0m \u001b[39mif\u001b[39;00m \u001b[39misinstance\u001b[39m(obj, \u001b[39mdict\u001b[39m):\n\u001b[1;32m    291\u001b[0m     \u001b[39mreturn\u001b[39;00m {key: \u001b[39mcls\u001b[39m\u001b[39m.\u001b[39msanitize_for_serialization(val) \u001b[39mfor\u001b[39;00m key, val \u001b[39min\u001b[39;00m obj\u001b[39m.\u001b[39mitems()}\n",
      "File \u001b[0;32m~/miniconda3/envs/db_prep/lib/python3.11/site-packages/pinecone/core/client/api_client.py:280\u001b[0m, in \u001b[0;36mApiClient.sanitize_for_serialization\u001b[0;34m(cls, obj)\u001b[0m\n\u001b[1;32m    276\u001b[0m \u001b[39mif\u001b[39;00m \u001b[39misinstance\u001b[39m(obj, (ModelNormal, ModelComposed)):\n\u001b[1;32m    277\u001b[0m     \u001b[39mreturn\u001b[39;00m {\n\u001b[1;32m    278\u001b[0m         key: \u001b[39mcls\u001b[39m\u001b[39m.\u001b[39msanitize_for_serialization(val) \u001b[39mfor\u001b[39;00m key, val \u001b[39min\u001b[39;00m model_to_dict(obj, serialize\u001b[39m=\u001b[39m\u001b[39mTrue\u001b[39;00m)\u001b[39m.\u001b[39mitems()\n\u001b[1;32m    279\u001b[0m     }\n\u001b[0;32m--> 280\u001b[0m \u001b[39melif\u001b[39;00m \u001b[39misinstance\u001b[39m(obj, io\u001b[39m.\u001b[39mIOBase):\n\u001b[1;32m    281\u001b[0m     \u001b[39mreturn\u001b[39;00m \u001b[39mcls\u001b[39m\u001b[39m.\u001b[39mget_file_data_and_close_file(obj)\n\u001b[1;32m    282\u001b[0m \u001b[39melif\u001b[39;00m \u001b[39misinstance\u001b[39m(obj, (\u001b[39mstr\u001b[39m, \u001b[39mint\u001b[39m, \u001b[39mfloat\u001b[39m, none_type, \u001b[39mbool\u001b[39m)):\n",
      "File \u001b[0;32m<frozen abc>:117\u001b[0m, in \u001b[0;36m__instancecheck__\u001b[0;34m(cls, instance)\u001b[0m\n",
      "\u001b[0;31mKeyboardInterrupt\u001b[0m: "
     ]
    }
   ],
   "source": [
    "index_name = 'tg-news'\n",
    "index = pinecone.Index(index_name)\n",
    "batch_size = 10  # process everything in batches of 32\n",
    "\n",
    "for i in tqdm_notebook(range(0, df4pine.shape[0], batch_size)):\n",
    "    # set end position of batch\n",
    "    i_end = min(i+batch_size, df4pine.shape[0])\n",
    "    # get batch of IDs, embeds and metadata\n",
    "    ids_batch = df4pine['id'][i: i+batch_size]\n",
    "    embeds_batch = df4pine['embeddings'][i: i+batch_size]\n",
    "    # prep metadata: 'channel', 'date', 'message', 'views', 'cleaned_message', 'summary'\n",
    "    meta_cols = ['channel', 'stance', 'date', 'message', 'views', 'cleaned_message', 'summary']\n",
    "    meta_batch = df4pine[meta_cols][i: i+batch_size].to_dict(orient='records')\n",
    "    \n",
    "    # upsert to Pinecone \n",
    "    # !!! meta skipped due to errors\n",
    "    to_upsert = zip(ids_batch, embeds_batch, meta_batch)\n",
    "    index.upsert(vectors=list(to_upsert))"
   ]
  },
  {
   "cell_type": "code",
   "execution_count": 46,
   "metadata": {},
   "outputs": [
    {
     "data": {
      "text/plain": [
       "{'dimension': 1536,\n",
       " 'index_fullness': 0.17342,\n",
       " 'namespaces': {'': {'vector_count': 17342}},\n",
       " 'total_vector_count': 17342}"
      ]
     },
     "execution_count": 46,
     "metadata": {},
     "output_type": "execute_result"
    }
   ],
   "source": [
    "pinecone.init(api_key=pine_key, environment=pine_env)\n",
    "index_name = 'tg-news'\n",
    "\n",
    "index = pinecone.Index(index_name)\n",
    "\n",
    "index.describe_index_stats()"
   ]
  },
  {
   "cell_type": "code",
   "execution_count": 47,
   "metadata": {},
   "outputs": [
    {
     "data": {
      "text/plain": [
       "IndexDescription(name='tg-news', metric='cosine', replicas=1, dimension=1536.0, shards=1, pods=1, pod_type='starter', status={'ready': True, 'state': 'Ready'}, metadata_config=None, source_collection='')"
      ]
     },
     "execution_count": 47,
     "metadata": {},
     "output_type": "execute_result"
    }
   ],
   "source": [
    "pinecone.describe_index(index_name)"
   ]
  },
  {
   "cell_type": "markdown",
   "metadata": {},
   "source": [
    "### ask_media test"
   ]
  },
  {
   "cell_type": "code",
   "execution_count": 49,
   "metadata": {},
   "outputs": [],
   "source": [
    "question = \"Что происходит на украинском фронте?\"\n",
    "# get embeddings for question\n",
    "question_emb = get_embeddings(question)"
   ]
  },
  {
   "cell_type": "code",
   "execution_count": 50,
   "metadata": {},
   "outputs": [],
   "source": [
    "res = index.query(question_emb, top_k=10, include_metadata=True, filter=None)"
   ]
  },
  {
   "cell_type": "code",
   "execution_count": 51,
   "metadata": {},
   "outputs": [
    {
     "data": {
      "text/plain": [
       "{'matches': [{'id': 'tsargradtv_59556',\n",
       "              'metadata': {},\n",
       "              'score': 0.89841187,\n",
       "              'values': []},\n",
       "             {'id': 'voenacher_54247',\n",
       "              'metadata': {},\n",
       "              'score': 0.896420717,\n",
       "              'values': []},\n",
       "             {'id': 'tsargradtv_59454',\n",
       "              'metadata': {},\n",
       "              'score': 0.89340055,\n",
       "              'values': []},\n",
       "             {'id': 'tsargradtv_59340',\n",
       "              'metadata': {},\n",
       "              'score': 0.89340055,\n",
       "              'values': []},\n",
       "             {'id': 'tsargradtv_59228',\n",
       "              'metadata': {},\n",
       "              'score': 0.89340055,\n",
       "              'values': []},\n",
       "             {'id': 'tsargradtv_59139',\n",
       "              'metadata': {},\n",
       "              'score': 0.89340055,\n",
       "              'values': []},\n",
       "             {'id': 'bbcrussian_53612',\n",
       "              'metadata': {'channel': 'bbcrussian',\n",
       "                           'cleaned_message': 'На фронтах без существенных '\n",
       "                                              'перемен. Сводка украинского '\n",
       "                                              'генштаба\\n'\n",
       "                                              '\\n'\n",
       "                                              'Судя по сводке украинского '\n",
       "                                              'генштаба на вечер 9 октября, '\n",
       "                                              '593-го дня войны, существенных '\n",
       "                                              'изменений на фронтах в '\n",
       "                                              'последние сутки не произошло. \\n'\n",
       "                                              '\\n'\n",
       "                                              'Генштаб пишет, что украинские '\n",
       "                                              'части отбивали атаки противника '\n",
       "                                              'на шести участках фронта и '\n",
       "                                              'сами, как говорится в сводке, '\n",
       "                                              '«продолжали наступательные '\n",
       "                                              'действия».\\n'\n",
       "                                              '\\n'\n",
       "                                              'Украинский генштаб сообщает, '\n",
       "                                              'что в последние сутки '\n",
       "                                              'украинские части отбили атаки '\n",
       "                                              'россиян на Купянском, Лиманском '\n",
       "                                              'направлениях и в районе '\n",
       "                                              'Марьинки на восточном фронте и '\n",
       "                                              'две атаки — в районе '\n",
       "                                              'Старомайорского и Левадного — '\n",
       "                                              'на южном фронте. При этом почти '\n",
       "                                              'половина всех российских атак — '\n",
       "                                              '15 — пришлась на район '\n",
       "                                              'Марьинки.\\n'\n",
       "                                              '\\n'\n",
       "                                              'Действия своих войск генштаб '\n",
       "                                              'вновь описывает кочующей из '\n",
       "                                              'сводки в сводку фразой о том, '\n",
       "                                              'что они «продолжают '\n",
       "                                              'наступательные и штурмовые '\n",
       "                                              'действия» на юге и под '\n",
       "                                              'Бахмутом.\\n'\n",
       "                                              '\\n'\n",
       "                                              '@bbcrussian',\n",
       "                           'date': datetime.datetime(2023, 10, 9, 16, 19, 12, tzinfo=tzutc()),\n",
       "                           'message': 'На фронтах без существенных перемен. '\n",
       "                                      'Сводка украинского генштаба\\n'\n",
       "                                      '\\n'\n",
       "                                      'Судя по сводке украинского генштаба на '\n",
       "                                      'вечер 9 октября, 593-го дня войны, '\n",
       "                                      'существенных изменений на фронтах в '\n",
       "                                      'последние сутки не произошло. \\n'\n",
       "                                      '\\n'\n",
       "                                      'Генштаб пишет, что украинские части '\n",
       "                                      'отбивали атаки противника на шести '\n",
       "                                      'участках фронта и сами, как говорится в '\n",
       "                                      'сводке, «продолжали наступательные '\n",
       "                                      'действия».\\n'\n",
       "                                      '\\n'\n",
       "                                      'Украинский генштаб сообщает, что в '\n",
       "                                      'последние сутки украинские части отбили '\n",
       "                                      'атаки россиян на Купянском, Лиманском '\n",
       "                                      'направлениях и в районе Марьинки на '\n",
       "                                      'восточном фронте и две атаки — в районе '\n",
       "                                      'Старомайорского и Левадного — на южном '\n",
       "                                      'фронте. При этом почти половина всех '\n",
       "                                      'российских атак — 15 — пришлась на '\n",
       "                                      'район Марьинки.\\n'\n",
       "                                      '\\n'\n",
       "                                      'Действия своих войск генштаб вновь '\n",
       "                                      'описывает кочующей из сводки в сводку '\n",
       "                                      'фразой о том, что они «продолжают '\n",
       "                                      'наступательные и штурмовые действия» на '\n",
       "                                      'юге и под Бахмутом.\\n'\n",
       "                                      '\\n'\n",
       "                                      '@bbcrussian',\n",
       "                           'stance': 'altern',\n",
       "                           'summary': 'Генштаб пишет, что украинские части '\n",
       "                                      'отбивали атаки противника на шести '\n",
       "                                      'участках фронта и сами, как говорится в '\n",
       "                                      'сводке, «продолжали наступательные '\n",
       "                                      'действия». При этом почти половина всех '\n",
       "                                      'российских атак — 15 — пришлась на '\n",
       "                                      'район Марьинки. Действия своих войск '\n",
       "                                      'генштаб вновь описывает кочующей из '\n",
       "                                      'сводки в сводку фразой о том, что они '\n",
       "                                      '«продолжают наступательные и штурмовые '\n",
       "                                      'действия» на юге и под Бахмутом.',\n",
       "                           'views': 76659.0},\n",
       "              'score': 0.892470241,\n",
       "              'values': []},\n",
       "             {'id': 'ntvnews_122127',\n",
       "              'metadata': {},\n",
       "              'score': 0.888302326,\n",
       "              'values': []},\n",
       "             {'id': 'ntvnews_122264',\n",
       "              'metadata': {},\n",
       "              'score': 0.886650681,\n",
       "              'values': []},\n",
       "             {'id': 'bbcrussian_54097',\n",
       "              'metadata': {'channel': 'bbcrussian',\n",
       "                           'cleaned_message': 'Российская армия продолжает '\n",
       "                                              'наседать на восточном фронте. '\n",
       "                                              'Сводка украинского генштаба\\n'\n",
       "                                              '\\n'\n",
       "                                              'Судя по сводке украинского '\n",
       "                                              'генштаба на вечер 13 октября, '\n",
       "                                              'российская армия продолжает '\n",
       "                                              'интенсивно атаковать на '\n",
       "                                              'нескольких участках восточного '\n",
       "                                              'фронта, но каких-либо успехов, '\n",
       "                                              'как утверждает генштаб, '\n",
       "                                              'добиться пока не смогла.\\n'\n",
       "                                              '\\n'\n",
       "                                              'Согласно сводке, за последние '\n",
       "                                              'сутки по периметру Авдеевки и '\n",
       "                                              'близ нее украинские военные '\n",
       "                                              'отбили минимум 25 атак '\n",
       "                                              'противника, в районе Купянска '\n",
       "                                              'на самом северном отрезке '\n",
       "                                              'фронта — 12 атак, в Марьинке и '\n",
       "                                              'вокруг нее — около 10 атак.\\n'\n",
       "                                              '\\n'\n",
       "                                              'Российская армия усиленно '\n",
       "                                              'атакует в районе Авдеевки под '\n",
       "                                              'Донецком уже три дня. Сведений '\n",
       "                                              'о каких-либо заметных успехах '\n",
       "                                              'российских частей под Авдеевкой '\n",
       "                                              '— как и на других участках '\n",
       "                                              'фронта — нет и у z-блогеров.\\n'\n",
       "                                              '\\n'\n",
       "                                              'Кроме того, как утверждает '\n",
       "                                              'украинский генштаб, россияне '\n",
       "                                              'безуспешно пытались '\n",
       "                                              'контратаковать в двух местах на '\n",
       "                                              'южном фронте — там, где ранее '\n",
       "                                              'удалось продвинуться украинской '\n",
       "                                              'армии, в районах Новомайорского '\n",
       "                                              'и Работина.\\n'\n",
       "                                              '\\n'\n",
       "                                              'В условиях войны Би-би-си не '\n",
       "                                              'может оперативно проверять '\n",
       "                                              'утверждения воюющих сторон.',\n",
       "                           'date': datetime.datetime(2023, 10, 13, 18, 7, 43, tzinfo=tzutc()),\n",
       "                           'message': 'Российская армия продолжает наседать на '\n",
       "                                      'восточном фронте. Сводка украинского '\n",
       "                                      'генштаба\\n'\n",
       "                                      '\\n'\n",
       "                                      'Судя по сводке украинского генштаба на '\n",
       "                                      'вечер 13 октября, российская армия '\n",
       "                                      'продолжает интенсивно атаковать на '\n",
       "                                      'нескольких участках восточного фронта, '\n",
       "                                      'но каких-либо успехов, как утверждает '\n",
       "                                      'генштаб, добиться пока не смогла.\\n'\n",
       "                                      '\\n'\n",
       "                                      'Согласно сводке, за последние сутки по '\n",
       "                                      'периметру Авдеевки и близ нее '\n",
       "                                      'украинские военные отбили минимум 25 '\n",
       "                                      'атак противника, в районе Купянска на '\n",
       "                                      'самом северном отрезке фронта — 12 '\n",
       "                                      'атак, в Марьинке и вокруг нее — около '\n",
       "                                      '10 атак.\\n'\n",
       "                                      '\\n'\n",
       "                                      'Российская армия усиленно атакует в '\n",
       "                                      'районе Авдеевки под Донецком уже три '\n",
       "                                      'дня. Сведений о каких-либо заметных '\n",
       "                                      'успехах российских частей под Авдеевкой '\n",
       "                                      '— как и на других участках фронта — нет '\n",
       "                                      'и у z-блогеров.\\n'\n",
       "                                      '\\n'\n",
       "                                      'Кроме того, как утверждает украинский '\n",
       "                                      'генштаб, россияне безуспешно пытались '\n",
       "                                      'контратаковать в двух местах на южном '\n",
       "                                      'фронте — там, где ранее удалось '\n",
       "                                      'продвинуться украинской армии, в '\n",
       "                                      'районах Новомайорского и Работина.\\n'\n",
       "                                      '\\n'\n",
       "                                      'В условиях войны Би-би-си не может '\n",
       "                                      'оперативно проверять утверждения '\n",
       "                                      'воюющих сторон.',\n",
       "                           'stance': 'altern',\n",
       "                           'summary': 'Судя по сводке украинского генштаба на '\n",
       "                                      'вечер 13 октября, российская армия '\n",
       "                                      'продолжает интенсивно атаковать на '\n",
       "                                      'нескольких участках восточного фронта, '\n",
       "                                      'но каких-либо успехов, как утверждает '\n",
       "                                      'генштаб, добиться пока не смогла. '\n",
       "                                      'Российская армия усиленно атакует в '\n",
       "                                      'районе Авдеевки под Донецком уже три '\n",
       "                                      'дня. Кроме того, как утверждает '\n",
       "                                      'украинский генштаб, россияне безуспешно '\n",
       "                                      'пытались контратаковать в двух местах '\n",
       "                                      'на южном фронте — там, где ранее '\n",
       "                                      'удалось продвинуться украинской армии, '\n",
       "                                      'в районах Новомайорского и Работина.',\n",
       "                           'views': 77682.0},\n",
       "              'score': 0.884579897,\n",
       "              'values': []}],\n",
       " 'namespace': ''}"
      ]
     },
     "execution_count": 51,
     "metadata": {},
     "output_type": "execute_result"
    }
   ],
   "source": [
    "res"
   ]
  },
  {
   "cell_type": "markdown",
   "metadata": {},
   "source": [
    "# Updating DB's (local & pinecone)"
   ]
  },
  {
   "cell_type": "markdown",
   "metadata": {},
   "source": [
    "- download message"
   ]
  },
  {
   "cell_type": "code",
   "execution_count": null,
   "metadata": {},
   "outputs": [],
   "source": [
    "# download latest messages from all channels\n",
    "df_channels = pd.read_csv(parent_path+'channels.csv', sep=';')\n",
    "\n",
    "df_channel_stats = pd.DataFrame() # store N of posts per channel per day\n",
    "session_time = datetime.datetime.now().strftime(\"%Y-%m-%d %H:%M:%S\") # to name session stats file\n",
    "\n",
    "# add new messages to channel's full csv-file and update last_id in channels.csv\n",
    "for i, row in tqdm(df_channels.iterrows(), total=df_channels.shape[0]):\n",
    "    channel = row['channel_name']\n",
    "    last_id = row['last_id']\n",
    "    async with TelegramClient('session', api_id, api_hash) as client:\n",
    "        data = []\n",
    "        # check if last_id is integer (=set)\n",
    "        try:\n",
    "            offset_id = int(last_id)\n",
    "        except:\n",
    "            offset_id = 0\n",
    "        async for message in client.iter_messages(channel, reverse=True, offset_id=offset_id):\n",
    "            data.append(message.to_dict())\n",
    "        # if no new messages, skip\n",
    "        if len(data) == 0:\n",
    "            continue\n",
    "        df = pd.DataFrame(data)\n",
    "        # cleaning messages\n",
    "        df.drop_duplicates(subset=['id'], inplace=True) #duplicates\n",
    "        df = df[~df.cleaned_message.str.len().between(0, 30)] #empty or too short messages\n",
    "        df['cleaned_message'] = df['message'].apply(clean_text) #remove emojis, urls, foreign agent text\n",
    "        # summarize cleaned_messages: 2 sentences if length > 750, 3 sentences if length > 1500\n",
    "        df['summary'] = df['cleaned_message'].apply(lambda x: summarize(x, sentences_count=2) if len(x) > 750 else summarize(x, sentences_count=3) if len(x) > 1500 else x)\n",
    "\n",
    "        # save to pickle to avoid problems with separators in csv\n",
    "        # if file exists, append to file\n",
    "        if os.path.isfile(data_path+channel+'.pkl'):\n",
    "            with open(data_path+channel+'.pkl', 'ab') as f:\n",
    "                df.to_pickle(f)\n",
    "        else:\n",
    "            df.to_pickle(data_path+channel+'.pkl')\n",
    "\n",
    "        # save session stats for channel\n",
    "        df_channel_stats[channel] = df['date'].dt.date.value_counts()\n",
    "        df_channel_stats.to_csv(parent_path+f'session_stats/channel_stats_{session_time}.csv', sep=';', index=True)\n",
    "        # update last_id in channels.csv\n",
    "        df_channels.loc[i, 'last_id'] = df['id'].max()\n",
    "        df_channels.to_csv(parent_path+'channels.csv', sep=';', index=False)"
   ]
  },
  {
   "cell_type": "code",
   "execution_count": null,
   "metadata": {},
   "outputs": [
    {
     "name": "stderr",
     "output_type": "stream",
     "text": [
      "100%|██████████| 48/48 [01:08<00:00,  1.44s/it]\n"
     ]
    }
   ],
   "source": [
    "start_date = datetime.datetime(2023, 10, 9)\n",
    "df_channel_stats = pd.DataFrame() # store N of posts per channel per day\n",
    "session_time = datetime.datetime.now().strftime(\"%Y-%m-%d %H:%M:%S\") # to name session stats file\n",
    "\n",
    "# add new messages to channel's full csv-file and update last_id in channels.csv\n",
    "for i, row in tqdm(df_channels.iterrows(), total=df_channels.shape[0]):\n",
    "    channel = row['channel_name']\n",
    "    last_id = row['last_id']\n",
    "    async with TelegramClient('session', api_id, api_hash) as client:\n",
    "        data = []\n",
    "        # check if last_id is integer (=set)\n",
    "        try:\n",
    "            offset_id = int(last_id)\n",
    "        except:\n",
    "            offset_id = 0\n",
    "        async for message in client.iter_messages(channel, reverse=True, offset_date=start_date, offset_id=offset_id):\n",
    "            data.append(message.to_dict())\n",
    "        # if no new messages, skip\n",
    "        if len(data) == 0:\n",
    "            continue\n",
    "        df = pd.DataFrame(data)\n",
    "        # cleaning messages\n",
    "        df.drop_duplicates(subset=['id'], inplace=True) #duplicates\n",
    "        df = df[~df.cleaned_message.str.len().between(0, 30)] #empty or too short messages\n",
    "        df['cleaned_message'] = df['message'].apply(clean_text) #remove emojis, urls, foreign agent text\n",
    "        # summarize cleaned_messages: 2 sentences if length > 750, 3 sentences if length > 1500\n",
    "        df['summary'] = df['cleaned_message'].apply(lambda x: summarize(x, sentences_count=2) if len(x) > 750 else summarize(x, sentences_count=3) if len(x) > 1500 else x)\n",
    "\n",
    "        # save to pickle to avoid problems with separators in csv\n",
    "        # if file exists, append to file\n",
    "        if os.path.isfile(data_path+channel+'.pkl'):\n",
    "            with open(data_path+channel+'.pkl', 'ab') as f:\n",
    "                df.to_pickle(f)\n",
    "        else:\n",
    "            df.to_pickle(data_path+channel+'.pkl')\n",
    "\n",
    "        # save session stats for channel\n",
    "        df_channel_stats[channel] = df['date'].dt.date.value_counts()\n",
    "        df_channel_stats.to_csv(parent_path+f'session_stats/channel_stats_{session_time}.csv', sep=';', index=True)\n",
    "        # update last_id in channels.csv\n",
    "        df_channels.loc[i, 'last_id'] = df['id'].max()\n",
    "        df_channels.to_csv(parent_path+'channels.csv', sep=';', index=False)"
   ]
  }
 ],
 "metadata": {
  "kernelspec": {
   "display_name": "db_prep",
   "language": "python",
   "name": "python3"
  },
  "language_info": {
   "codemirror_mode": {
    "name": "ipython",
    "version": 3
   },
   "file_extension": ".py",
   "mimetype": "text/x-python",
   "name": "python",
   "nbconvert_exporter": "python",
   "pygments_lexer": "ipython3",
   "version": "3.11.6"
  }
 },
 "nbformat": 4,
 "nbformat_minor": 2
}
